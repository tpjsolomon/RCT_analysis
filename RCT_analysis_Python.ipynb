{
  "nbformat": 4,
  "nbformat_minor": 0,
  "metadata": {
    "colab": {
      "provenance": [],
      "toc_visible": true
    },
    "kernelspec": {
      "name": "python3",
      "display_name": "Python 3"
    },
    "language_info": {
      "name": "python"
    }
  },
  "cells": [
    {
      "cell_type": "markdown",
      "source": [
        "# RCT statistical analysis\n",
        "<p>This workbook contains Python code for analysing a randomised controlled trial (RCT) in which participants with type 2 diabetes were randomized to one of two groups: \"Control\" (placebo) or \"Treatment\" (a glucose-lowering drug). In both groups, blood glucose (\"BloodGlucose\") was measured before and after 12 weeks.</p>\n",
        "<p>The data is fictional and was simulated.</p>\n",
        "<p>The null hypothesis was that there is no difference between the effect of treatment and the effect of control on blood glucose. The alternate hypothesis was that treatment improves (lowers) blood glucose more than control.</p>\n",
        "<p>The following statistical approaches were used to compare between group changes in blood glucose:</p>\n",
        "<ul>\n",
        "<li>Two-way repeated-measures ANOVA.</li>\n",
        "<li>Linear mixed modeling.</li>\n",
        "<li>Bayesian modeling.</li>\n",
        "</ul>"
      ],
      "metadata": {
        "id": "DBzIhgIpgnId"
      }
    },
    {
      "cell_type": "markdown",
      "source": [
        "# Install packages"
      ],
      "metadata": {
        "id": "6IeFzSLAiERk"
      }
    },
    {
      "cell_type": "code",
      "execution_count": 1,
      "metadata": {
        "colab": {
          "base_uri": "https://localhost:8080/"
        },
        "id": "L2--IWWFgfnl",
        "outputId": "fb071c83-c134-430f-cc8b-1c66e03ab613"
      },
      "outputs": [
        {
          "output_type": "stream",
          "name": "stdout",
          "text": [
            "Python 3.11.12\n"
          ]
        }
      ],
      "source": [
        "# python version\n",
        "!python --version"
      ]
    },
    {
      "cell_type": "code",
      "source": [
        "# load packages\n",
        "import numpy as np\n",
        "import pandas as pd\n",
        "import scipy\n",
        "import matplotlib.pyplot as plt\n",
        "import seaborn as sns"
      ],
      "metadata": {
        "id": "s8zWZh4-iCB5"
      },
      "execution_count": 2,
      "outputs": []
    },
    {
      "cell_type": "markdown",
      "source": [
        "# load data"
      ],
      "metadata": {
        "id": "u5yO-TVyiIl_"
      }
    },
    {
      "cell_type": "code",
      "source": [
        "# Use a power calculation to determine the sample size for a randomized controlled trial in which a two-way ANOVA will be used to assess the change in BloodGlucose in adults with type 2 diabetes before and after taking a diabetes drug or placebo for 12 weeks. So, the ANOVA will have main effect of time (pre, post), main effect of group (drug, placebo), and their interactions. The expected effect size for this change is Cohen's D = 0.4. Assume an equal number of participants per group. Include consideration for an attrition rate of 10%.\n",
        "\n",
        "import statsmodels.stats.power as smp\n",
        "\n",
        "# Define parameters\n",
        "effect_size = 0.4  # Cohen's d\n",
        "alpha = 0.05       # Significance level\n",
        "power = 0.80       # Desired power\n",
        "attrition_rate = 0.10 # Attrition rate\n",
        "\n",
        "# Account for attrition\n",
        "n_per_group_unadjusted = smp.FTestAnovaPower().solve_power(effect_size=effect_size,\n",
        "                                                        alpha=alpha,\n",
        "                                                        power=power,\n",
        "                                                        k_groups=2, # 2 groups (drug, placebo)\n",
        "                                                        nobs=None) # Solve for nobs (sample size)\n",
        "\n",
        "n_per_group = int(n_per_group_unadjusted / (1 - attrition_rate))\n",
        "\n",
        "# Calculate total sample size\n",
        "total_sample_size = n_per_group * 2 # 2 groups * samples per group\n",
        "\n",
        "print(f\"Unadjusted sample size per group: {n_per_group_unadjusted:.2f}\")\n",
        "print(f\"Adjusted sample size per group (accounting for {attrition_rate*100:.0f}% attrition): {n_per_group}\")\n",
        "print(f\"Total sample size: {total_sample_size}\")"
      ],
      "metadata": {
        "colab": {
          "base_uri": "https://localhost:8080/"
        },
        "id": "LfEqbedhiIG3",
        "outputId": "1291524d-3c60-49c9-96e2-6dad59815fbb"
      },
      "execution_count": 3,
      "outputs": [
        {
          "output_type": "stream",
          "name": "stdout",
          "text": [
            "Unadjusted sample size per group: 51.05\n",
            "Adjusted sample size per group (accounting for 10% attrition): 56\n",
            "Total sample size: 112\n"
          ]
        }
      ]
    },
    {
      "cell_type": "code",
      "source": [
        "# simulate data in a long format dataframe (df) for a randomized controlled trial of people ('ID') randomized to one of two groups: 'Control' and 'Treatment'. 'BloodGlucose' should be measured at two time points ('Time': Baseline and Week12). There should be 112 people in total, 56 in Control and 56 in Treatment. Each participant should have one 'BloodGlucose' measurement at Baseline and one at Week12. BloodGlucose values should range from 7 to 14 and should increase by approximately 0.5 in the Control group and decrease by approximately 1 in the Treatment group. There should be approximately a 10% attrition rate, i.e. Week12 BloodGlucose values should be missing for approximately 10% of the observations.\n",
        "\n",
        "# Set random seed for reproducibility\n",
        "np.random.seed(42)\n",
        "\n",
        "# Total number of participants\n",
        "n_total = 112\n",
        "n_per_group = n_total // 2  # 56 per group\n",
        "\n",
        "# Create participant IDs and assign groups\n",
        "IDs = np.arange(1, n_total + 1)\n",
        "groups = ['Control'] * n_per_group + ['Treatment'] * n_per_group\n",
        "df_participants = pd.DataFrame({'ID': IDs, 'Group': groups})\n",
        "\n",
        "# Simulate baseline BloodGlucose uniformly between 7 and 14 for each participant\n",
        "baseline_glucose = np.random.uniform(7, 14, size=n_total)\n",
        "\n",
        "# Create a dataframe for baseline measurements\n",
        "df_baseline = df_participants.copy()\n",
        "df_baseline['Time'] = 'Baseline'\n",
        "df_baseline['BloodGlucose'] = baseline_glucose\n",
        "\n",
        "# For Week12, simulate change according to group:\n",
        "#   Control: increase by ~0.5 (plus some small noise)\n",
        "#   Treatment: decrease by ~1 (plus some small noise)\n",
        "noise_control = np.random.normal(0, 0.2, size=n_per_group)\n",
        "noise_treatment = np.random.normal(0, 0.2, size=n_per_group)\n",
        "\n",
        "week12_glucose_control = baseline_glucose[:n_per_group] + 0.5 + noise_control\n",
        "week12_glucose_treatment = baseline_glucose[n_per_group:] - 1 + noise_treatment\n",
        "\n",
        "# Ensure values stay within the range [7, 14]\n",
        "week12_glucose_control = np.clip(week12_glucose_control, 7, 14)\n",
        "week12_glucose_treatment = np.clip(week12_glucose_treatment, 7, 14)\n",
        "\n",
        "# Combine the Week12 glucose values\n",
        "week12_glucose = np.concatenate([week12_glucose_control, week12_glucose_treatment])\n",
        "\n",
        "# Introduce a ~10% attrition rate for Week12 measurements\n",
        "attrition_mask = np.random.rand(n_total) < 0.10  # about 10% will be True (missing)\n",
        "week12_glucose[attrition_mask] = np.nan  # set those to missing\n",
        "\n",
        "# Create a dataframe for Week12 measurements\n",
        "df_week12 = df_participants.copy()\n",
        "df_week12['Time'] = 'Week12'\n",
        "df_week12['BloodGlucose'] = week12_glucose\n",
        "\n",
        "# Combine the baseline and Week12 dataframes into a long format dataframe\n",
        "df = pd.concat([df_baseline, df_week12], ignore_index=True)\n",
        "\n",
        "# Optionally, sort the dataframe by ID and Time for clarity\n",
        "df = df.sort_values(by=['ID', 'Time']).reset_index(drop=True)\n",
        "\n",
        "# Display the first few rows of the simulated dataframe\n",
        "print(df.head())"
      ],
      "metadata": {
        "colab": {
          "base_uri": "https://localhost:8080/"
        },
        "id": "m30ssjLsiK3e",
        "outputId": "0dc109ee-51c0-47cf-85fa-dc911b1b5713"
      },
      "execution_count": 4,
      "outputs": [
        {
          "output_type": "stream",
          "name": "stdout",
          "text": [
            "   ID    Group      Time  BloodGlucose\n",
            "0   1  Control  Baseline      9.621781\n",
            "1   1  Control    Week12     10.304861\n",
            "2   2  Control  Baseline     13.655000\n",
            "3   2  Control    Week12     14.000000\n",
            "4   3  Control  Baseline     12.123958\n"
          ]
        }
      ]
    },
    {
      "cell_type": "markdown",
      "source": [
        "# Exploratory data analysis"
      ],
      "metadata": {
        "id": "VRvsP2aWiQVk"
      }
    },
    {
      "cell_type": "code",
      "source": [
        "print(df.info())\n",
        "\n",
        "print(df.describe())"
      ],
      "metadata": {
        "colab": {
          "base_uri": "https://localhost:8080/"
        },
        "id": "HiuN2RnUiOGu",
        "outputId": "1ecfd37d-ea61-45e4-a3b7-c74168c58254"
      },
      "execution_count": 5,
      "outputs": [
        {
          "output_type": "stream",
          "name": "stdout",
          "text": [
            "<class 'pandas.core.frame.DataFrame'>\n",
            "RangeIndex: 224 entries, 0 to 223\n",
            "Data columns (total 4 columns):\n",
            " #   Column        Non-Null Count  Dtype  \n",
            "---  ------        --------------  -----  \n",
            " 0   ID            224 non-null    int64  \n",
            " 1   Group         224 non-null    object \n",
            " 2   Time          224 non-null    object \n",
            " 3   BloodGlucose  207 non-null    float64\n",
            "dtypes: float64(1), int64(1), object(2)\n",
            "memory usage: 7.1+ KB\n",
            "None\n",
            "               ID  BloodGlucose\n",
            "count  224.000000    207.000000\n",
            "mean    56.500000     10.129446\n",
            "std     32.402735      2.108440\n",
            "min      1.000000      7.000000\n",
            "25%     28.750000      8.269992\n",
            "50%     56.500000      9.872680\n",
            "75%     84.250000     11.926776\n",
            "max    112.000000     14.000000\n"
          ]
        }
      ]
    },
    {
      "cell_type": "markdown",
      "source": [
        "## Identify and deal with missing values"
      ],
      "metadata": {
        "id": "1sjVp8ejiZYv"
      }
    },
    {
      "cell_type": "code",
      "source": [
        "# Quantify the number of missing values\n",
        "df.isna().sum()"
      ],
      "metadata": {
        "colab": {
          "base_uri": "https://localhost:8080/",
          "height": 209
        },
        "id": "d0ZE1XwQiWZ7",
        "outputId": "f063dfe8-b333-4b54-8014-9f982821a6b5"
      },
      "execution_count": 6,
      "outputs": [
        {
          "output_type": "execute_result",
          "data": {
            "text/plain": [
              "ID               0\n",
              "Group            0\n",
              "Time             0\n",
              "BloodGlucose    17\n",
              "dtype: int64"
            ],
            "text/html": [
              "<div>\n",
              "<style scoped>\n",
              "    .dataframe tbody tr th:only-of-type {\n",
              "        vertical-align: middle;\n",
              "    }\n",
              "\n",
              "    .dataframe tbody tr th {\n",
              "        vertical-align: top;\n",
              "    }\n",
              "\n",
              "    .dataframe thead th {\n",
              "        text-align: right;\n",
              "    }\n",
              "</style>\n",
              "<table border=\"1\" class=\"dataframe\">\n",
              "  <thead>\n",
              "    <tr style=\"text-align: right;\">\n",
              "      <th></th>\n",
              "      <th>0</th>\n",
              "    </tr>\n",
              "  </thead>\n",
              "  <tbody>\n",
              "    <tr>\n",
              "      <th>ID</th>\n",
              "      <td>0</td>\n",
              "    </tr>\n",
              "    <tr>\n",
              "      <th>Group</th>\n",
              "      <td>0</td>\n",
              "    </tr>\n",
              "    <tr>\n",
              "      <th>Time</th>\n",
              "      <td>0</td>\n",
              "    </tr>\n",
              "    <tr>\n",
              "      <th>BloodGlucose</th>\n",
              "      <td>17</td>\n",
              "    </tr>\n",
              "  </tbody>\n",
              "</table>\n",
              "</div><br><label><b>dtype:</b> int64</label>"
            ]
          },
          "metadata": {},
          "execution_count": 6
        }
      ]
    },
    {
      "cell_type": "code",
      "source": [
        "# Drop rows with missing values in the 'BloodGlucose' column\n",
        "df = df.dropna(subset=['BloodGlucose'])\n",
        "print(df.isna().sum())"
      ],
      "metadata": {
        "colab": {
          "base_uri": "https://localhost:8080/"
        },
        "id": "qkj-gDCbiedd",
        "outputId": "5729ac06-d3a7-4e29-ff62-605639731cc3"
      },
      "execution_count": 7,
      "outputs": [
        {
          "output_type": "stream",
          "name": "stdout",
          "text": [
            "ID              0\n",
            "Group           0\n",
            "Time            0\n",
            "BloodGlucose    0\n",
            "dtype: int64\n"
          ]
        }
      ]
    },
    {
      "cell_type": "markdown",
      "source": [
        "## Identify outliers"
      ],
      "metadata": {
        "id": "YU2tQFAcig1z"
      }
    },
    {
      "cell_type": "code",
      "source": [
        "# Identify outliers by visualising the distribution of BloodGlucose with a boxplot. Use color-blind friendly colors\n",
        "\n",
        "# Create the boxplot\n",
        "plt.figure(figsize=(4, 3))\n",
        "sns.boxplot(x='BloodGlucose', data=df, color='#66c2a5') #Color-blind friendly color\n",
        "\n",
        "# Customize the plot\n",
        "plt.title('Distribution of Blood Glucose Levels', fontsize=14)\n",
        "plt.xlabel('Blood Glucose', fontsize=12)\n",
        "plt.ylabel('Values', fontsize=12)\n",
        "\n",
        "plt.show()"
      ],
      "metadata": {
        "colab": {
          "base_uri": "https://localhost:8080/",
          "height": 338
        },
        "id": "ckcC_1h4ie5D",
        "outputId": "160fb29e-d7d9-4460-eb05-bc58eac216c4"
      },
      "execution_count": 8,
      "outputs": [
        {
          "output_type": "display_data",
          "data": {
            "text/plain": [
              "<Figure size 400x300 with 1 Axes>"
            ],
            "image/png": "[encoded data removed]"
          },
          "metadata": {}
        }
      ]
    },
    {
      "cell_type": "code",
      "source": [
        "# Use the IQR method to remove outliers\n",
        "\n",
        "# Calculate Q1, Q3, and IQR\n",
        "Q1 = df['BloodGlucose'].quantile(0.25)\n",
        "Q3 = df['BloodGlucose'].quantile(0.75)\n",
        "IQR = Q3 - Q1\n",
        "\n",
        "# Define bounds for outlier detection\n",
        "lower_bound = Q1 - 1.5 * IQR\n",
        "upper_bound = Q3 + 1.5 * IQR\n",
        "\n",
        "# Identify outliers\n",
        "outliers = df[(df['BloodGlucose'] < lower_bound) | (df['BloodGlucose'] > upper_bound)]\n",
        "\n",
        "# Remove outliers\n",
        "df_no_outliers = df[(df['BloodGlucose'] >= lower_bound) & (df['BloodGlucose'] <= upper_bound)]\n",
        "\n",
        "# Display the number of outliers removed\n",
        "print(f\"Number of outliers removed: {len(outliers)}\")"
      ],
      "metadata": {
        "colab": {
          "base_uri": "https://localhost:8080/"
        },
        "id": "YEG22LHdii_p",
        "outputId": "f7ac7e32-c6bf-4a46-b43a-36a49b9215dd"
      },
      "execution_count": 9,
      "outputs": [
        {
          "output_type": "stream",
          "name": "stdout",
          "text": [
            "Number of outliers removed: 0\n"
          ]
        }
      ]
    },
    {
      "cell_type": "code",
      "source": [
        "# Re-examine the boxplot without outliers\n",
        "plt.figure(figsize=(4, 3))\n",
        "sns.boxplot(x='BloodGlucose', data=df_no_outliers, color='#66c2a5') #Color-blind friendly color\n",
        "\n",
        "# Customize the plot\n",
        "plt.title('Distribution of Blood Glucose Levels (Outliers Removed)', fontsize=14)\n",
        "plt.xlabel('Blood Glucose', fontsize=12)\n",
        "plt.ylabel('Values', fontsize=12)\n",
        "plt.show()"
      ],
      "metadata": {
        "colab": {
          "base_uri": "https://localhost:8080/",
          "height": 338
        },
        "id": "6eOxDrBQilGS",
        "outputId": "2521f5e5-5d24-4be5-f487-38f59d6545ae"
      },
      "execution_count": 10,
      "outputs": [
        {
          "output_type": "display_data",
          "data": {
            "text/plain": [
              "<Figure size 400x300 with 1 Axes>"
            ],
            "image/png": "[encoded data removed]"
          },
          "metadata": {}
        }
      ]
    },
    {
      "cell_type": "markdown",
      "source": [
        "## Test for normality and homogeneity of variance"
      ],
      "metadata": {
        "id": "ck7t7Gndio5E"
      }
    },
    {
      "cell_type": "code",
      "source": [
        "# Visualise the distribution of BloodGlucose with a histogram\n",
        "plt.figure(figsize=(4, 3))\n",
        "sns.histplot(df['BloodGlucose'], kde=True, color='#66c2a5')  #Color-blind friendly color\n",
        "plt.title('Distribution of Blood Glucose Levels', fontsize=14)\n",
        "plt.xlabel('Blood Glucose', fontsize=12)\n",
        "plt.ylabel('Frequency', fontsize=12)\n",
        "plt.show()"
      ],
      "metadata": {
        "colab": {
          "base_uri": "https://localhost:8080/",
          "height": 338
        },
        "id": "_HWFwwubimzF",
        "outputId": "e3ddd483-4ccb-4c27-ff4e-3089120d03e3"
      },
      "execution_count": 11,
      "outputs": [
        {
          "output_type": "display_data",
          "data": {
            "text/plain": [
              "<Figure size 400x300 with 1 Axes>"
            ],
            "image/png": "[encoded data removed]"
          },
          "metadata": {}
        }
      ]
    },
    {
      "cell_type": "code",
      "source": [
        "# Visualise the distribution of residuals with a Q-Q plot\n",
        "from statsmodels.graphics.gofplots import qqplot # Import qqplot from the correct submodule\n",
        "qqplot(df['BloodGlucose'], line='45')\n",
        "plt.title('Q-Q Plot of Blood Glucose Levels')\n",
        "plt.xlabel('Theoretical Quantiles')\n",
        "plt.ylabel('Sample Quantiles')\n",
        "plt.show()"
      ],
      "metadata": {
        "colab": {
          "base_uri": "https://localhost:8080/",
          "height": 472
        },
        "id": "rCB-xtbCiq7d",
        "outputId": "66600512-100e-4970-a478-a12142baac09"
      },
      "execution_count": 12,
      "outputs": [
        {
          "output_type": "display_data",
          "data": {
            "text/plain": [
              "<Figure size 640x480 with 1 Axes>"
            ],
            "image/png": "[encoded data removed]"
          },
          "metadata": {}
        }
      ]
    },
    {
      "cell_type": "code",
      "source": [
        "# test BloodGlucose for normality using shapiro wilks test\n",
        "\n",
        "# Test for normality using Shapiro-Wilk test\n",
        "from scipy.stats import shapiro\n",
        "\n",
        "# Assuming 'df' is your DataFrame and 'BloodGlucose' is the column\n",
        "stat, p = shapiro(df['BloodGlucose'].dropna()) # Drop NA values for the test\n",
        "\n",
        "print('Statistics=%.3f, p=%.3f' % (stat, p))\n",
        "\n",
        "alpha = 0.05\n",
        "if p > alpha:\n",
        "    print('Sample looks Gaussian (fail to reject H0)')\n",
        "else:\n",
        "    print('Sample does not look Gaussian (reject H0)')"
      ],
      "metadata": {
        "colab": {
          "base_uri": "https://localhost:8080/"
        },
        "id": "gyFTzDkwisdh",
        "outputId": "e242c260-56a9-4371-bc52-e94c85314fd0"
      },
      "execution_count": 13,
      "outputs": [
        {
          "output_type": "stream",
          "name": "stdout",
          "text": [
            "Statistics=0.944, p=0.000\n",
            "Sample does not look Gaussian (reject H0)\n"
          ]
        }
      ]
    },
    {
      "cell_type": "code",
      "source": [
        "# test BloodGlucose for homogeneity of variance using Bartlett's test if Shapiro-Wilk Test Statistic p-value>0.05 or use Levene's Test if Shapiro-Wilk Test Statistic p-value<0.05\n",
        "\n",
        "# Test for homogeneity of variance\n",
        "\n",
        "# Bartlett's test if Shapiro-Wilk p-value > 0.05\n",
        "if p > alpha:\n",
        "    stat, p_bartlett = scipy.stats.bartlett(df[df['Group'] == 'Control']['BloodGlucose'],\n",
        "                                            df[df['Group'] == 'Treatment']['BloodGlucose'])\n",
        "    print('Bartlett Test Statistics=%.3f, p=%.3f' % (stat, p_bartlett))\n",
        "    if p_bartlett > alpha:\n",
        "        print('Samples have equal variance (fail to reject H0)')\n",
        "    else:\n",
        "        print('Samples do not have equal variance (reject H0)')\n",
        "\n",
        "# Levene's test if Shapiro-Wilk p-value < 0.05\n",
        "else:\n",
        "    # Remove NaN (missing) values before applying the Levene test\n",
        "    control_data = df[df['Group'] == 'Control']['BloodGlucose'].dropna()\n",
        "    treatment_data = df[df['Group'] == 'Treatment']['BloodGlucose'].dropna()\n",
        "\n",
        "    stat, p_levene = scipy.stats.levene(control_data, treatment_data)\n",
        "    print('Levene Test Statistics=%.3f, p=%.3f' % (stat, p_levene))\n",
        "\n",
        "    if p_levene > alpha:\n",
        "        print('Samples have equal variance (fail to reject H0)')\n",
        "    else:\n",
        "        print('Samples do not have equal variance (reject H0)')"
      ],
      "metadata": {
        "colab": {
          "base_uri": "https://localhost:8080/"
        },
        "id": "ur0v7HaIiwVL",
        "outputId": "a8dd43ae-a2de-420f-ab7b-71c3cb40c63e"
      },
      "execution_count": 14,
      "outputs": [
        {
          "output_type": "stream",
          "name": "stdout",
          "text": [
            "Levene Test Statistics=0.681, p=0.410\n",
            "Samples have equal variance (fail to reject H0)\n"
          ]
        }
      ]
    },
    {
      "cell_type": "markdown",
      "source": [
        "<p>Data are not normally distributed so need to be transformed or scaled.</p>"
      ],
      "metadata": {
        "id": "V9X-jB02i12x"
      }
    },
    {
      "cell_type": "markdown",
      "source": [
        "## Log-transform data"
      ],
      "metadata": {
        "id": "7nuJu96oi58t"
      }
    },
    {
      "cell_type": "code",
      "source": [
        "# Create a new column with log-transformed blood glucose values\n",
        "df_no_outliers['log_BloodGlucose'] = np.log(df_no_outliers['BloodGlucose'])\n",
        "\n",
        "# Display the first few rows to verify the new column\n",
        "print(df_no_outliers.head())"
      ],
      "metadata": {
        "colab": {
          "base_uri": "https://localhost:8080/"
        },
        "id": "4AyJl1HYiyxn",
        "outputId": "1c033fa7-0276-4534-8dd7-071a27829fc7"
      },
      "execution_count": 15,
      "outputs": [
        {
          "output_type": "stream",
          "name": "stdout",
          "text": [
            "   ID    Group      Time  BloodGlucose  log_BloodGlucose\n",
            "0   1  Control  Baseline      9.621781          2.264029\n",
            "1   1  Control    Week12     10.304861          2.332616\n",
            "2   2  Control  Baseline     13.655000          2.614106\n",
            "3   2  Control    Week12     14.000000          2.639057\n",
            "4   3  Control  Baseline     12.123958          2.495183\n"
          ]
        }
      ]
    },
    {
      "cell_type": "code",
      "source": [
        "# Ensure Group and Time are categorical\n",
        "df_no_outliers['Group'] = df_no_outliers['Group'].astype('category')\n",
        "df_no_outliers['Time'] = df_no_outliers['Time'].astype('category')\n",
        "\n",
        "# Check data types of columns in the DataFrame\n",
        "df_no_outliers.dtypes"
      ],
      "metadata": {
        "colab": {
          "base_uri": "https://localhost:8080/",
          "height": 241
        },
        "id": "y5hoYKXvi7aQ",
        "outputId": "f525a3d4-6ca6-41f5-e896-1942199ee389"
      },
      "execution_count": 16,
      "outputs": [
        {
          "output_type": "execute_result",
          "data": {
            "text/plain": [
              "ID                     int64\n",
              "Group               category\n",
              "Time                category\n",
              "BloodGlucose         float64\n",
              "log_BloodGlucose     float64\n",
              "dtype: object"
            ],
            "text/html": [
              "<div>\n",
              "<style scoped>\n",
              "    .dataframe tbody tr th:only-of-type {\n",
              "        vertical-align: middle;\n",
              "    }\n",
              "\n",
              "    .dataframe tbody tr th {\n",
              "        vertical-align: top;\n",
              "    }\n",
              "\n",
              "    .dataframe thead th {\n",
              "        text-align: right;\n",
              "    }\n",
              "</style>\n",
              "<table border=\"1\" class=\"dataframe\">\n",
              "  <thead>\n",
              "    <tr style=\"text-align: right;\">\n",
              "      <th></th>\n",
              "      <th>0</th>\n",
              "    </tr>\n",
              "  </thead>\n",
              "  <tbody>\n",
              "    <tr>\n",
              "      <th>ID</th>\n",
              "      <td>int64</td>\n",
              "    </tr>\n",
              "    <tr>\n",
              "      <th>Group</th>\n",
              "      <td>category</td>\n",
              "    </tr>\n",
              "    <tr>\n",
              "      <th>Time</th>\n",
              "      <td>category</td>\n",
              "    </tr>\n",
              "    <tr>\n",
              "      <th>BloodGlucose</th>\n",
              "      <td>float64</td>\n",
              "    </tr>\n",
              "    <tr>\n",
              "      <th>log_BloodGlucose</th>\n",
              "      <td>float64</td>\n",
              "    </tr>\n",
              "  </tbody>\n",
              "</table>\n",
              "</div><br><label><b>dtype:</b> object</label>"
            ]
          },
          "metadata": {},
          "execution_count": 16
        }
      ]
    },
    {
      "cell_type": "markdown",
      "source": [
        "# Statistical analysis"
      ],
      "metadata": {
        "id": "z17RTewmi_Cw"
      }
    },
    {
      "cell_type": "code",
      "source": [],
      "metadata": {
        "id": "Dj5R7b2Si9Fz"
      },
      "execution_count": null,
      "outputs": []
    }
  ]
}