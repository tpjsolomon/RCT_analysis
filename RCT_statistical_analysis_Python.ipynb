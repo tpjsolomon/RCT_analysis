{
  "nbformat": 4,
  "nbformat_minor": 0,
  "metadata": {
    "colab": {
      "provenance": [],
      "toc_visible": true,
      "authorship_tag": "ABX9TyPNjwWDHTGEzMUX1VusoBAA"
    },
    "kernelspec": {
      "name": "python3",
      "display_name": "Python 3"
    },
    "language_info": {
      "name": "python"
    },
    "widgets": {
      "application/vnd.jupyter.widget-state+json": {
        "def9137003254645bdca438dd54e26ef": {
          "model_module": "@jupyter-widgets/output",
          "model_name": "OutputModel",
          "model_module_version": "1.0.0",
          "state": {
            "_dom_classes": [],
            "_model_module": "@jupyter-widgets/output",
            "_model_module_version": "1.0.0",
            "_model_name": "OutputModel",
            "_view_count": null,
            "_view_module": "@jupyter-widgets/output",
            "_view_module_version": "1.0.0",
            "_view_name": "OutputView",
            "layout": "IPY_MODEL_8f2eacc138e74ff29984a46be732c154",
            "msg_id": "",
            "outputs": [
              {
                "output_type": "display_data",
                "data": {
                  "text/plain": "                                                                                                                   \n \u001b[1m \u001b[0m\u001b[1mProgress                \u001b[0m\u001b[1m \u001b[0m \u001b[1m \u001b[0m\u001b[1mDraws\u001b[0m\u001b[1m \u001b[0m \u001b[1m \u001b[0m\u001b[1mDivergences\u001b[0m\u001b[1m \u001b[0m \u001b[1m \u001b[0m\u001b[1mStep size\u001b[0m\u001b[1m \u001b[0m \u001b[1m \u001b[0m\u001b[1mGrad evals\u001b[0m\u001b[1m \u001b[0m \u001b[1m \u001b[0m\u001b[1mSampling Speed \u001b[0m\u001b[1m \u001b[0m \u001b[1m \u001b[0m\u001b[1mElapsed\u001b[0m\u001b[1m \u001b[0m \u001b[1m \u001b[0m\u001b[1mRemaining\u001b[0m\u001b[1m \u001b[0m \n ───────────────────────────────────────────────────────────────────────────────────────────────────────────────── \n  \u001b[38;2;31;119;180m━━━━━━━━━━━━━━━━━━━━━━━━\u001b[0m   6000    0             0.67        7            1235.65 draws/s   0:00:04   0:00:00    \n  \u001b[38;2;31;119;180m━━━━━━━━━━━━━━━━━━━━━━━━\u001b[0m   6000    0             0.51        3            569.90 draws/s    0:00:10   0:00:00    \n                                                                                                                   \n",
                  "text/html": "<pre style=\"white-space:pre;overflow-x:auto;line-height:normal;font-family:Menlo,'DejaVu Sans Mono',consolas,'Courier New',monospace\">                                                                                                                   \n <span style=\"font-weight: bold\"> Progress                 </span> <span style=\"font-weight: bold\"> Draws </span> <span style=\"font-weight: bold\"> Divergences </span> <span style=\"font-weight: bold\"> Step size </span> <span style=\"font-weight: bold\"> Grad evals </span> <span style=\"font-weight: bold\"> Sampling Speed  </span> <span style=\"font-weight: bold\"> Elapsed </span> <span style=\"font-weight: bold\"> Remaining </span> \n ───────────────────────────────────────────────────────────────────────────────────────────────────────────────── \n  <span style=\"color: #1f77b4; text-decoration-color: #1f77b4\">━━━━━━━━━━━━━━━━━━━━━━━━</span>   6000    0             0.67        7            1235.65 draws/s   0:00:04   0:00:00    \n  <span style=\"color: #1f77b4; text-decoration-color: #1f77b4\">━━━━━━━━━━━━━━━━━━━━━━━━</span>   6000    0             0.51        3            569.90 draws/s    0:00:10   0:00:00    \n                                                                                                                   \n</pre>\n"
                },
                "metadata": {}
              }
            ]
          }
        },
        "8f2eacc138e74ff29984a46be732c154": {
          "model_module": "@jupyter-widgets/base",
          "model_name": "LayoutModel",
          "model_module_version": "1.2.0",
          "state": {
            "_model_module": "@jupyter-widgets/base",
            "_model_module_version": "1.2.0",
            "_model_name": "LayoutModel",
            "_view_count": null,
            "_view_module": "@jupyter-widgets/base",
            "_view_module_version": "1.2.0",
            "_view_name": "LayoutView",
            "align_content": null,
            "align_items": null,
            "align_self": null,
            "border": null,
            "bottom": null,
            "display": null,
            "flex": null,
            "flex_flow": null,
            "grid_area": null,
            "grid_auto_columns": null,
            "grid_auto_flow": null,
            "grid_auto_rows": null,
            "grid_column": null,
            "grid_gap": null,
            "grid_row": null,
            "grid_template_areas": null,
            "grid_template_columns": null,
            "grid_template_rows": null,
            "height": null,
            "justify_content": null,
            "justify_items": null,
            "left": null,
            "margin": null,
            "max_height": null,
            "max_width": null,
            "min_height": null,
            "min_width": null,
            "object_fit": null,
            "object_position": null,
            "order": null,
            "overflow": null,
            "overflow_x": null,
            "overflow_y": null,
            "padding": null,
            "right": null,
            "top": null,
            "visibility": null,
            "width": null
          }
        }
      }
    }
  },
  "cells": [
    {
      "cell_type": "markdown",
      "source": [
        "# RCT statistical analysis\n",
        "<p>This workbook contains Python code for analysing a randomised controlled trial (RCT) in which participants with type 2 diabetes were randomized to one of two groups: \"Control\" (placebo) or \"Treatment\" (a glucose-lowering drug). In both groups, blood glucose (\"BloodGlucose\") was measured before and after 12 weeks.\n",
        "<p>The data is fictional and was simulated.\n",
        "<p>The null hypothesis was that there is no difference between the effect of treatment and the effect of control on blood glucose. The alternate hypothesis was that treatment improves (lowers) blood glucose more than control.\n",
        "<p>The following statistical approaches were used to compare between group changes in blood glucose:\n",
        "<ul>\n",
        "<li>Two-way repeated-measures ANOVA.\n",
        "<li>Linear mixed modeling.\n",
        "<li>Bayesian modeling.\n",
        "<ul>"
      ],
      "metadata": {
        "id": "vByTevuNTX_P"
      }
    },
    {
      "cell_type": "markdown",
      "source": [
        "# install packages"
      ],
      "metadata": {
        "id": "PPUlm1b9VRSf"
      }
    },
    {
      "cell_type": "code",
      "source": [
        "# python version\n",
        "!python --version"
      ],
      "metadata": {
        "colab": {
          "base_uri": "https://localhost:8080/"
        },
        "id": "7Sdyte0DSyxY",
        "outputId": "a3ffa9b2-4e70-4e0c-9df7-ced7258d8c1f"
      },
      "execution_count": 1,
      "outputs": [
        {
          "output_type": "stream",
          "name": "stdout",
          "text": [
            "Python 3.11.12\n"
          ]
        }
      ]
    },
    {
      "cell_type": "code",
      "source": [
        "# load packages\n",
        "import numpy as np\n",
        "import pandas as pd\n",
        "import scipy\n",
        "import matplotlib.pyplot as plt\n",
        "import seaborn as sns"
      ],
      "metadata": {
        "id": "IAfQjGFaK3Vk"
      },
      "execution_count": 2,
      "outputs": []
    },
    {
      "cell_type": "markdown",
      "source": [
        "# load data"
      ],
      "metadata": {
        "id": "8iYL47_cV4s6"
      }
    },
    {
      "cell_type": "code",
      "source": [
        "# Use a power calculation to determine the sample size for a randomized controlled trial in which a two-way ANOVA will be used to assess the change in BloodGlucose in adults with type 2 diabetes before and after taking a diabetes drug or placebo for 12 weeks. So, the ANOVA will have main effect of time (pre, post), main effect of group (drug, placebo), and their interactions. The expected effect size for this change is Cohen's D = 0.4. Assume an equal number of participants per group. Include consideration for an attrition rate of 10%.\n",
        "\n",
        "import statsmodels.stats.power as smp\n",
        "\n",
        "# Define parameters\n",
        "effect_size = 0.4  # Cohen's d\n",
        "alpha = 0.05       # Significance level\n",
        "power = 0.80       # Desired power\n",
        "attrition_rate = 0.10 # Attrition rate\n",
        "\n",
        "# Account for attrition\n",
        "n_per_group_unadjusted = smp.FTestAnovaPower().solve_power(effect_size=effect_size,\n",
        "                                                        alpha=alpha,\n",
        "                                                        power=power,\n",
        "                                                        k_groups=2, # 2 groups (drug, placebo)\n",
        "                                                        nobs=None) # Solve for nobs (sample size)\n",
        "\n",
        "n_per_group = int(n_per_group_unadjusted / (1 - attrition_rate))\n",
        "\n",
        "# Calculate total sample size\n",
        "total_sample_size = n_per_group * 2 # 2 groups * samples per group\n",
        "\n",
        "print(f\"Unadjusted sample size per group: {n_per_group_unadjusted:.2f}\")\n",
        "print(f\"Adjusted sample size per group (accounting for {attrition_rate*100:.0f}% attrition): {n_per_group}\")\n",
        "print(f\"Total sample size: {total_sample_size}\")"
      ],
      "metadata": {
        "colab": {
          "base_uri": "https://localhost:8080/"
        },
        "id": "im4geKWSRyp1",
        "outputId": "5267b381-c08c-433d-aa35-9d0880cd85f2"
      },
      "execution_count": 3,
      "outputs": [
        {
          "output_type": "stream",
          "name": "stdout",
          "text": [
            "Unadjusted sample size per group: 51.05\n",
            "Adjusted sample size per group (accounting for 10% attrition): 56\n",
            "Total sample size: 112\n"
          ]
        }
      ]
    },
    {
      "cell_type": "code",
      "source": [
        "# simulate data in a long format dataframe (df) for a randomized controlled trial of people ('ID') randomized to one of two groups: 'Control' and 'Treatment'. 'BloodGlucose' should be measured at two time points ('Time': Baseline and Week12). There should be 112 people in total, 56 in Control and 56 in Treatment. Each participant should have one 'BloodGlucose' measurement at Baseline and one at Week12. BloodGlucose values should range from 7 to 14 and should increase by approximately 0.5 in the Control group and decrease by approximately 1 in the Treatment group. There should be approximately a 10% attrition rate, i.e. Week12 BloodGlucose values should be missing for approximately 10% of the observations.\n",
        "\n",
        "# Set random seed for reproducibility\n",
        "np.random.seed(42)\n",
        "\n",
        "# Total number of participants\n",
        "n_total = 112\n",
        "n_per_group = n_total // 2  # 56 per group\n",
        "\n",
        "# Create participant IDs and assign groups\n",
        "IDs = np.arange(1, n_total + 1)\n",
        "groups = ['Control'] * n_per_group + ['Treatment'] * n_per_group\n",
        "df_participants = pd.DataFrame({'ID': IDs, 'Group': groups})\n",
        "\n",
        "# Simulate baseline BloodGlucose uniformly between 7 and 14 for each participant\n",
        "baseline_glucose = np.random.uniform(7, 14, size=n_total)\n",
        "\n",
        "# Create a dataframe for baseline measurements\n",
        "df_baseline = df_participants.copy()\n",
        "df_baseline['Time'] = 'Baseline'\n",
        "df_baseline['BloodGlucose'] = baseline_glucose\n",
        "\n",
        "# For Week12, simulate change according to group:\n",
        "#   Control: increase by ~0.5 (plus some small noise)\n",
        "#   Treatment: decrease by ~1 (plus some small noise)\n",
        "noise_control = np.random.normal(0, 0.2, size=n_per_group)\n",
        "noise_treatment = np.random.normal(0, 0.2, size=n_per_group)\n",
        "\n",
        "week12_glucose_control = baseline_glucose[:n_per_group] + 0.5 + noise_control\n",
        "week12_glucose_treatment = baseline_glucose[n_per_group:] - 1 + noise_treatment\n",
        "\n",
        "# Ensure values stay within the range [7, 14]\n",
        "week12_glucose_control = np.clip(week12_glucose_control, 7, 14)\n",
        "week12_glucose_treatment = np.clip(week12_glucose_treatment, 7, 14)\n",
        "\n",
        "# Combine the Week12 glucose values\n",
        "week12_glucose = np.concatenate([week12_glucose_control, week12_glucose_treatment])\n",
        "\n",
        "# Introduce a ~10% attrition rate for Week12 measurements\n",
        "attrition_mask = np.random.rand(n_total) < 0.10  # about 10% will be True (missing)\n",
        "week12_glucose[attrition_mask] = np.nan  # set those to missing\n",
        "\n",
        "# Create a dataframe for Week12 measurements\n",
        "df_week12 = df_participants.copy()\n",
        "df_week12['Time'] = 'Week12'\n",
        "df_week12['BloodGlucose'] = week12_glucose\n",
        "\n",
        "# Combine the baseline and Week12 dataframes into a long format dataframe\n",
        "df = pd.concat([df_baseline, df_week12], ignore_index=True)\n",
        "\n",
        "# Optionally, sort the dataframe by ID and Time for clarity\n",
        "df = df.sort_values(by=['ID', 'Time']).reset_index(drop=True)\n",
        "\n",
        "# Display the first few rows of the simulated dataframe\n",
        "print(df.head())"
      ],
      "metadata": {
        "colab": {
          "base_uri": "https://localhost:8080/"
        },
        "id": "0-NQhd8zb8xo",
        "outputId": "3932eecd-dae1-4b4c-d0c0-f319158d1439"
      },
      "execution_count": 4,
      "outputs": [
        {
          "output_type": "stream",
          "name": "stdout",
          "text": [
            "   ID    Group      Time  BloodGlucose\n",
            "0   1  Control  Baseline      9.621781\n",
            "1   1  Control    Week12     10.304861\n",
            "2   2  Control  Baseline     13.655000\n",
            "3   2  Control    Week12     14.000000\n",
            "4   3  Control  Baseline     12.123958\n"
          ]
        }
      ]
    },
    {
      "cell_type": "markdown",
      "source": [
        "# Exploratory data analysis"
      ],
      "metadata": {
        "id": "egXOTMMBXnrC"
      }
    },
    {
      "cell_type": "code",
      "source": [
        "print(df.info())"
      ],
      "metadata": {
        "colab": {
          "base_uri": "https://localhost:8080/"
        },
        "id": "k1ybmMMzWpIl",
        "outputId": "f35be11d-de89-4dfc-bc3b-8c91cde2d9d7"
      },
      "execution_count": 5,
      "outputs": [
        {
          "output_type": "stream",
          "name": "stdout",
          "text": [
            "<class 'pandas.core.frame.DataFrame'>\n",
            "RangeIndex: 224 entries, 0 to 223\n",
            "Data columns (total 4 columns):\n",
            " #   Column        Non-Null Count  Dtype  \n",
            "---  ------        --------------  -----  \n",
            " 0   ID            224 non-null    int64  \n",
            " 1   Group         224 non-null    object \n",
            " 2   Time          224 non-null    object \n",
            " 3   BloodGlucose  207 non-null    float64\n",
            "dtypes: float64(1), int64(1), object(2)\n",
            "memory usage: 7.1+ KB\n",
            "None\n"
          ]
        }
      ]
    },
    {
      "cell_type": "code",
      "source": [
        "print(df.describe())"
      ],
      "metadata": {
        "colab": {
          "base_uri": "https://localhost:8080/"
        },
        "id": "w7r06msLWNg3",
        "outputId": "05890194-21ee-439c-b78f-c502e0ba4137"
      },
      "execution_count": 6,
      "outputs": [
        {
          "output_type": "stream",
          "name": "stdout",
          "text": [
            "               ID  BloodGlucose\n",
            "count  224.000000    207.000000\n",
            "mean    56.500000     10.129446\n",
            "std     32.402735      2.108440\n",
            "min      1.000000      7.000000\n",
            "25%     28.750000      8.269992\n",
            "50%     56.500000      9.872680\n",
            "75%     84.250000     11.926776\n",
            "max    112.000000     14.000000\n"
          ]
        }
      ]
    },
    {
      "cell_type": "markdown",
      "source": [
        "## Identify and deal with missing values"
      ],
      "metadata": {
        "id": "EKQ0SJtTXsEs"
      }
    },
    {
      "cell_type": "code",
      "source": [
        "# Quantify the number of missing values\n",
        "df.isna().sum()"
      ],
      "metadata": {
        "colab": {
          "base_uri": "https://localhost:8080/",
          "height": 209
        },
        "id": "60M5FqR-XJ85",
        "outputId": "199d2caf-9cd6-4e38-ef52-ddf49c94e902"
      },
      "execution_count": 7,
      "outputs": [
        {
          "output_type": "execute_result",
          "data": {
            "text/plain": [
              "ID               0\n",
              "Group            0\n",
              "Time             0\n",
              "BloodGlucose    17\n",
              "dtype: int64"
            ],
            "text/html": [
              "<div>\n",
              "<style scoped>\n",
              "    .dataframe tbody tr th:only-of-type {\n",
              "        vertical-align: middle;\n",
              "    }\n",
              "\n",
              "    .dataframe tbody tr th {\n",
              "        vertical-align: top;\n",
              "    }\n",
              "\n",
              "    .dataframe thead th {\n",
              "        text-align: right;\n",
              "    }\n",
              "</style>\n",
              "<table border=\"1\" class=\"dataframe\">\n",
              "  <thead>\n",
              "    <tr style=\"text-align: right;\">\n",
              "      <th></th>\n",
              "      <th>0</th>\n",
              "    </tr>\n",
              "  </thead>\n",
              "  <tbody>\n",
              "    <tr>\n",
              "      <th>ID</th>\n",
              "      <td>0</td>\n",
              "    </tr>\n",
              "    <tr>\n",
              "      <th>Group</th>\n",
              "      <td>0</td>\n",
              "    </tr>\n",
              "    <tr>\n",
              "      <th>Time</th>\n",
              "      <td>0</td>\n",
              "    </tr>\n",
              "    <tr>\n",
              "      <th>BloodGlucose</th>\n",
              "      <td>17</td>\n",
              "    </tr>\n",
              "  </tbody>\n",
              "</table>\n",
              "</div><br><label><b>dtype:</b> int64</label>"
            ]
          },
          "metadata": {},
          "execution_count": 7
        }
      ]
    },
    {
      "cell_type": "code",
      "source": [
        "# Drop rows with missing values in the 'BloodGlucose' column\n",
        "df = df.dropna(subset=['BloodGlucose'])\n",
        "print(df.isna().sum())"
      ],
      "metadata": {
        "colab": {
          "base_uri": "https://localhost:8080/"
        },
        "id": "boOcVr87avzv",
        "outputId": "420a453e-45e6-4db6-e95e-4cb1a3776d2b"
      },
      "execution_count": 8,
      "outputs": [
        {
          "output_type": "stream",
          "name": "stdout",
          "text": [
            "ID              0\n",
            "Group           0\n",
            "Time            0\n",
            "BloodGlucose    0\n",
            "dtype: int64\n"
          ]
        }
      ]
    },
    {
      "cell_type": "markdown",
      "source": [
        "## Identify outliers"
      ],
      "metadata": {
        "id": "JsRS1wYjX2km"
      }
    },
    {
      "cell_type": "code",
      "source": [
        "# Identify outliers by visualising the distribution of BloodGlucose with a boxplot. Use color-blind friendly colors\n",
        "\n",
        "# Create the boxplot\n",
        "plt.figure(figsize=(4, 3))\n",
        "sns.boxplot(x='BloodGlucose', data=df, color='#66c2a5') #Color-blind friendly color\n",
        "\n",
        "# Customize the plot\n",
        "plt.title('Distribution of Blood Glucose Levels', fontsize=14)\n",
        "plt.xlabel('Blood Glucose', fontsize=12)\n",
        "plt.ylabel('Values', fontsize=12)\n",
        "\n",
        "plt.show()"
      ],
      "metadata": {
        "colab": {
          "base_uri": "https://localhost:8080/",
          "height": 338
        },
        "id": "WKfQ-4V_XitI",
        "outputId": "55994941-d6c1-4c2e-ef8c-d5038ee8030f"
      },
      "execution_count": 9,
      "outputs": [
        {
          "output_type": "display_data",
          "data": {
            "text/plain": [
              "<Figure size 400x300 with 1 Axes>"
            ],
            "image/png": "[encoded data removed]"
          },
          "metadata": {}
        }
      ]
    },
    {
      "cell_type": "code",
      "source": [
        "# Use the IQR method to remove outliers\n",
        "\n",
        "# Calculate Q1, Q3, and IQR\n",
        "Q1 = df['BloodGlucose'].quantile(0.25)\n",
        "Q3 = df['BloodGlucose'].quantile(0.75)\n",
        "IQR = Q3 - Q1\n",
        "\n",
        "# Define bounds for outlier detection\n",
        "lower_bound = Q1 - 1.5 * IQR\n",
        "upper_bound = Q3 + 1.5 * IQR\n",
        "\n",
        "# Identify outliers\n",
        "outliers = df[(df['BloodGlucose'] < lower_bound) | (df['BloodGlucose'] > upper_bound)]\n",
        "\n",
        "# Remove outliers\n",
        "df_no_outliers = df[(df['BloodGlucose'] >= lower_bound) & (df['BloodGlucose'] <= upper_bound)]\n",
        "\n",
        "# Display the number of outliers removed\n",
        "print(f\"Number of outliers removed: {len(outliers)}\")"
      ],
      "metadata": {
        "colab": {
          "base_uri": "https://localhost:8080/"
        },
        "id": "HIk2RlEPYHue",
        "outputId": "56d81742-6390-43ce-cbc1-3add7c1372fb"
      },
      "execution_count": 10,
      "outputs": [
        {
          "output_type": "stream",
          "name": "stdout",
          "text": [
            "Number of outliers removed: 0\n"
          ]
        }
      ]
    },
    {
      "cell_type": "code",
      "source": [
        "# Re-examine the boxplot without outliers\n",
        "plt.figure(figsize=(4, 3))\n",
        "sns.boxplot(x='BloodGlucose', data=df_no_outliers, color='#66c2a5') #Color-blind friendly color\n",
        "\n",
        "# Customize the plot\n",
        "plt.title('Distribution of Blood Glucose Levels (Outliers Removed)', fontsize=14)\n",
        "plt.xlabel('Blood Glucose', fontsize=12)\n",
        "plt.ylabel('Values', fontsize=12)\n",
        "plt.show()"
      ],
      "metadata": {
        "colab": {
          "base_uri": "https://localhost:8080/",
          "height": 338
        },
        "id": "Uj-6LtvNY-PY",
        "outputId": "6725faed-f34f-40fb-a1b0-6a816ae1bc73"
      },
      "execution_count": 11,
      "outputs": [
        {
          "output_type": "display_data",
          "data": {
            "text/plain": [
              "<Figure size 400x300 with 1 Axes>"
            ],
            "image/png": "[encoded data removed]"
          },
          "metadata": {}
        }
      ]
    },
    {
      "cell_type": "markdown",
      "source": [
        "## Test for normality and homogeneity of variance"
      ],
      "metadata": {
        "id": "QuteQTnWZLYS"
      }
    },
    {
      "cell_type": "code",
      "source": [
        "# Visualise the distribution of BloodGlucose with a histogram\n",
        "plt.figure(figsize=(4, 3))\n",
        "sns.histplot(df['BloodGlucose'], kde=True, color='#66c2a5')  #Color-blind friendly color\n",
        "plt.title('Distribution of Blood Glucose Levels', fontsize=14)\n",
        "plt.xlabel('Blood Glucose', fontsize=12)\n",
        "plt.ylabel('Frequency', fontsize=12)\n",
        "plt.show()"
      ],
      "metadata": {
        "colab": {
          "base_uri": "https://localhost:8080/",
          "height": 338
        },
        "id": "6nnHPi1BZF9Q",
        "outputId": "47b343b2-bea4-42d0-bb04-c106c29fbd86"
      },
      "execution_count": 12,
      "outputs": [
        {
          "output_type": "display_data",
          "data": {
            "text/plain": [
              "<Figure size 400x300 with 1 Axes>"
            ],
            "image/png": "[encoded data removed]"
          },
          "metadata": {}
        }
      ]
    },
    {
      "cell_type": "code",
      "source": [
        "# Visualise the distribution of residuals with a Q-Q plot\n",
        "from statsmodels.graphics.gofplots import qqplot # Import qqplot from the correct submodule\n",
        "qqplot(df['BloodGlucose'], line='45')\n",
        "plt.title('Q-Q Plot of Blood Glucose Levels')\n",
        "plt.xlabel('Theoretical Quantiles')\n",
        "plt.ylabel('Sample Quantiles')\n",
        "plt.show()"
      ],
      "metadata": {
        "colab": {
          "base_uri": "https://localhost:8080/",
          "height": 472
        },
        "id": "qN-69aWWZgRw",
        "outputId": "74c99cf4-86eb-4057-d635-9e1f86055aaa"
      },
      "execution_count": 13,
      "outputs": [
        {
          "output_type": "display_data",
          "data": {
            "text/plain": [
              "<Figure size 640x480 with 1 Axes>"
            ],
            "image/png": "[encoded data removed]"
          },
          "metadata": {}
        }
      ]
    },
    {
      "cell_type": "code",
      "source": [
        "# test BloodGlucose for normality using shapiro wilks test\n",
        "\n",
        "# Test for normality using Shapiro-Wilk test\n",
        "from scipy.stats import shapiro\n",
        "\n",
        "# Assuming 'df' is your DataFrame and 'BloodGlucose' is the column\n",
        "stat, p = shapiro(df['BloodGlucose'].dropna()) # Drop NA values for the test\n",
        "\n",
        "print('Statistics=%.3f, p=%.3f' % (stat, p))\n",
        "\n",
        "alpha = 0.05\n",
        "if p > alpha:\n",
        "    print('Sample looks Gaussian (fail to reject H0)')\n",
        "else:\n",
        "    print('Sample does not look Gaussian (reject H0)')"
      ],
      "metadata": {
        "colab": {
          "base_uri": "https://localhost:8080/"
        },
        "id": "OxR7DdnMZzzJ",
        "outputId": "15cf90e5-cb0e-4279-a7f4-5e21e747baf5"
      },
      "execution_count": 14,
      "outputs": [
        {
          "output_type": "stream",
          "name": "stdout",
          "text": [
            "Statistics=0.944, p=0.000\n",
            "Sample does not look Gaussian (reject H0)\n"
          ]
        }
      ]
    },
    {
      "cell_type": "code",
      "source": [
        "# test BloodGlucose for homogeneity of variance using Bartlett's test if Shapiro-Wilk Test Statistic p-value>0.05 or use Levene's Test if Shapiro-Wilk Test Statistic p-value<0.05\n",
        "\n",
        "# Test for homogeneity of variance\n",
        "\n",
        "# Bartlett's test if Shapiro-Wilk p-value > 0.05\n",
        "if p > alpha:\n",
        "    stat, p_bartlett = scipy.stats.bartlett(df[df['Group'] == 'Control']['BloodGlucose'],\n",
        "                                            df[df['Group'] == 'Treatment']['BloodGlucose'])\n",
        "    print('Bartlett Test Statistics=%.3f, p=%.3f' % (stat, p_bartlett))\n",
        "    if p_bartlett > alpha:\n",
        "        print('Samples have equal variance (fail to reject H0)')\n",
        "    else:\n",
        "        print('Samples do not have equal variance (reject H0)')\n",
        "\n",
        "# Levene's test if Shapiro-Wilk p-value < 0.05\n",
        "else:\n",
        "    # Remove NaN (missing) values before applying the Levene test\n",
        "    control_data = df[df['Group'] == 'Control']['BloodGlucose'].dropna()\n",
        "    treatment_data = df[df['Group'] == 'Treatment']['BloodGlucose'].dropna()\n",
        "\n",
        "    stat, p_levene = scipy.stats.levene(control_data, treatment_data)\n",
        "    print('Levene Test Statistics=%.3f, p=%.3f' % (stat, p_levene))\n",
        "\n",
        "    if p_levene > alpha:\n",
        "        print('Samples have equal variance (fail to reject H0)')\n",
        "    else:\n",
        "        print('Samples do not have equal variance (reject H0)')"
      ],
      "metadata": {
        "colab": {
          "base_uri": "https://localhost:8080/"
        },
        "id": "qIj5dIvEYFFh",
        "outputId": "b76c5208-1040-4bb2-f21c-df603184d95b"
      },
      "execution_count": 15,
      "outputs": [
        {
          "output_type": "stream",
          "name": "stdout",
          "text": [
            "Levene Test Statistics=0.681, p=0.410\n",
            "Samples have equal variance (fail to reject H0)\n"
          ]
        }
      ]
    },
    {
      "cell_type": "markdown",
      "source": [
        "Data are not normally distributed so need to be transformed or scaled."
      ],
      "metadata": {
        "id": "8KWCPSApagPy"
      }
    },
    {
      "cell_type": "markdown",
      "source": [
        "## Log-transform data"
      ],
      "metadata": {
        "id": "kWAZU0PtbAON"
      }
    },
    {
      "cell_type": "code",
      "source": [
        "# Create a new column with log-transformed blood glucose values\n",
        "df_no_outliers['log_BloodGlucose'] = np.log(df_no_outliers['BloodGlucose'])\n",
        "\n",
        "# Display the first few rows to verify the new column\n",
        "print(df_no_outliers.head())"
      ],
      "metadata": {
        "colab": {
          "base_uri": "https://localhost:8080/"
        },
        "id": "Z_SiKZFjY1RT",
        "outputId": "1a7b415f-ef33-4e5f-e010-0cd4ab33997e"
      },
      "execution_count": 16,
      "outputs": [
        {
          "output_type": "stream",
          "name": "stdout",
          "text": [
            "   ID    Group      Time  BloodGlucose  log_BloodGlucose\n",
            "0   1  Control  Baseline      9.621781          2.264029\n",
            "1   1  Control    Week12     10.304861          2.332616\n",
            "2   2  Control  Baseline     13.655000          2.614106\n",
            "3   2  Control    Week12     14.000000          2.639057\n",
            "4   3  Control  Baseline     12.123958          2.495183\n"
          ]
        }
      ]
    },
    {
      "cell_type": "code",
      "source": [
        "# Ensure Group and Time are categorical\n",
        "df_no_outliers['Group'] = df_no_outliers['Group'].astype('category')\n",
        "df_no_outliers['Time'] = df_no_outliers['Time'].astype('category')\n",
        "\n",
        "# Check data types of columns in the DataFrame\n",
        "df_no_outliers.dtypes"
      ],
      "metadata": {
        "colab": {
          "base_uri": "https://localhost:8080/",
          "height": 241
        },
        "id": "5pVmqf65efhT",
        "outputId": "15e9e2e8-8890-4d0f-b368-982b5c6d95ea"
      },
      "execution_count": 17,
      "outputs": [
        {
          "output_type": "execute_result",
          "data": {
            "text/plain": [
              "ID                     int64\n",
              "Group               category\n",
              "Time                category\n",
              "BloodGlucose         float64\n",
              "log_BloodGlucose     float64\n",
              "dtype: object"
            ],
            "text/html": [
              "<div>\n",
              "<style scoped>\n",
              "    .dataframe tbody tr th:only-of-type {\n",
              "        vertical-align: middle;\n",
              "    }\n",
              "\n",
              "    .dataframe tbody tr th {\n",
              "        vertical-align: top;\n",
              "    }\n",
              "\n",
              "    .dataframe thead th {\n",
              "        text-align: right;\n",
              "    }\n",
              "</style>\n",
              "<table border=\"1\" class=\"dataframe\">\n",
              "  <thead>\n",
              "    <tr style=\"text-align: right;\">\n",
              "      <th></th>\n",
              "      <th>0</th>\n",
              "    </tr>\n",
              "  </thead>\n",
              "  <tbody>\n",
              "    <tr>\n",
              "      <th>ID</th>\n",
              "      <td>int64</td>\n",
              "    </tr>\n",
              "    <tr>\n",
              "      <th>Group</th>\n",
              "      <td>category</td>\n",
              "    </tr>\n",
              "    <tr>\n",
              "      <th>Time</th>\n",
              "      <td>category</td>\n",
              "    </tr>\n",
              "    <tr>\n",
              "      <th>BloodGlucose</th>\n",
              "      <td>float64</td>\n",
              "    </tr>\n",
              "    <tr>\n",
              "      <th>log_BloodGlucose</th>\n",
              "      <td>float64</td>\n",
              "    </tr>\n",
              "  </tbody>\n",
              "</table>\n",
              "</div><br><label><b>dtype:</b> object</label>"
            ]
          },
          "metadata": {},
          "execution_count": 17
        }
      ]
    },
    {
      "cell_type": "markdown",
      "source": [
        "# Statistical analysis"
      ],
      "metadata": {
        "id": "rVShK9VVbehd"
      }
    },
    {
      "cell_type": "markdown",
      "source": [
        "## Two-way repeated-measures ANOVA"
      ],
      "metadata": {
        "id": "fx-0wBSraqqZ"
      }
    },
    {
      "cell_type": "code",
      "source": [
        "# Perform a two-way (Group_Encoded  x Time_Encoded) mixed ANOVA on BloodGlucose  with posthoc using dependent T-tests between groups and a Bonferroni correction for multiple comparisons\n",
        "\n",
        "from statsmodels.formula.api import ols\n",
        "from statsmodels.stats.anova import anova_lm\n",
        "from statsmodels.stats.multicomp import pairwise_tukeyhsd\n",
        "\n",
        "# Fit the ANOVA model\n",
        "model = ols('log_BloodGlucose ~ C(Group) * C(Time)', data=df_no_outliers).fit()\n",
        "\n",
        "# Perform the ANOVA\n",
        "anova_results = anova_lm(model)\n",
        "\n",
        "# Display the results\n",
        "print(anova_results)\n",
        "\n",
        "# Interpret the p-values\n",
        "alpha = 0.05  # Significance level\n",
        "for term, p_value in anova_results['PR(>F)'].items():\n",
        "    if p_value < alpha:\n",
        "        print(f\"\\nFactor/Interaction '{term}' is statistically significant (p-value = {p_value:.4f}).\")\n",
        "    else:\n",
        "        print(f\"\\nFactor/Interaction '{term}' is not statistically significant (p-value = {p_value:.4f}).\")\n",
        "\n",
        "# Post hoc analysis - Pairwise comparisons using Tukey's HSD\n",
        "# If 'Group' is significant, perform Tukey's test for pairwise comparisons of Group\n",
        "if anova_results.loc['C(Group)', 'PR(>F)'] < alpha:\n",
        "    print(\"\\nPost Hoc Test - Pairwise Comparison for 'Group' (Control vs Treatment):\")\n",
        "    tukey_group = pairwise_tukeyhsd(df_no_outliers['log_BloodGlucose'], df_no_outliers['Group'])\n",
        "    print(tukey_group)\n",
        "\n",
        "# If 'Time' is significant, perform Tukey's test for pairwise comparisons of Time\n",
        "if anova_results.loc['C(Time)', 'PR(>F)'] < alpha:\n",
        "    print(\"\\nPost Hoc Test - Pairwise Comparison for 'Time' (Baseline vs Week12):\")\n",
        "    tukey_time = pairwise_tukeyhsd(df_no_outliers['log_BloodGlucose'], df_no_outliers['Time'])\n",
        "    print(tukey_time)\n",
        "\n",
        "# If interaction ('Group:Time') is significant, perform Tukey's test for pairwise comparisons of each combination\n",
        "if anova_results.loc['C(Group):C(Time)', 'PR(>F)'] < alpha:\n",
        "    print(\"\\nPost Hoc Test - Pairwise Comparison for 'Group x Time' interaction:\")\n",
        "    # Create a new grouping variable by combining 'Group' and 'Time'\n",
        "    df_no_outliers['Group_Time'] = df_no_outliers['Group'].astype(str) + '_' + df_no_outliers['Time'].astype(str) # Create a new column 'Group_Time'\n",
        "    tukey_interaction = pairwise_tukeyhsd(df_no_outliers['log_BloodGlucose'], df_no_outliers['Group_Time'])  # Use the new column for Tukey's test\n",
        "    print(tukey_interaction)"
      ],
      "metadata": {
        "colab": {
          "base_uri": "https://localhost:8080/"
        },
        "id": "MQDT-zgnb6RW",
        "outputId": "eca87db1-7f94-47ce-b16c-6d459be3a8d7"
      },
      "execution_count": 18,
      "outputs": [
        {
          "output_type": "stream",
          "name": "stdout",
          "text": [
            "                     df    sum_sq   mean_sq          F    PR(>F)\n",
            "C(Group)            1.0  0.499983  0.499983  12.224610  0.000579\n",
            "C(Time)             1.0  0.028524  0.028524   0.697410  0.404637\n",
            "C(Group):C(Time)    1.0  0.221417  0.221417   5.413672  0.020966\n",
            "Residual          203.0  8.302635  0.040900        NaN       NaN\n",
            "\n",
            "Factor/Interaction 'C(Group)' is statistically significant (p-value = 0.0006).\n",
            "\n",
            "Factor/Interaction 'C(Time)' is not statistically significant (p-value = 0.4046).\n",
            "\n",
            "Factor/Interaction 'C(Group):C(Time)' is statistically significant (p-value = 0.0210).\n",
            "\n",
            "Factor/Interaction 'Residual' is not statistically significant (p-value = nan).\n",
            "\n",
            "Post Hoc Test - Pairwise Comparison for 'Group' (Control vs Treatment):\n",
            "  Multiple Comparison of Means - Tukey HSD, FWER=0.05   \n",
            "========================================================\n",
            " group1   group2  meandiff p-adj   lower   upper  reject\n",
            "--------------------------------------------------------\n",
            "Control Treatment  -0.0983 0.0007 -0.1543 -0.0423   True\n",
            "--------------------------------------------------------\n",
            "\n",
            "Post Hoc Test - Pairwise Comparison for 'Group x Time' interaction:\n",
            "            Multiple Comparison of Means - Tukey HSD, FWER=0.05             \n",
            "============================================================================\n",
            "      group1             group2       meandiff p-adj   lower   upper  reject\n",
            "----------------------------------------------------------------------------\n",
            "  Control_Baseline     Control_Week12   0.0417 0.7212 -0.0613  0.1448  False\n",
            "  Control_Baseline Treatment_Baseline  -0.0382 0.7502 -0.1372  0.0608  False\n",
            "  Control_Baseline   Treatment_Week12  -0.1277 0.0088 -0.2314 -0.0241   True\n",
            "    Control_Week12 Treatment_Baseline  -0.0799 0.1884 -0.1829  0.0232  False\n",
            "    Control_Week12   Treatment_Week12  -0.1694 0.0004 -0.2769 -0.0619   True\n",
            "Treatment_Baseline   Treatment_Week12  -0.0896 0.1164 -0.1932  0.0141  False\n",
            "----------------------------------------------------------------------------\n"
          ]
        }
      ]
    },
    {
      "cell_type": "markdown",
      "source": [
        "### Effect sizes and Statistical power"
      ],
      "metadata": {
        "id": "lDEcJT31A4Fb"
      }
    },
    {
      "cell_type": "code",
      "source": [
        "# Calculate effect size (eta-squared) of the ANOVA model using pingouin\n",
        "!pip install pingouin --quiet --progress-bar off\n",
        "import pingouin as pg\n",
        "\n",
        "aov = pg.mixed_anova(dv='log_BloodGlucose', between='Group', within='Time', subject='ID', data=df_no_outliers)\n",
        "print(aov)"
      ],
      "metadata": {
        "colab": {
          "base_uri": "https://localhost:8080/"
        },
        "id": "Nvmyn4Tbde_V",
        "outputId": "07842972-b0ad-413c-bf93-04a68e28e89b"
      },
      "execution_count": 21,
      "outputs": [
        {
          "output_type": "stream",
          "name": "stdout",
          "text": [
            "        Source        SS  DF1  DF2        MS           F         p-unc  \\\n",
            "0        Group  0.474457    1   93  0.474457    5.852399  1.750164e-02   \n",
            "1         Time  0.023987    1   93  0.023987   66.270892  1.721286e-12   \n",
            "2  Interaction  0.229395    1   93  0.229395  633.763589  2.662385e-43   \n",
            "\n",
            "        np2  eps  \n",
            "0  0.059203  NaN  \n",
            "1  0.416089  1.0  \n",
            "2  0.872035  NaN  \n"
          ]
        }
      ]
    },
    {
      "cell_type": "code",
      "source": [
        "# Interpret eta-squared\n",
        "def get_effect_size_description(eta, criteria):\n",
        "    if eta < criteria['small']:\n",
        "        return \"trivial\"\n",
        "    elif eta < criteria['medium']:\n",
        "        return \"small\"\n",
        "    elif eta < criteria['large']:\n",
        "        return \"medium\"\n",
        "    else:\n",
        "        return \"large\"\n",
        "\n",
        "# Define the criteria thresholds for small and medium effect sizes.\n",
        "eta_squared_criteria = {\n",
        "        'small': 0.01,\n",
        "    'medium': 0.06,\n",
        "    'large': 0.14\n",
        "}\n",
        "\n",
        "# Extract relevant statistics\n",
        "eta_squared_group = aov['np2'][0]  # Partial eta-squared for the 'Group' effect\n",
        "eta_squared_time = aov['np2'][1]  # Partial eta-squared for the 'Time' effect\n",
        "eta_squared_interaction = aov['np2'][2]  # Partial eta-squared for the 'Interaction' effect\n",
        "\n",
        "# define the descriptors\n",
        "effect_size_description_group = get_effect_size_description(eta_squared_group, eta_squared_criteria)\n",
        "effect_size_description_time = get_effect_size_description(eta_squared_time, eta_squared_criteria)\n",
        "effect_size_description_interaction = get_effect_size_description(eta_squared_interaction, eta_squared_criteria)\n",
        "\n",
        "print(f\"Partial Eta Squared for Group = {eta_squared_group:.3f}, indicating a {effect_size_description_group} effect.\")\n",
        "print(f\"Partial Eta Squared for Time = {eta_squared_time:.3f}, indicating a {effect_size_description_time} effect.\")\n",
        "print(f\"Partial Eta Squared for GroupxTime = {eta_squared_interaction:.3f}, indicating a {effect_size_description_interaction} effect.\")"
      ],
      "metadata": {
        "colab": {
          "base_uri": "https://localhost:8080/"
        },
        "id": "LLAV6qarfbfH",
        "outputId": "d755ec4b-1cc2-4604-9fe4-74cbad0b21b0"
      },
      "execution_count": 22,
      "outputs": [
        {
          "output_type": "stream",
          "name": "stdout",
          "text": [
            "Partial Eta Squared for Group = 0.059, indicating a small effect.\n",
            "Partial Eta Squared for Time = 0.416, indicating a large effect.\n",
            "Partial Eta Squared for GroupxTime = 0.872, indicating a large effect.\n"
          ]
        }
      ]
    },
    {
      "cell_type": "code",
      "source": [
        "# convert eta-squared to cohen's d\n",
        "def eta_squared_to_cohens_d(eta_squared, n):\n",
        "    cohens_d = np.sqrt(eta_squared / (1 - eta_squared)) * np.sqrt(2)\n",
        "    return cohens_d\n",
        "\n",
        "# interpret cohen's d effect sizes\n",
        "def interpret_cohens_d(cohens_d):\n",
        "    if abs(cohens_d) < 0.2:\n",
        "        return \"Trivial effect\"\n",
        "    elif abs(cohens_d) < 0.5:\n",
        "        return \"Small effect\"\n",
        "    elif abs(cohens_d) < 0.8:\n",
        "        return \"Medium effect\"\n",
        "    else:\n",
        "        return \"Large effect\"\n",
        "\n",
        "# Calculate Cohen's d:\n",
        "n_group = len(df_no_outliers)  # sample size\n",
        "cohens_d_group = eta_squared_to_cohens_d(eta_squared_group, n_group)\n",
        "cohens_d_time = eta_squared_to_cohens_d(eta_squared_time, n_group)\n",
        "cohens_d_interaction = eta_squared_to_cohens_d(eta_squared_interaction, n_group)\n",
        "\n",
        "# define cohen's d interpretation\n",
        "cohens_interpretation_group = interpret_cohens_d(cohens_d_group)\n",
        "cohens_interpretation_time = interpret_cohens_d(cohens_d_time)\n",
        "cohens_interpretation_interaction = interpret_cohens_d(cohens_d_interaction)\n",
        "\n",
        "\n",
        "print(f\"Cohen's d for Group effect: {cohens_d_group:.3f}, which is a {cohens_interpretation_group}\")\n",
        "\n",
        "print(f\"Cohen's d for Time effect: {cohens_d_time:.3f}, which is a {cohens_interpretation_time}\")\n",
        "\n",
        "print(f\"Cohen's d for Interaction effect: {cohens_d_interaction:.3f}, which is a {cohens_interpretation_interaction}\")"
      ],
      "metadata": {
        "colab": {
          "base_uri": "https://localhost:8080/"
        },
        "id": "U_9uWoEji2-L",
        "outputId": "e84e04e4-924b-4c55-f791-ce716e7a9104"
      },
      "execution_count": 23,
      "outputs": [
        {
          "output_type": "stream",
          "name": "stdout",
          "text": [
            "Cohen's d for Group effect: 0.355, which is a Small effect\n",
            "Cohen's d for Time effect: 1.194, which is a Large effect\n",
            "Cohen's d for Interaction effect: 3.692, which is a Large effect\n"
          ]
        }
      ]
    },
    {
      "cell_type": "code",
      "source": [
        "# Calculate statistical power for main effects and interaction\n",
        "import statsmodels.stats.power as smp\n",
        "\n",
        "# Define parameters for power analysis\n",
        "alpha = 0.05       # Significance level\n",
        "n_per_group = 56   # Sample size per group (from previous power calculation)\n",
        "\n",
        "# Power analysis for main effects (Time)\n",
        "power_time = smp.FTestAnovaPower().solve_power(effect_size=cohens_d_time,\n",
        "                                             alpha=alpha,\n",
        "                                             nobs=n_per_group,\n",
        "                                             k_groups=2)  # Two time points (Baseline and Week12)\n",
        "print(f\"Statistical power for main effect of Time: {power_time:.4f}\")\n",
        "\n",
        "# Power analysis for main effects (Group)\n",
        "power_group = smp.FTestAnovaPower().solve_power(effect_size=cohens_d_group,\n",
        "                                              alpha=alpha,\n",
        "                                              nobs=n_per_group,\n",
        "                                              k_groups=2)  # Two groups (Control and Treatment)\n",
        "print(f\"Statistical power for main effect of Group: {power_group:.4f}\")"
      ],
      "metadata": {
        "id": "QmAUABMVA5gG",
        "colab": {
          "base_uri": "https://localhost:8080/"
        },
        "outputId": "3e4689c5-2f55-4af5-fddc-d3d59ea368a2"
      },
      "execution_count": 24,
      "outputs": [
        {
          "output_type": "stream",
          "name": "stdout",
          "text": [
            "Statistical power for main effect of Time: 1.0000\n",
            "Statistical power for main effect of Group: 0.7413\n"
          ]
        }
      ]
    },
    {
      "cell_type": "markdown",
      "source": [
        "## Linear mixed model"
      ],
      "metadata": {
        "id": "MSwNph8nd2Mc"
      }
    },
    {
      "cell_type": "code",
      "source": [
        "# use a linear mixed model to analyse the change in BloodGlucose\n",
        "\n",
        "import statsmodels.formula.api as smf\n",
        "\n",
        "# Fit the linear mixed model\n",
        "lmm_model = smf.mixedlm(\"log_BloodGlucose ~ C(Group) * C(Time)\", df_no_outliers, groups=df_no_outliers[\"ID\"]).fit()\n",
        "\n",
        "# Print the model summary\n",
        "print(lmm_model.summary())"
      ],
      "metadata": {
        "colab": {
          "base_uri": "https://localhost:8080/"
        },
        "id": "pFpWkmzs9RtV",
        "outputId": "5902c5c6-9329-403a-e321-427d78ae918d"
      },
      "execution_count": 25,
      "outputs": [
        {
          "output_type": "stream",
          "name": "stdout",
          "text": [
            "                       Mixed Linear Model Regression Results\n",
            "===================================================================================\n",
            "Model:                   MixedLM        Dependent Variable:        log_BloodGlucose\n",
            "No. Observations:        207            Method:                    REML            \n",
            "No. Groups:              112            Scale:                     0.0004          \n",
            "Min. group size:         1              Log-Likelihood:            216.1173        \n",
            "Max. group size:         2              Converged:                 Yes             \n",
            "Mean group size:         1.8                                                       \n",
            "-----------------------------------------------------------------------------------\n",
            "                                        Coef.  Std.Err.    z    P>|z| [0.025 0.975]\n",
            "-----------------------------------------------------------------------------------\n",
            "Intercept                                2.323    0.027  85.812 0.000  2.270  2.376\n",
            "C(Group)[T.Treatment]                   -0.038    0.038  -0.997 0.319 -0.113  0.037\n",
            "C(Time)[T.Week12]                        0.046    0.004  11.914 0.000  0.039  0.054\n",
            "C(Group)[T.Treatment]:C(Time)[T.Week12] -0.139    0.006 -25.170 0.000 -0.150 -0.128\n",
            "Group Var                                0.041    0.428                            \n",
            "===================================================================================\n",
            "\n"
          ]
        }
      ]
    },
    {
      "cell_type": "code",
      "source": [
        "# Post-hoc tests with Bonferroni correction\n",
        "# Extract p-values for the relevant coefficients\n",
        "p_values = lmm_model.pvalues[1:]  # Exclude the intercept\n",
        "print(p_values)\n",
        "\n",
        "# Number of comparisons\n",
        "num_comparisons = len(p_values)\n",
        "\n",
        "# Bonferroni correction\n",
        "bonferroni_alpha = 0.05 / num_comparisons\n",
        "\n",
        "# Print adjusted p-values and significance\n",
        "print(\"\\nPost-hoc tests with Bonferroni correction:\")\n",
        "for i, (coef, p) in enumerate(p_values.items()):\n",
        "    adjusted_p = p * num_comparisons  # Adjust the p-values\n",
        "    print(f\"{coef}: p-value = {p:.4f}, Adjusted p-value = {adjusted_p:.4f}\", end=\" \")\n",
        "    if adjusted_p < 0.05:\n",
        "        print(\"(Significant after Bonferroni correction)\")\n",
        "    else:\n",
        "        print(\"(Not significant after Bonferroni correction)\")"
      ],
      "metadata": {
        "colab": {
          "base_uri": "https://localhost:8080/"
        },
        "id": "B9tQ-Ld09mbj",
        "outputId": "7458255f-b094-4b62-ac8a-2e1e5cb78070"
      },
      "execution_count": 26,
      "outputs": [
        {
          "output_type": "stream",
          "name": "stdout",
          "text": [
            "C(Group)[T.Treatment]                       3.187458e-01\n",
            "C(Time)[T.Week12]                           1.005713e-32\n",
            "C(Group)[T.Treatment]:C(Time)[T.Week12]    8.577618e-140\n",
            "Group Var                                   5.918838e-07\n",
            "dtype: float64\n",
            "\n",
            "Post-hoc tests with Bonferroni correction:\n",
            "C(Group)[T.Treatment]: p-value = 0.3187, Adjusted p-value = 1.2750 (Not significant after Bonferroni correction)\n",
            "C(Time)[T.Week12]: p-value = 0.0000, Adjusted p-value = 0.0000 (Significant after Bonferroni correction)\n",
            "C(Group)[T.Treatment]:C(Time)[T.Week12]: p-value = 0.0000, Adjusted p-value = 0.0000 (Significant after Bonferroni correction)\n",
            "Group Var: p-value = 0.0000, Adjusted p-value = 0.0000 (Significant after Bonferroni correction)\n"
          ]
        }
      ]
    },
    {
      "cell_type": "markdown",
      "source": [
        "### Effect sizes and Statistical power"
      ],
      "metadata": {
        "id": "dT9Fprq_A-Lo"
      }
    },
    {
      "cell_type": "code",
      "source": [
        "# Calculate Cohen's d for the LMM model\n",
        "# NOTE: Cohen's d is not directly provided by mixedlm summary.  We need to calculate it from the coefficients and standard errors.\n",
        "\n",
        "# Extract the relevant coefficients and standard errors\n",
        "group_effect_coefficient = lmm_model.params['C(Group)[T.Treatment]']\n",
        "group_effect_stderr = lmm_model.bse['C(Group)[T.Treatment]']\n",
        "\n",
        "time_effect_coefficient = lmm_model.params['C(Time)[T.Week12]']\n",
        "time_effect_stderr = lmm_model.bse['C(Time)[T.Week12]']\n",
        "\n",
        "interaction_effect_coefficient = lmm_model.params['C(Group)[T.Treatment]:C(Time)[T.Week12]']\n",
        "interaction_effect_stderr = lmm_model.bse['C(Group)[T.Treatment]:C(Time)[T.Week12]']\n",
        "\n",
        "# Calculate Cohen's d (this is a simplified version; more robust methods may exist)\n",
        "cohens_d_group_lmm = group_effect_coefficient / group_effect_stderr\n",
        "cohens_d_time_lmm = time_effect_coefficient / time_effect_stderr\n",
        "cohens_d_interaction_lmm = interaction_effect_coefficient / interaction_effect_stderr\n",
        "\n",
        "# Interpret the effect sizes\n",
        "print(f\"Cohen's d for Group effect (LMM): {cohens_d_group_lmm:.3f}, {interpret_cohens_d(cohens_d_group_lmm)}\")\n",
        "print(f\"Cohen's d for Time effect (LMM): {cohens_d_time_lmm:.3f}, {interpret_cohens_d(cohens_d_time_lmm)}\")\n",
        "print(f\"Cohen's d for Interaction effect (LMM): {cohens_d_interaction_lmm:.3f}, {interpret_cohens_d(cohens_d_interaction_lmm)}\")"
      ],
      "metadata": {
        "colab": {
          "base_uri": "https://localhost:8080/"
        },
        "id": "ZRHRlKKHoeFe",
        "outputId": "3fecf69c-f062-44e5-9136-58af6ec8803f"
      },
      "execution_count": 27,
      "outputs": [
        {
          "output_type": "stream",
          "name": "stdout",
          "text": [
            "Cohen's d for Group effect (LMM): -0.997, Large effect\n",
            "Cohen's d for Time effect (LMM): 11.914, Large effect\n",
            "Cohen's d for Interaction effect (LMM): -25.170, Large effect\n"
          ]
        }
      ]
    },
    {
      "cell_type": "code",
      "source": [
        "# Calculate statistical power for main effects and interaction using Cohen's d from the LMM\n",
        "\n",
        "# Define parameters for power analysis\n",
        "alpha = 0.05       # Significance level\n",
        "n_per_group = 56   # Sample size per group (adjust if necessary based on your data)\n",
        "\n",
        "# Power analysis for main effects (Time) using Cohen's d from LMM\n",
        "power_time_lmm = smp.FTestAnovaPower().solve_power(effect_size=cohens_d_time_lmm,\n",
        "                                                alpha=alpha,\n",
        "                                                nobs=n_per_group,\n",
        "                                                k_groups=2)  # Two time points\n",
        "print(f\"Statistical power for main effect of Time (LMM): {power_time_lmm:.4f}\")\n",
        "\n",
        "# Power analysis for main effects (Group) using Cohen's d from LMM\n",
        "power_group_lmm = smp.FTestAnovaPower().solve_power(effect_size=cohens_d_group_lmm,\n",
        "                                                 alpha=alpha,\n",
        "                                                 nobs=n_per_group,\n",
        "                                                 k_groups=2)  # Two groups\n",
        "print(f\"Statistical power for main effect of Group (LMM): {power_group_lmm:.4f}\")\n",
        "\n",
        "# Power analysis for interaction using Cohen's d from LMM\n",
        "power_interaction_lmm = smp.FTestAnovaPower().solve_power(effect_size=cohens_d_interaction_lmm,\n",
        "                                                      alpha=alpha,\n",
        "                                                      nobs=n_per_group,\n",
        "                                                      k_groups=2)  # Adjust k_groups as needed for interaction\n",
        "print(f\"Statistical power for interaction effect (LMM): {power_interaction_lmm:.4f}\")"
      ],
      "metadata": {
        "colab": {
          "base_uri": "https://localhost:8080/"
        },
        "id": "BYnfBIglo8SK",
        "outputId": "7a221c69-8edc-42bb-aa4c-9ef256d4fe6d"
      },
      "execution_count": 28,
      "outputs": [
        {
          "output_type": "stream",
          "name": "stdout",
          "text": [
            "Statistical power for main effect of Time (LMM): 1.0000\n",
            "Statistical power for main effect of Group (LMM): 1.0000\n",
            "Statistical power for interaction effect (LMM): 1.0000\n"
          ]
        }
      ]
    },
    {
      "cell_type": "markdown",
      "source": [
        "## Bayesian model"
      ],
      "metadata": {
        "id": "cNRvPIqLi4GO"
      }
    },
    {
      "cell_type": "code",
      "source": [
        "# install packages\n",
        "!pip install pymc --quiet --progress-bar off\n",
        "!pip install arviz --quiet --progress-bar off\n",
        "# load libraries\n",
        "import pymc as pm\n",
        "import arviz as az"
      ],
      "metadata": {
        "id": "6_ORbbdMZn7g"
      },
      "execution_count": 29,
      "outputs": []
    },
    {
      "cell_type": "code",
      "source": [
        "# Use a Bayesian model to compare log_BloodGlucose between groups (Treatment vs Control) in df_no_outliers.\n",
        "\n",
        "# Prepare the data for the Bayesian model\n",
        "treatment_glucose = df_no_outliers.loc[df_no_outliers['Group'] == 'Treatment', 'log_BloodGlucose']\n",
        "control_glucose = df_no_outliers.loc[df_no_outliers['Group'] == 'Control', 'log_BloodGlucose']\n",
        "\n",
        "\n",
        "with pm.Model() as model:\n",
        "    # Priors for group means\n",
        "    mu_treatment = pm.Normal(\"mu_treatment\", mu=0, sigma=10)  # Adjust prior as needed\n",
        "    mu_control = pm.Normal(\"mu_control\", mu=0, sigma=10)      # Adjust prior as needed\n",
        "\n",
        "    # Priors for group standard deviations\n",
        "    sigma_treatment = pm.HalfNormal(\"sigma_treatment\", sigma=5)  # Adjust prior as needed\n",
        "    sigma_control = pm.HalfNormal(\"sigma_control\", sigma=5)      # Adjust prior as needed\n",
        "\n",
        "    # Likelihoods for the observed data\n",
        "    treatment_obs = pm.Normal(\"treatment_obs\", mu=mu_treatment, sigma=sigma_treatment, observed=treatment_glucose)\n",
        "    control_obs = pm.Normal(\"control_obs\", mu=mu_control, sigma=sigma_control, observed=control_glucose)\n",
        "\n",
        "    # Calculate the difference in means\n",
        "    delta_mu = pm.Deterministic(\"delta_mu\", mu_treatment - mu_control)\n",
        "\n",
        "    # Sample from the posterior distribution\n",
        "    idata = pm.sample(draws=4000, tune=2000, return_inferencedata=True, target_accept=0.95)\n",
        "\n",
        "# Calculate Bayes factor\n",
        "bfmi = az.bfmi(idata)\n",
        "\n",
        "# Extract the desired value (e.g., the mean) from the array\n",
        "bfmi_value = np.mean(bfmi) # Assuming you want to print the average BFMI\n",
        "\n",
        "# Interpret Bayes factor\n",
        "# Interpretation Guidelines (Jeffreys' scale):\n",
        "def interpret_bfmi(bfmi_value):\n",
        "    \"\"\"Interprets the Bayes Factor Model Information (BFMI) value based on predefined criteria.\"\"\"\n",
        "\n",
        "    if bfmi_value > 30:\n",
        "        interpretation = \"Very strong evidence in favor of the alternative hypothesis (a treatment effect).\"\n",
        "    elif bfmi_value > 10:\n",
        "        interpretation = \"Strong evidence in favor of the alternative hypothesis (a treatment effect).\"\n",
        "    elif bfmi_value > 3:\n",
        "        interpretation = \"Moderate evidence in favor of the alternative hypothesis (a treatment effect).\"\n",
        "    elif bfmi_value > 1:\n",
        "        interpretation = \"Anecdotal evidence in favor of the alternative hypothesis (a treatment effect).\"\n",
        "    elif bfmi_value < 1/30:\n",
        "        interpretation = \"Very strong evidence in favor of the null hypothesis (no treatment effect).\"\n",
        "    elif bfmi_value < 1/10:\n",
        "        interpretation = \"Strong evidence in favor of the null hypothesis (no treatment effect).\"\n",
        "    elif bfmi_value < 1/3:\n",
        "        interpretation = \"Moderate evidence in favor of the null hypothesis (no treatment effect).\"\n",
        "    else:\n",
        "        interpretation = \"Evidence for the alternative and null hypotheses is unclear.\"  # Added for bfmi == 1\n",
        "\n",
        "    return interpretation\n",
        "\n",
        "BFMI_interpretation = interpret_bfmi(bfmi_value)\n",
        "\n",
        "# Print the Bayes factor\n",
        "print(f\"\\n BFMI: {bfmi_value:.2f}, i.e., {BFMI_interpretation}\")\n",
        "\n",
        "# Plot the Bayesian posterior distribution\n",
        "print(f\"\\n Bayesian posterior distribution plot:\")\n",
        "az.plot_posterior(idata, var_names=[\"delta_mu\"], hdi_prob=0.95);\n",
        "\n",
        "# Determine whether the 95% HDI in the Bayesian posterior distribution plot excludes zero\n",
        "# NOTE: assume 'idata' is your InferenceData object from the Bayesian model\n",
        "hdi_intervals = az.hdi(idata, var_names=[\"delta_mu\"], hdi_prob=0.95)\n",
        "lower_bound = hdi_intervals[\"delta_mu\"][0]\n",
        "upper_bound = hdi_intervals[\"delta_mu\"][1]\n",
        "\n",
        "print(f\"\\n95% HDI for delta_mu: ({lower_bound:.3f}, {upper_bound:.3f})\")\n",
        "\n",
        "if lower_bound > 0 or upper_bound < 0:\n",
        "  print(\"The 95% HDI excludes zero.\")\n",
        "else:\n",
        "  print(\"The 95% HDI includes zero.\")"
      ],
      "metadata": {
        "colab": {
          "base_uri": "https://localhost:8080/",
          "height": 675,
          "referenced_widgets": [
            "def9137003254645bdca438dd54e26ef",
            "8f2eacc138e74ff29984a46be732c154"
          ]
        },
        "id": "BFSKzgUkwD3l",
        "outputId": "d4e3ed75-d092-4f7a-e2c9-faaabacfd783"
      },
      "execution_count": 30,
      "outputs": [
        {
          "output_type": "display_data",
          "data": {
            "text/plain": [
              "Output()"
            ],
            "application/vnd.jupyter.widget-view+json": {
              "version_major": 2,
              "version_minor": 0,
              "model_id": "def9137003254645bdca438dd54e26ef"
            }
          },
          "metadata": {}
        },
        {
          "output_type": "display_data",
          "data": {
            "text/plain": [],
            "text/html": [
              "<pre style=\"white-space:pre;overflow-x:auto;line-height:normal;font-family:Menlo,'DejaVu Sans Mono',consolas,'Courier New',monospace\"></pre>\n"
            ]
          },
          "metadata": {}
        },
        {
          "output_type": "stream",
          "name": "stdout",
          "text": [
            "\n",
            " BFMI: 1.03, i.e., Anecdotal evidence in favor of the alternative hypothesis (a treatment effect).\n",
            "\n",
            " Bayesian posterior distribution plot:\n",
            "\n",
            "95% HDI for delta_mu: (-0.155, -0.041)\n",
            "The 95% HDI excludes zero.\n"
          ]
        },
        {
          "output_type": "display_data",
          "data": {
            "text/plain": [
              "<Figure size 640x480 with 1 Axes>"
            ],
            "image/png": "[encoded data removed]"
          },
          "metadata": {}
        }
      ]
    },
    {
      "cell_type": "markdown",
      "source": [
        "### Statistical power"
      ],
      "metadata": {
        "id": "M3CVokKmCUzk"
      }
    },
    {
      "cell_type": "code",
      "source": [
        "# Calculate the statistical power of the Bayes model\n",
        "# NOTE: Assume 'idata' is your InferenceData object from the Bayesian model and 'delta_mu' is the variable representing the difference in means\n",
        "\n",
        "# Calculate the posterior probability of the difference in means being greater than zero\n",
        "posterior_samples = idata.posterior[\"delta_mu\"].values.flatten()\n",
        "power = np.mean(posterior_samples > 0)  # Proportion of samples above zero\n",
        "print(f\"Statistical power of the Bayesian model: {power:.4f}\")"
      ],
      "metadata": {
        "id": "Rrr-8oYTCWlU",
        "colab": {
          "base_uri": "https://localhost:8080/"
        },
        "outputId": "0f118b09-9de1-4f1a-9040-0f28d65e537d"
      },
      "execution_count": 31,
      "outputs": [
        {
          "output_type": "stream",
          "name": "stdout",
          "text": [
            "Statistical power of the Bayesian model: 0.0006\n"
          ]
        }
      ]
    },
    {
      "cell_type": "markdown",
      "source": [
        "## Standardized mean difference (effect size)"
      ],
      "metadata": {
        "id": "uapqloP1r7rL"
      }
    },
    {
      "cell_type": "code",
      "source": [
        "# Calculate Pooled_Baseline_SD: standard deviation of 'BloodGlucose' at 'Baseline'\n",
        "baseline_values = df_no_outliers[df_no_outliers['Time'] == 'Baseline']['BloodGlucose']\n",
        "Pooled_Baseline_SD = baseline_values.std()\n",
        "print(\"Pooled Baseline SD:\", Pooled_Baseline_SD)"
      ],
      "metadata": {
        "colab": {
          "base_uri": "https://localhost:8080/"
        },
        "id": "vEjziFvSr7JS",
        "outputId": "1eae421b-a40d-477b-cbaf-c1a4734dffe8"
      },
      "execution_count": 32,
      "outputs": [
        {
          "output_type": "stream",
          "name": "stdout",
          "text": [
            "Pooled Baseline SD: 2.065357578634652\n"
          ]
        }
      ]
    },
    {
      "cell_type": "code",
      "source": [
        "# Create a new dataframe with columns: ID, Group, and delta_BloodGlucose.\n",
        "# First, pivot the data so that each row represents one subject with columns for Baseline and Week12.\n",
        "df_pivot = df_no_outliers.pivot(index='ID', columns='Time', values='BloodGlucose').reset_index()\n",
        "\n",
        "# Merge the group information (assuming it's the same for both rows per ID)\n",
        "df_pivot = df_pivot.merge(df_no_outliers[['ID', 'Group']].drop_duplicates(), on='ID')\n",
        "\n",
        "# Calculate delta_BloodGlucose: Week12 minus Baseline\n",
        "df_pivot['delta_BloodGlucose'] = df_pivot['Week12'] - df_pivot['Baseline']\n",
        "\n",
        "# Create the new dataframe with only the desired columns\n",
        "delta_df = df_pivot[['ID', 'Group', 'delta_BloodGlucose']]\n",
        "print(delta_df.head())"
      ],
      "metadata": {
        "colab": {
          "base_uri": "https://localhost:8080/"
        },
        "id": "MLvBXle9sPVE",
        "outputId": "c2b0cd37-3e57-4504-a18b-0bc7bce0b13d"
      },
      "execution_count": 33,
      "outputs": [
        {
          "output_type": "stream",
          "name": "stdout",
          "text": [
            "   ID    Group  delta_BloodGlucose\n",
            "0   1  Control            0.683080\n",
            "1   2  Control            0.345000\n",
            "2   3  Control            0.394048\n",
            "3   4  Control            0.602653\n",
            "4   5  Control            0.519416\n"
          ]
        }
      ]
    },
    {
      "cell_type": "code",
      "source": [
        "# Calculate the standardized mean difference for each group\n",
        "# For each group, compute the mean difference (Week12 - Baseline) and divide by the pooled baseline SD.\n",
        "control_values = delta_df[delta_df['Group'] == 'Control']['delta_BloodGlucose']\n",
        "treatment_values = delta_df[delta_df['Group'] == 'Treatment']['delta_BloodGlucose']\n",
        "\n",
        "control_mean_diff = control_values.mean()\n",
        "treatment_mean_diff = treatment_values.mean()\n",
        "\n",
        "# Calculate the 95% CI for the mean difference in the Control group\n",
        "n_control = control_values.count()\n",
        "control_std = control_values.std(ddof=1)\n",
        "control_se = control_std / np.sqrt(n_control)\n",
        "# t critical value for a 95% CI with (n-1) degrees of freedom\n",
        "import scipy.stats as stats\n",
        "t_crit_control = stats.t.ppf(1-0.025, df=n_control-1)\n",
        "\n",
        "control_ci_lower = control_mean_diff - t_crit_control * control_se\n",
        "control_ci_upper = control_mean_diff + t_crit_control * control_se\n",
        "\n",
        "# Calculate the 95% CI for the mean difference in the Treatment group\n",
        "n_treatment = treatment_values.count()\n",
        "treatment_std = treatment_values.std(ddof=1)\n",
        "treatment_se = treatment_std / np.sqrt(n_treatment)\n",
        "t_crit_treatment = stats.t.ppf(1-0.025, df=n_treatment-1)\n",
        "\n",
        "treatment_ci_lower = treatment_mean_diff - t_crit_treatment * treatment_se\n",
        "treatment_ci_upper = treatment_mean_diff + t_crit_treatment * treatment_se\n",
        "\n",
        "print(f\"Mean difference for Control [95% CI]: {control_mean_diff:.3f} [{control_ci_lower:.3f}, {control_ci_upper:.3f}]\")\n",
        "print(f\"Mean difference for Treatment [95% CI]: {treatment_mean_diff:.3f} [{treatment_ci_lower:.3f}, {treatment_ci_upper:.3f}]\")\n",
        "\n",
        "control_SMD = control_mean_diff / Pooled_Baseline_SD\n",
        "treatment_SMD = treatment_mean_diff / Pooled_Baseline_SD\n",
        "\n",
        "# Interpret SMD effect sizes using Cohen's d criteria\n",
        "def interpret_SMD(SMD):\n",
        "    if abs(SMD) < 0.2:\n",
        "        return \"Trivial\"\n",
        "    elif abs(SMD) < 0.5:\n",
        "        return \"Small\"\n",
        "    elif abs(SMD) < 0.8:\n",
        "        return \"Medium\"\n",
        "    else:\n",
        "        return \"Large\"\n",
        "\n",
        "SMD_interpretation_Control = interpret_SMD(control_SMD)\n",
        "SMD_interpretation_Treatment = interpret_SMD(treatment_SMD)\n",
        "\n",
        "# Interpret the direction of change for Control\n",
        "def interpret_direction_control(mean_diff):\n",
        "    if mean_diff < 0:\n",
        "        return \"decrease in blood glucose\"\n",
        "    elif mean_diff > 0:\n",
        "        return \"increase in blood glucose\"\n",
        "    else:\n",
        "        return \"no change in blood glucose\"\n",
        "\n",
        "# Interpret the direction of change for Treatment\n",
        "def interpret_direction_treatment(mean_diff):\n",
        "    if mean_diff < 0:\n",
        "        return \"decrease in blood glucose\"\n",
        "    elif mean_diff > 0:\n",
        "        return \"increase in blood glucose\"\n",
        "    else:\n",
        "        return \"no change in blood glucose\"\n",
        "\n",
        "direction_interpretation_Control = interpret_direction_control(control_mean_diff)\n",
        "direction_interpretation_Treatment = interpret_direction_treatment(treatment_mean_diff)\n",
        "\n",
        "# Calculate the 95% CI for the SMD\n",
        "# since SMD = mean_diff / Pooled_Baseline_SD, the SE for SMD is:\n",
        "control_SMD_se = control_se / Pooled_Baseline_SD\n",
        "treatment_SMD_se = treatment_se / Pooled_Baseline_SD\n",
        "\n",
        "control_SMD_ci_lower = control_SMD - t_crit_control * control_SMD_se\n",
        "control_SMD_ci_upper = control_SMD + t_crit_control * control_SMD_se\n",
        "\n",
        "treatment_SMD_ci_lower = treatment_SMD - t_crit_treatment * treatment_SMD_se\n",
        "treatment_SMD_ci_upper = treatment_SMD + t_crit_treatment * treatment_SMD_se\n",
        "\n",
        "print(f\"\\nSMD (effect size) for Control [95% CI]: {control_SMD:.3f} [{control_SMD_ci_lower:.3f}, {control_SMD_ci_upper:.3f}], which is a {SMD_interpretation_Control} {direction_interpretation_Control}\")\n",
        "print(f\"SMD (effect size) for Treatment [95% CI]: {treatment_SMD:.3f} [{treatment_SMD_ci_lower:.3f}, {treatment_SMD_ci_upper:.3f}], which is a {SMD_interpretation_Treatment} {direction_interpretation_Treatment}\")"
      ],
      "metadata": {
        "colab": {
          "base_uri": "https://localhost:8080/"
        },
        "id": "ygGUEQhcseAQ",
        "outputId": "bf9b9d10-e9dd-4347-dd3c-a274a1620bb3"
      },
      "execution_count": 34,
      "outputs": [
        {
          "output_type": "stream",
          "name": "stdout",
          "text": [
            "Mean difference for Control [95% CI]: 0.464 [0.409, 0.520]\n",
            "Mean difference for Treatment [95% CI]: -0.876 [-0.957, -0.796]\n",
            "\n",
            "SMD (effect size) for Control [95% CI]: 0.225 [0.198, 0.252], which is a Small increase in blood glucose\n",
            "SMD (effect size) for Treatment [95% CI]: -0.424 [-0.463, -0.386], which is a Small decrease in blood glucose\n"
          ]
        }
      ]
    },
    {
      "cell_type": "markdown",
      "source": [
        "# Data visualisation\n",
        "<p>Several methods for presenting the results of an RCT.\n",
        "<p>The prefered option is the <em>Estimation plot</em>, the final option."
      ],
      "metadata": {
        "id": "JJEIlXaxjgz8"
      }
    },
    {
      "cell_type": "markdown",
      "source": [
        "## Boxplot"
      ],
      "metadata": {
        "id": "a_RMbO1ojsWD"
      }
    },
    {
      "cell_type": "code",
      "source": [
        "# Create the boxplot\n",
        "plt.figure(figsize=(8, 6))\n",
        "sns.boxplot(x='Group', y='BloodGlucose', hue='Time', data=df_no_outliers, palette=\"Set2\") #Color-blind friendly color\n",
        "plt.title('Blood Glucose Levels by Group and Time', fontsize=14)\n",
        "plt.xlabel('Group', fontsize=12)\n",
        "plt.ylabel('Blood Glucose', fontsize=12)\n",
        "plt.show()"
      ],
      "metadata": {
        "colab": {
          "base_uri": "https://localhost:8080/",
          "height": 569
        },
        "id": "27s3T-Zbc3Vw",
        "outputId": "3ef9b088-3693-4d1d-97d4-5abfe74ede53"
      },
      "execution_count": 35,
      "outputs": [
        {
          "output_type": "display_data",
          "data": {
            "text/plain": [
              "<Figure size 800x600 with 1 Axes>"
            ],
            "image/png": "[encoded data removed]"
          },
          "metadata": {}
        }
      ]
    },
    {
      "cell_type": "markdown",
      "source": [
        "## Violin Plot"
      ],
      "metadata": {
        "id": "Cv0GMO6mjxlR"
      }
    },
    {
      "cell_type": "code",
      "source": [
        "# Create the violin plot\n",
        "plt.figure(figsize=(8, 6))\n",
        "sns.violinplot(x='Group', y='BloodGlucose', hue='Time', data=df_no_outliers, palette=\"Set2\")\n",
        "plt.title('Blood Glucose Levels by Group and Time', fontsize=14)\n",
        "plt.xlabel('Group', fontsize=12)\n",
        "plt.ylabel('Blood Glucose', fontsize=12)\n",
        "plt.show()"
      ],
      "metadata": {
        "colab": {
          "base_uri": "https://localhost:8080/",
          "height": 569
        },
        "id": "hjDLaFBFjoMD",
        "outputId": "bde7ae1b-5eec-4766-8ccd-c39b2e6ad042"
      },
      "execution_count": 36,
      "outputs": [
        {
          "output_type": "display_data",
          "data": {
            "text/plain": [
              "<Figure size 800x600 with 1 Axes>"
            ],
            "image/png": "[encoded data removed]"
          },
          "metadata": {}
        }
      ]
    },
    {
      "cell_type": "markdown",
      "source": [
        "## Beeswarm plot"
      ],
      "metadata": {
        "id": "6WZsyKLhkEuu"
      }
    },
    {
      "cell_type": "code",
      "source": [
        "# Create the beeswarm plot\n",
        "plt.figure(figsize=(10, 6))\n",
        "sns.swarmplot(x='Time', y='BloodGlucose', hue='Group', data=df_no_outliers, palette=\"Set2\")\n",
        "plt.title('Blood Glucose Levels by Group and Time', fontsize=14)\n",
        "plt.xlabel('Time', fontsize=12)\n",
        "plt.ylabel('Blood Glucose', fontsize=12)\n",
        "plt.show()"
      ],
      "metadata": {
        "colab": {
          "base_uri": "https://localhost:8080/",
          "height": 569
        },
        "id": "2u6I1X_1kAl3",
        "outputId": "dd47faff-50f9-4e97-a55d-a020a93b8d5c"
      },
      "execution_count": 37,
      "outputs": [
        {
          "output_type": "display_data",
          "data": {
            "text/plain": [
              "<Figure size 1000x600 with 1 Axes>"
            ],
            "image/png": "[encoded data removed]"
          },
          "metadata": {}
        }
      ]
    },
    {
      "cell_type": "markdown",
      "source": [
        "## Raincloud plot"
      ],
      "metadata": {
        "id": "8MLiiMkBkQBh"
      }
    },
    {
      "cell_type": "code",
      "source": [
        "# build a raincloud plot of BloodGlucose by group and time in df_no_outliers\n",
        "def raincloud_plot(df, x_col, y_col, hue_col):\n",
        "    plt.figure(figsize=(10, 6))\n",
        "    sns.set_theme(style=\"whitegrid\")\n",
        "    sns.violinplot(x=x_col, y=y_col, hue=hue_col, data=df, split=True, inner=\"quartile\", palette=\"Set2\")\n",
        "    sns.stripplot(x=x_col, y=y_col, hue=hue_col, data=df, dodge=True, jitter=0.2, palette=\"Set2\")\n",
        "    plt.title('Raincloud Plot of Blood Glucose Levels by Group and Time', fontsize=14)\n",
        "    plt.xlabel('Group', fontsize=12)\n",
        "    plt.ylabel('Blood Glucose', fontsize=12)\n",
        "    plt.show()\n",
        "\n",
        "raincloud_plot(df_no_outliers, 'Group', 'BloodGlucose', 'Time')"
      ],
      "metadata": {
        "colab": {
          "base_uri": "https://localhost:8080/",
          "height": 574
        },
        "id": "-Q84MtyWkxJw",
        "outputId": "344df40c-d24d-4b6c-97b7-95596963e9c0"
      },
      "execution_count": 38,
      "outputs": [
        {
          "output_type": "display_data",
          "data": {
            "text/plain": [
              "<Figure size 1000x600 with 1 Axes>"
            ],
            "image/png": "[encoded data removed]"
          },
          "metadata": {}
        }
      ]
    },
    {
      "cell_type": "markdown",
      "source": [
        "## Estimation plot (Gardner-Altman plot)\n",
        "https://acclab.github.io/DABEST-python/"
      ],
      "metadata": {
        "id": "bui4NfWwmU8E"
      }
    },
    {
      "cell_type": "code",
      "source": [
        "# Import necessary libraries\n",
        "!pip install dabest --quiet --progress-bar off\n",
        "import dabest"
      ],
      "metadata": {
        "id": "bQzBYo0sA42B",
        "colab": {
          "base_uri": "https://localhost:8080/"
        },
        "outputId": "8bb93099-ef89-4e96-cb54-03cd0319ebfa"
      },
      "execution_count": 39,
      "outputs": [
        {
          "output_type": "stream",
          "name": "stdout",
          "text": [
            "\u001b[31mERROR: pip's dependency resolver does not currently take into account all the packages that are installed. This behaviour is the source of the following dependency conflicts.\n",
            "google-colab 1.0.0 requires pandas==2.2.2, but you have pandas 2.2.3 which is incompatible.\n",
            "tensorflow 2.18.0 requires numpy<2.1.0,>=1.26.0, but you have numpy 2.1.3 which is incompatible.\n",
            "distributed-ucxx-cu12 0.42.0 requires numba<0.61.0a0,>=0.59.1, but you have numba 0.61.2 which is incompatible.\n",
            "cuml-cu12 25.2.1 requires numba<0.61.0a0,>=0.59.1, but you have numba 0.61.2 which is incompatible.\n",
            "dask-cuda 25.2.0 requires numba<0.61.0a0,>=0.59.1, but you have numba 0.61.2 which is incompatible.\n",
            "cudf-cu12 25.2.1 requires numba<0.61.0a0,>=0.59.1, but you have numba 0.61.2 which is incompatible.\u001b[0m\u001b[31m\n",
            "\u001b[0mPre-compiling numba functions for DABEST...\n"
          ]
        },
        {
          "output_type": "stream",
          "name": "stderr",
          "text": [
            "Compiling numba functions: 100%|██████████| 11/11 [00:11<00:00,  1.06s/it]"
          ]
        },
        {
          "output_type": "stream",
          "name": "stdout",
          "text": [
            "Numba compilation complete!\n"
          ]
        },
        {
          "output_type": "stream",
          "name": "stderr",
          "text": [
            "\n"
          ]
        }
      ]
    },
    {
      "cell_type": "code",
      "source": [
        "# view dataframe\n",
        "print(df_no_outliers.head())"
      ],
      "metadata": {
        "colab": {
          "base_uri": "https://localhost:8080/"
        },
        "id": "fnXkqkkAbG1k",
        "outputId": "826b4c37-18e9-4c9c-9331-e4e4944e353b"
      },
      "execution_count": 40,
      "outputs": [
        {
          "output_type": "stream",
          "name": "stdout",
          "text": [
            "   ID    Group      Time  BloodGlucose  log_BloodGlucose        Group_Time\n",
            "0   1  Control  Baseline      9.621781          2.264029  Control_Baseline\n",
            "1   1  Control    Week12     10.304861          2.332616    Control_Week12\n",
            "2   2  Control  Baseline     13.655000          2.614106  Control_Baseline\n",
            "3   2  Control    Week12     14.000000          2.639057    Control_Week12\n",
            "4   3  Control  Baseline     12.123958          2.495183  Control_Baseline\n"
          ]
        }
      ]
    },
    {
      "cell_type": "code",
      "source": [
        "# load data into dabest\n",
        "unpaired_deltadelta = dabest.load(data = df_no_outliers,\n",
        "                                  x = [\"Time\", \"Time\"],\n",
        "                                  y = \"BloodGlucose\",\n",
        "                                  delta2 = True,\n",
        "                                  experiment = \"Group\",\n",
        "                                  ci=95,\n",
        "                                  resamples=5000)\n",
        "unpaired_deltadelta"
      ],
      "metadata": {
        "colab": {
          "base_uri": "https://localhost:8080/"
        },
        "id": "IqY_jGPN9CvG",
        "outputId": "6dfe9498-0bcc-4ed2-f17e-0c39c8b00f63"
      },
      "execution_count": 41,
      "outputs": [
        {
          "output_type": "execute_result",
          "data": {
            "text/plain": [
              "DABEST v2025.03.27\n",
              "==================\n",
              "                  \n",
              "Good afternoon!\n",
              "The current time is Fri Apr 11 15:59:23 2025.\n",
              "\n",
              "Effect size(s) with 95% confidence intervals will be computed for:\n",
              "1. Week12 Control minus Baseline Control\n",
              "2. Week12 Treatment minus Baseline Treatment\n",
              "3. Treatment minus Control (only for mean difference)\n",
              "\n",
              "5000 resamples will be used to generate the effect size bootstraps."
            ]
          },
          "metadata": {},
          "execution_count": 41
        }
      ]
    },
    {
      "cell_type": "code",
      "source": [
        "# calculate the mean difference (use median＿diff for the median difference)\n",
        "unpaired_deltadelta.mean_diff"
      ],
      "metadata": {
        "colab": {
          "base_uri": "https://localhost:8080/"
        },
        "id": "JIxenmqN-Ev_",
        "outputId": "eb2c8e96-4019-461b-aca0-1f6e76ebb97c"
      },
      "execution_count": 42,
      "outputs": [
        {
          "output_type": "execute_result",
          "data": {
            "text/plain": [
              "DABEST v2025.03.27\n",
              "==================\n",
              "                  \n",
              "Good afternoon!\n",
              "The current time is Fri Apr 11 15:59:30 2025.\n",
              "\n",
              "The unpaired mean difference between Baseline Control and Week12 Control is 0.422 [95%CI -0.385, 1.21].\n",
              "The p-value of the two-sided permutation t-test is 0.317, calculated for legacy purposes only. \n",
              "\n",
              "The unpaired mean difference between Baseline Treatment and Week12 Treatment is -0.852 [95%CI -1.6, -0.123].\n",
              "The p-value of the two-sided permutation t-test is 0.0272, calculated for legacy purposes only. \n",
              "\n",
              "The delta-delta between Control and Treatment is -1.27 [95%CI -2.36, -0.158].\n",
              "The p-value of the two-sided permutation t-test is 0.0282, calculated for legacy purposes only. \n",
              "\n",
              "5000 bootstrap samples were taken; the confidence interval is bias-corrected and accelerated.\n",
              "Any p-value reported is the probability of observing the effect size (or greater),\n",
              "assuming the null hypothesis of zero difference is true.\n",
              "For each p-value, 5000 reshuffles of the control and test labels were performed.\n",
              "\n",
              "To get the results of all valid statistical tests, use `.mean_diff.statistical_tests`"
            ]
          },
          "metadata": {},
          "execution_count": 42
        }
      ]
    },
    {
      "cell_type": "code",
      "source": [
        "# calculate the mean difference with results of simulation\n",
        "unpaired_deltadelta.mean_diff.results"
      ],
      "metadata": {
        "colab": {
          "base_uri": "https://localhost:8080/",
          "height": 231
        },
        "id": "RBv8MjL4BJ-Z",
        "outputId": "58cc0939-e03a-46c5-ec11-d9c0586719fd"
      },
      "execution_count": 43,
      "outputs": [
        {
          "output_type": "execute_result",
          "data": {
            "text/plain": [
              "              control              test  control_N  test_N      effect_size  \\\n",
              "0    Baseline Control    Week12 Control         56      48  mean difference   \n",
              "1  Baseline Treatment  Week12 Treatment         56      47  mean difference   \n",
              "\n",
              "  is_paired  difference  ci   bca_low  bca_high  ... pvalue_mann_whitney  \\\n",
              "0      None    0.421526  95 -0.385013  1.209898  ...            0.283395   \n",
              "1      None   -0.852398  95 -1.596576 -0.123098  ...            0.017248   \n",
              "\n",
              "   statistic_mann_whitney  bec_difference  \\\n",
              "0                  1179.0             0.0   \n",
              "1                  1676.0             0.0   \n",
              "\n",
              "                                      bec_bootstraps bec_bca_interval_idx  \\\n",
              "0  [-0.5667942814447873, -0.18264404787456634, 0....          (119, 4869)   \n",
              "1  [0.06303517363195432, -0.27609741576828384, -0...          (124, 4874)   \n",
              "\n",
              "   bec_bca_low  bec_bca_high bec_pct_interval_idx  bec_pct_low  bec_pct_high  \n",
              "0    -0.788985      0.776943          (125, 4875)    -0.780181      0.784457  \n",
              "1    -0.755111      0.757022          (125, 4875)    -0.754676      0.758393  \n",
              "\n",
              "[2 rows x 35 columns]"
            ],
            "text/html": [
              "\n",
              "  <div id=\"df-035623e5-39bc-4326-8c27-607d948bc247\" class=\"colab-df-container\">\n",
              "    <div>\n",
              "<style scoped>\n",
              "    .dataframe tbody tr th:only-of-type {\n",
              "        vertical-align: middle;\n",
              "    }\n",
              "\n",
              "    .dataframe tbody tr th {\n",
              "        vertical-align: top;\n",
              "    }\n",
              "\n",
              "    .dataframe thead th {\n",
              "        text-align: right;\n",
              "    }\n",
              "</style>\n",
              "<table border=\"1\" class=\"dataframe\">\n",
              "  <thead>\n",
              "    <tr style=\"text-align: right;\">\n",
              "      <th></th>\n",
              "      <th>control</th>\n",
              "      <th>test</th>\n",
              "      <th>control_N</th>\n",
              "      <th>test_N</th>\n",
              "      <th>effect_size</th>\n",
              "      <th>is_paired</th>\n",
              "      <th>difference</th>\n",
              "      <th>ci</th>\n",
              "      <th>bca_low</th>\n",
              "      <th>bca_high</th>\n",
              "      <th>...</th>\n",
              "      <th>pvalue_mann_whitney</th>\n",
              "      <th>statistic_mann_whitney</th>\n",
              "      <th>bec_difference</th>\n",
              "      <th>bec_bootstraps</th>\n",
              "      <th>bec_bca_interval_idx</th>\n",
              "      <th>bec_bca_low</th>\n",
              "      <th>bec_bca_high</th>\n",
              "      <th>bec_pct_interval_idx</th>\n",
              "      <th>bec_pct_low</th>\n",
              "      <th>bec_pct_high</th>\n",
              "    </tr>\n",
              "  </thead>\n",
              "  <tbody>\n",
              "    <tr>\n",
              "      <th>0</th>\n",
              "      <td>Baseline Control</td>\n",
              "      <td>Week12 Control</td>\n",
              "      <td>56</td>\n",
              "      <td>48</td>\n",
              "      <td>mean difference</td>\n",
              "      <td>None</td>\n",
              "      <td>0.421526</td>\n",
              "      <td>95</td>\n",
              "      <td>-0.385013</td>\n",
              "      <td>1.209898</td>\n",
              "      <td>...</td>\n",
              "      <td>0.283395</td>\n",
              "      <td>1179.0</td>\n",
              "      <td>0.0</td>\n",
              "      <td>[-0.5667942814447873, -0.18264404787456634, 0....</td>\n",
              "      <td>(119, 4869)</td>\n",
              "      <td>-0.788985</td>\n",
              "      <td>0.776943</td>\n",
              "      <td>(125, 4875)</td>\n",
              "      <td>-0.780181</td>\n",
              "      <td>0.784457</td>\n",
              "    </tr>\n",
              "    <tr>\n",
              "      <th>1</th>\n",
              "      <td>Baseline Treatment</td>\n",
              "      <td>Week12 Treatment</td>\n",
              "      <td>56</td>\n",
              "      <td>47</td>\n",
              "      <td>mean difference</td>\n",
              "      <td>None</td>\n",
              "      <td>-0.852398</td>\n",
              "      <td>95</td>\n",
              "      <td>-1.596576</td>\n",
              "      <td>-0.123098</td>\n",
              "      <td>...</td>\n",
              "      <td>0.017248</td>\n",
              "      <td>1676.0</td>\n",
              "      <td>0.0</td>\n",
              "      <td>[0.06303517363195432, -0.27609741576828384, -0...</td>\n",
              "      <td>(124, 4874)</td>\n",
              "      <td>-0.755111</td>\n",
              "      <td>0.757022</td>\n",
              "      <td>(125, 4875)</td>\n",
              "      <td>-0.754676</td>\n",
              "      <td>0.758393</td>\n",
              "    </tr>\n",
              "  </tbody>\n",
              "</table>\n",
              "<p>2 rows × 35 columns</p>\n",
              "</div>\n",
              "    <div class=\"colab-df-buttons\">\n",
              "\n",
              "  <div class=\"colab-df-container\">\n",
              "    <button class=\"colab-df-convert\" onclick=\"convertToInteractive('df-035623e5-39bc-4326-8c27-607d948bc247')\"\n",
              "            title=\"Convert this dataframe to an interactive table.\"\n",
              "            style=\"display:none;\">\n",
              "\n",
              "  <svg xmlns=\"http://www.w3.org/2000/svg\" height=\"24px\" viewBox=\"0 -960 960 960\">\n",
              "    <path d=\"M120-120v-720h720v720H120Zm60-500h600v-160H180v160Zm220 220h160v-160H400v160Zm0 220h160v-160H400v160ZM180-400h160v-160H180v160Zm440 0h160v-160H620v160ZM180-180h160v-160H180v160Zm440 0h160v-160H620v160Z\"/>\n",
              "  </svg>\n",
              "    </button>\n",
              "\n",
              "  <style>\n",
              "    .colab-df-container {\n",
              "      display:flex;\n",
              "      gap: 12px;\n",
              "    }\n",
              "\n",
              "    .colab-df-convert {\n",
              "      background-color: #E8F0FE;\n",
              "      border: none;\n",
              "      border-radius: 50%;\n",
              "      cursor: pointer;\n",
              "      display: none;\n",
              "      fill: #1967D2;\n",
              "      height: 32px;\n",
              "      padding: 0 0 0 0;\n",
              "      width: 32px;\n",
              "    }\n",
              "\n",
              "    .colab-df-convert:hover {\n",
              "      background-color: #E2EBFA;\n",
              "      box-shadow: 0px 1px 2px rgba(60, 64, 67, 0.3), 0px 1px 3px 1px rgba(60, 64, 67, 0.15);\n",
              "      fill: #174EA6;\n",
              "    }\n",
              "\n",
              "    .colab-df-buttons div {\n",
              "      margin-bottom: 4px;\n",
              "    }\n",
              "\n",
              "    [theme=dark] .colab-df-convert {\n",
              "      background-color: #3B4455;\n",
              "      fill: #D2E3FC;\n",
              "    }\n",
              "\n",
              "    [theme=dark] .colab-df-convert:hover {\n",
              "      background-color: #434B5C;\n",
              "      box-shadow: 0px 1px 3px 1px rgba(0, 0, 0, 0.15);\n",
              "      filter: drop-shadow(0px 1px 2px rgba(0, 0, 0, 0.3));\n",
              "      fill: #FFFFFF;\n",
              "    }\n",
              "  </style>\n",
              "\n",
              "    <script>\n",
              "      const buttonEl =\n",
              "        document.querySelector('#df-035623e5-39bc-4326-8c27-607d948bc247 button.colab-df-convert');\n",
              "      buttonEl.style.display =\n",
              "        google.colab.kernel.accessAllowed ? 'block' : 'none';\n",
              "\n",
              "      async function convertToInteractive(key) {\n",
              "        const element = document.querySelector('#df-035623e5-39bc-4326-8c27-607d948bc247');\n",
              "        const dataTable =\n",
              "          await google.colab.kernel.invokeFunction('convertToInteractive',\n",
              "                                                    [key], {});\n",
              "        if (!dataTable) return;\n",
              "\n",
              "        const docLinkHtml = 'Like what you see? Visit the ' +\n",
              "          '<a target=\"_blank\" href=https://colab.research.google.com/notebooks/data_table.ipynb>data table notebook</a>'\n",
              "          + ' to learn more about interactive tables.';\n",
              "        element.innerHTML = '';\n",
              "        dataTable['output_type'] = 'display_data';\n",
              "        await google.colab.output.renderOutput(dataTable, element);\n",
              "        const docLink = document.createElement('div');\n",
              "        docLink.innerHTML = docLinkHtml;\n",
              "        element.appendChild(docLink);\n",
              "      }\n",
              "    </script>\n",
              "  </div>\n",
              "\n",
              "\n",
              "<div id=\"df-efcfa74e-8e35-49de-aaca-f72a9a21ac0a\">\n",
              "  <button class=\"colab-df-quickchart\" onclick=\"quickchart('df-efcfa74e-8e35-49de-aaca-f72a9a21ac0a')\"\n",
              "            title=\"Suggest charts\"\n",
              "            style=\"display:none;\">\n",
              "\n",
              "<svg xmlns=\"http://www.w3.org/2000/svg\" height=\"24px\"viewBox=\"0 0 24 24\"\n",
              "     width=\"24px\">\n",
              "    <g>\n",
              "        <path d=\"M19 3H5c-1.1 0-2 .9-2 2v14c0 1.1.9 2 2 2h14c1.1 0 2-.9 2-2V5c0-1.1-.9-2-2-2zM9 17H7v-7h2v7zm4 0h-2V7h2v10zm4 0h-2v-4h2v4z\"/>\n",
              "    </g>\n",
              "</svg>\n",
              "  </button>\n",
              "\n",
              "<style>\n",
              "  .colab-df-quickchart {\n",
              "      --bg-color: #E8F0FE;\n",
              "      --fill-color: #1967D2;\n",
              "      --hover-bg-color: #E2EBFA;\n",
              "      --hover-fill-color: #174EA6;\n",
              "      --disabled-fill-color: #AAA;\n",
              "      --disabled-bg-color: #DDD;\n",
              "  }\n",
              "\n",
              "  [theme=dark] .colab-df-quickchart {\n",
              "      --bg-color: #3B4455;\n",
              "      --fill-color: #D2E3FC;\n",
              "      --hover-bg-color: #434B5C;\n",
              "      --hover-fill-color: #FFFFFF;\n",
              "      --disabled-bg-color: #3B4455;\n",
              "      --disabled-fill-color: #666;\n",
              "  }\n",
              "\n",
              "  .colab-df-quickchart {\n",
              "    background-color: var(--bg-color);\n",
              "    border: none;\n",
              "    border-radius: 50%;\n",
              "    cursor: pointer;\n",
              "    display: none;\n",
              "    fill: var(--fill-color);\n",
              "    height: 32px;\n",
              "    padding: 0;\n",
              "    width: 32px;\n",
              "  }\n",
              "\n",
              "  .colab-df-quickchart:hover {\n",
              "    background-color: var(--hover-bg-color);\n",
              "    box-shadow: 0 1px 2px rgba(60, 64, 67, 0.3), 0 1px 3px 1px rgba(60, 64, 67, 0.15);\n",
              "    fill: var(--button-hover-fill-color);\n",
              "  }\n",
              "\n",
              "  .colab-df-quickchart-complete:disabled,\n",
              "  .colab-df-quickchart-complete:disabled:hover {\n",
              "    background-color: var(--disabled-bg-color);\n",
              "    fill: var(--disabled-fill-color);\n",
              "    box-shadow: none;\n",
              "  }\n",
              "\n",
              "  .colab-df-spinner {\n",
              "    border: 2px solid var(--fill-color);\n",
              "    border-color: transparent;\n",
              "    border-bottom-color: var(--fill-color);\n",
              "    animation:\n",
              "      spin 1s steps(1) infinite;\n",
              "  }\n",
              "\n",
              "  @keyframes spin {\n",
              "    0% {\n",
              "      border-color: transparent;\n",
              "      border-bottom-color: var(--fill-color);\n",
              "      border-left-color: var(--fill-color);\n",
              "    }\n",
              "    20% {\n",
              "      border-color: transparent;\n",
              "      border-left-color: var(--fill-color);\n",
              "      border-top-color: var(--fill-color);\n",
              "    }\n",
              "    30% {\n",
              "      border-color: transparent;\n",
              "      border-left-color: var(--fill-color);\n",
              "      border-top-color: var(--fill-color);\n",
              "      border-right-color: var(--fill-color);\n",
              "    }\n",
              "    40% {\n",
              "      border-color: transparent;\n",
              "      border-right-color: var(--fill-color);\n",
              "      border-top-color: var(--fill-color);\n",
              "    }\n",
              "    60% {\n",
              "      border-color: transparent;\n",
              "      border-right-color: var(--fill-color);\n",
              "    }\n",
              "    80% {\n",
              "      border-color: transparent;\n",
              "      border-right-color: var(--fill-color);\n",
              "      border-bottom-color: var(--fill-color);\n",
              "    }\n",
              "    90% {\n",
              "      border-color: transparent;\n",
              "      border-bottom-color: var(--fill-color);\n",
              "    }\n",
              "  }\n",
              "</style>\n",
              "\n",
              "  <script>\n",
              "    async function quickchart(key) {\n",
              "      const quickchartButtonEl =\n",
              "        document.querySelector('#' + key + ' button');\n",
              "      quickchartButtonEl.disabled = true;  // To prevent multiple clicks.\n",
              "      quickchartButtonEl.classList.add('colab-df-spinner');\n",
              "      try {\n",
              "        const charts = await google.colab.kernel.invokeFunction(\n",
              "            'suggestCharts', [key], {});\n",
              "      } catch (error) {\n",
              "        console.error('Error during call to suggestCharts:', error);\n",
              "      }\n",
              "      quickchartButtonEl.classList.remove('colab-df-spinner');\n",
              "      quickchartButtonEl.classList.add('colab-df-quickchart-complete');\n",
              "    }\n",
              "    (() => {\n",
              "      let quickchartButtonEl =\n",
              "        document.querySelector('#df-efcfa74e-8e35-49de-aaca-f72a9a21ac0a button');\n",
              "      quickchartButtonEl.style.display =\n",
              "        google.colab.kernel.accessAllowed ? 'block' : 'none';\n",
              "    })();\n",
              "  </script>\n",
              "</div>\n",
              "\n",
              "    </div>\n",
              "  </div>\n"
            ],
            "application/vnd.google.colaboratory.intrinsic+json": {
              "type": "dataframe"
            }
          },
          "metadata": {},
          "execution_count": 43
        }
      ]
    },
    {
      "cell_type": "code",
      "source": [
        "# show all statistical tests\n",
        "unpaired_deltadelta.mean_diff.statistical_tests"
      ],
      "metadata": {
        "colab": {
          "base_uri": "https://localhost:8080/",
          "height": 167
        },
        "id": "lKST9I8uBKzc",
        "outputId": "ef9e4e9a-d032-4d04-b79f-9837ba21a902"
      },
      "execution_count": 44,
      "outputs": [
        {
          "output_type": "execute_result",
          "data": {
            "text/plain": [
              "              control              test  control_N  test_N      effect_size  \\\n",
              "0    Baseline Control    Week12 Control         56      48  mean difference   \n",
              "1  Baseline Treatment  Week12 Treatment         56      47  mean difference   \n",
              "\n",
              "  is_paired  difference  ci   bca_low  bca_high  pvalue_permutation  \\\n",
              "0      None    0.421526  95 -0.385013  1.209898              0.3168   \n",
              "1      None   -0.852398  95 -1.596576 -0.123098              0.0272   \n",
              "\n",
              "   pvalue_welch  statistic_welch  pvalue_students_t  statistic_students_t  \\\n",
              "0      0.312557        -1.015003           0.312910             -1.014153   \n",
              "1      0.029299         2.211383           0.030013              2.201001   \n",
              "\n",
              "   pvalue_mann_whitney  statistic_mann_whitney  \n",
              "0             0.283395                  1179.0  \n",
              "1             0.017248                  1676.0  "
            ],
            "text/html": [
              "\n",
              "  <div id=\"df-d4840f0c-3f81-4833-909d-4b9a66ece4cf\" class=\"colab-df-container\">\n",
              "    <div>\n",
              "<style scoped>\n",
              "    .dataframe tbody tr th:only-of-type {\n",
              "        vertical-align: middle;\n",
              "    }\n",
              "\n",
              "    .dataframe tbody tr th {\n",
              "        vertical-align: top;\n",
              "    }\n",
              "\n",
              "    .dataframe thead th {\n",
              "        text-align: right;\n",
              "    }\n",
              "</style>\n",
              "<table border=\"1\" class=\"dataframe\">\n",
              "  <thead>\n",
              "    <tr style=\"text-align: right;\">\n",
              "      <th></th>\n",
              "      <th>control</th>\n",
              "      <th>test</th>\n",
              "      <th>control_N</th>\n",
              "      <th>test_N</th>\n",
              "      <th>effect_size</th>\n",
              "      <th>is_paired</th>\n",
              "      <th>difference</th>\n",
              "      <th>ci</th>\n",
              "      <th>bca_low</th>\n",
              "      <th>bca_high</th>\n",
              "      <th>pvalue_permutation</th>\n",
              "      <th>pvalue_welch</th>\n",
              "      <th>statistic_welch</th>\n",
              "      <th>pvalue_students_t</th>\n",
              "      <th>statistic_students_t</th>\n",
              "      <th>pvalue_mann_whitney</th>\n",
              "      <th>statistic_mann_whitney</th>\n",
              "    </tr>\n",
              "  </thead>\n",
              "  <tbody>\n",
              "    <tr>\n",
              "      <th>0</th>\n",
              "      <td>Baseline Control</td>\n",
              "      <td>Week12 Control</td>\n",
              "      <td>56</td>\n",
              "      <td>48</td>\n",
              "      <td>mean difference</td>\n",
              "      <td>None</td>\n",
              "      <td>0.421526</td>\n",
              "      <td>95</td>\n",
              "      <td>-0.385013</td>\n",
              "      <td>1.209898</td>\n",
              "      <td>0.3168</td>\n",
              "      <td>0.312557</td>\n",
              "      <td>-1.015003</td>\n",
              "      <td>0.312910</td>\n",
              "      <td>-1.014153</td>\n",
              "      <td>0.283395</td>\n",
              "      <td>1179.0</td>\n",
              "    </tr>\n",
              "    <tr>\n",
              "      <th>1</th>\n",
              "      <td>Baseline Treatment</td>\n",
              "      <td>Week12 Treatment</td>\n",
              "      <td>56</td>\n",
              "      <td>47</td>\n",
              "      <td>mean difference</td>\n",
              "      <td>None</td>\n",
              "      <td>-0.852398</td>\n",
              "      <td>95</td>\n",
              "      <td>-1.596576</td>\n",
              "      <td>-0.123098</td>\n",
              "      <td>0.0272</td>\n",
              "      <td>0.029299</td>\n",
              "      <td>2.211383</td>\n",
              "      <td>0.030013</td>\n",
              "      <td>2.201001</td>\n",
              "      <td>0.017248</td>\n",
              "      <td>1676.0</td>\n",
              "    </tr>\n",
              "  </tbody>\n",
              "</table>\n",
              "</div>\n",
              "    <div class=\"colab-df-buttons\">\n",
              "\n",
              "  <div class=\"colab-df-container\">\n",
              "    <button class=\"colab-df-convert\" onclick=\"convertToInteractive('df-d4840f0c-3f81-4833-909d-4b9a66ece4cf')\"\n",
              "            title=\"Convert this dataframe to an interactive table.\"\n",
              "            style=\"display:none;\">\n",
              "\n",
              "  <svg xmlns=\"http://www.w3.org/2000/svg\" height=\"24px\" viewBox=\"0 -960 960 960\">\n",
              "    <path d=\"M120-120v-720h720v720H120Zm60-500h600v-160H180v160Zm220 220h160v-160H400v160Zm0 220h160v-160H400v160ZM180-400h160v-160H180v160Zm440 0h160v-160H620v160ZM180-180h160v-160H180v160Zm440 0h160v-160H620v160Z\"/>\n",
              "  </svg>\n",
              "    </button>\n",
              "\n",
              "  <style>\n",
              "    .colab-df-container {\n",
              "      display:flex;\n",
              "      gap: 12px;\n",
              "    }\n",
              "\n",
              "    .colab-df-convert {\n",
              "      background-color: #E8F0FE;\n",
              "      border: none;\n",
              "      border-radius: 50%;\n",
              "      cursor: pointer;\n",
              "      display: none;\n",
              "      fill: #1967D2;\n",
              "      height: 32px;\n",
              "      padding: 0 0 0 0;\n",
              "      width: 32px;\n",
              "    }\n",
              "\n",
              "    .colab-df-convert:hover {\n",
              "      background-color: #E2EBFA;\n",
              "      box-shadow: 0px 1px 2px rgba(60, 64, 67, 0.3), 0px 1px 3px 1px rgba(60, 64, 67, 0.15);\n",
              "      fill: #174EA6;\n",
              "    }\n",
              "\n",
              "    .colab-df-buttons div {\n",
              "      margin-bottom: 4px;\n",
              "    }\n",
              "\n",
              "    [theme=dark] .colab-df-convert {\n",
              "      background-color: #3B4455;\n",
              "      fill: #D2E3FC;\n",
              "    }\n",
              "\n",
              "    [theme=dark] .colab-df-convert:hover {\n",
              "      background-color: #434B5C;\n",
              "      box-shadow: 0px 1px 3px 1px rgba(0, 0, 0, 0.15);\n",
              "      filter: drop-shadow(0px 1px 2px rgba(0, 0, 0, 0.3));\n",
              "      fill: #FFFFFF;\n",
              "    }\n",
              "  </style>\n",
              "\n",
              "    <script>\n",
              "      const buttonEl =\n",
              "        document.querySelector('#df-d4840f0c-3f81-4833-909d-4b9a66ece4cf button.colab-df-convert');\n",
              "      buttonEl.style.display =\n",
              "        google.colab.kernel.accessAllowed ? 'block' : 'none';\n",
              "\n",
              "      async function convertToInteractive(key) {\n",
              "        const element = document.querySelector('#df-d4840f0c-3f81-4833-909d-4b9a66ece4cf');\n",
              "        const dataTable =\n",
              "          await google.colab.kernel.invokeFunction('convertToInteractive',\n",
              "                                                    [key], {});\n",
              "        if (!dataTable) return;\n",
              "\n",
              "        const docLinkHtml = 'Like what you see? Visit the ' +\n",
              "          '<a target=\"_blank\" href=https://colab.research.google.com/notebooks/data_table.ipynb>data table notebook</a>'\n",
              "          + ' to learn more about interactive tables.';\n",
              "        element.innerHTML = '';\n",
              "        dataTable['output_type'] = 'display_data';\n",
              "        await google.colab.output.renderOutput(dataTable, element);\n",
              "        const docLink = document.createElement('div');\n",
              "        docLink.innerHTML = docLinkHtml;\n",
              "        element.appendChild(docLink);\n",
              "      }\n",
              "    </script>\n",
              "  </div>\n",
              "\n",
              "\n",
              "<div id=\"df-31f9a1b9-0cb1-4b3e-9b7b-8a7a62f16aae\">\n",
              "  <button class=\"colab-df-quickchart\" onclick=\"quickchart('df-31f9a1b9-0cb1-4b3e-9b7b-8a7a62f16aae')\"\n",
              "            title=\"Suggest charts\"\n",
              "            style=\"display:none;\">\n",
              "\n",
              "<svg xmlns=\"http://www.w3.org/2000/svg\" height=\"24px\"viewBox=\"0 0 24 24\"\n",
              "     width=\"24px\">\n",
              "    <g>\n",
              "        <path d=\"M19 3H5c-1.1 0-2 .9-2 2v14c0 1.1.9 2 2 2h14c1.1 0 2-.9 2-2V5c0-1.1-.9-2-2-2zM9 17H7v-7h2v7zm4 0h-2V7h2v10zm4 0h-2v-4h2v4z\"/>\n",
              "    </g>\n",
              "</svg>\n",
              "  </button>\n",
              "\n",
              "<style>\n",
              "  .colab-df-quickchart {\n",
              "      --bg-color: #E8F0FE;\n",
              "      --fill-color: #1967D2;\n",
              "      --hover-bg-color: #E2EBFA;\n",
              "      --hover-fill-color: #174EA6;\n",
              "      --disabled-fill-color: #AAA;\n",
              "      --disabled-bg-color: #DDD;\n",
              "  }\n",
              "\n",
              "  [theme=dark] .colab-df-quickchart {\n",
              "      --bg-color: #3B4455;\n",
              "      --fill-color: #D2E3FC;\n",
              "      --hover-bg-color: #434B5C;\n",
              "      --hover-fill-color: #FFFFFF;\n",
              "      --disabled-bg-color: #3B4455;\n",
              "      --disabled-fill-color: #666;\n",
              "  }\n",
              "\n",
              "  .colab-df-quickchart {\n",
              "    background-color: var(--bg-color);\n",
              "    border: none;\n",
              "    border-radius: 50%;\n",
              "    cursor: pointer;\n",
              "    display: none;\n",
              "    fill: var(--fill-color);\n",
              "    height: 32px;\n",
              "    padding: 0;\n",
              "    width: 32px;\n",
              "  }\n",
              "\n",
              "  .colab-df-quickchart:hover {\n",
              "    background-color: var(--hover-bg-color);\n",
              "    box-shadow: 0 1px 2px rgba(60, 64, 67, 0.3), 0 1px 3px 1px rgba(60, 64, 67, 0.15);\n",
              "    fill: var(--button-hover-fill-color);\n",
              "  }\n",
              "\n",
              "  .colab-df-quickchart-complete:disabled,\n",
              "  .colab-df-quickchart-complete:disabled:hover {\n",
              "    background-color: var(--disabled-bg-color);\n",
              "    fill: var(--disabled-fill-color);\n",
              "    box-shadow: none;\n",
              "  }\n",
              "\n",
              "  .colab-df-spinner {\n",
              "    border: 2px solid var(--fill-color);\n",
              "    border-color: transparent;\n",
              "    border-bottom-color: var(--fill-color);\n",
              "    animation:\n",
              "      spin 1s steps(1) infinite;\n",
              "  }\n",
              "\n",
              "  @keyframes spin {\n",
              "    0% {\n",
              "      border-color: transparent;\n",
              "      border-bottom-color: var(--fill-color);\n",
              "      border-left-color: var(--fill-color);\n",
              "    }\n",
              "    20% {\n",
              "      border-color: transparent;\n",
              "      border-left-color: var(--fill-color);\n",
              "      border-top-color: var(--fill-color);\n",
              "    }\n",
              "    30% {\n",
              "      border-color: transparent;\n",
              "      border-left-color: var(--fill-color);\n",
              "      border-top-color: var(--fill-color);\n",
              "      border-right-color: var(--fill-color);\n",
              "    }\n",
              "    40% {\n",
              "      border-color: transparent;\n",
              "      border-right-color: var(--fill-color);\n",
              "      border-top-color: var(--fill-color);\n",
              "    }\n",
              "    60% {\n",
              "      border-color: transparent;\n",
              "      border-right-color: var(--fill-color);\n",
              "    }\n",
              "    80% {\n",
              "      border-color: transparent;\n",
              "      border-right-color: var(--fill-color);\n",
              "      border-bottom-color: var(--fill-color);\n",
              "    }\n",
              "    90% {\n",
              "      border-color: transparent;\n",
              "      border-bottom-color: var(--fill-color);\n",
              "    }\n",
              "  }\n",
              "</style>\n",
              "\n",
              "  <script>\n",
              "    async function quickchart(key) {\n",
              "      const quickchartButtonEl =\n",
              "        document.querySelector('#' + key + ' button');\n",
              "      quickchartButtonEl.disabled = true;  // To prevent multiple clicks.\n",
              "      quickchartButtonEl.classList.add('colab-df-spinner');\n",
              "      try {\n",
              "        const charts = await google.colab.kernel.invokeFunction(\n",
              "            'suggestCharts', [key], {});\n",
              "      } catch (error) {\n",
              "        console.error('Error during call to suggestCharts:', error);\n",
              "      }\n",
              "      quickchartButtonEl.classList.remove('colab-df-spinner');\n",
              "      quickchartButtonEl.classList.add('colab-df-quickchart-complete');\n",
              "    }\n",
              "    (() => {\n",
              "      let quickchartButtonEl =\n",
              "        document.querySelector('#df-31f9a1b9-0cb1-4b3e-9b7b-8a7a62f16aae button');\n",
              "      quickchartButtonEl.style.display =\n",
              "        google.colab.kernel.accessAllowed ? 'block' : 'none';\n",
              "    })();\n",
              "  </script>\n",
              "</div>\n",
              "\n",
              "    </div>\n",
              "  </div>\n"
            ],
            "application/vnd.google.colaboratory.intrinsic+json": {
              "type": "dataframe",
              "repr_error": "Out of range float values are not JSON compliant: nan"
            }
          },
          "metadata": {},
          "execution_count": 44
        }
      ]
    },
    {
      "cell_type": "markdown",
      "source": [
        "### Mean difference plot\n",
        "Edit plot aesthetics at https://acclab.github.io/DABEST-python/tutorials/09-plot_aesthetics.html"
      ],
      "metadata": {
        "id": "Zzi5wPHJC6E2"
      }
    },
    {
      "cell_type": "code",
      "source": [
        "# build the delta-delta estimation plot with mean difference\n",
        "unpaired_deltadelta.mean_diff.plot(\n",
        "    custom_palette=sns.color_palette(\"Set2\"), # color-blind friendly\n",
        "    contrast_label=\"Mean difference\",\n",
        "    fig_size=(12, 6),\n",
        "    raw_marker_size=2,\n",
        ");"
      ],
      "metadata": {
        "colab": {
          "base_uri": "https://localhost:8080/",
          "height": 564
        },
        "id": "B0wQyc2J-RMW",
        "outputId": "2ee80dfc-fd2d-488f-aa53-dffdccfe3d19"
      },
      "execution_count": 45,
      "outputs": [
        {
          "output_type": "display_data",
          "data": {
            "text/plain": [
              "<Figure size 1200x600 with 3 Axes>"
            ],
            "image/png": "[encoded data removed]"
          },
          "metadata": {}
        }
      ]
    },
    {
      "cell_type": "code",
      "source": [
        "# standardize the delta-delta effect size with Hedge's g\n",
        "unpaired_deltadelta.hedges_g"
      ],
      "metadata": {
        "colab": {
          "base_uri": "https://localhost:8080/"
        },
        "id": "WhTgWaQt_c9W",
        "outputId": "8cfe06fd-f66f-4124-a8c4-0c192d80ef45"
      },
      "execution_count": 46,
      "outputs": [
        {
          "output_type": "execute_result",
          "data": {
            "text/plain": [
              "DABEST v2025.03.27\n",
              "==================\n",
              "                  \n",
              "Good afternoon!\n",
              "The current time is Fri Apr 11 15:59:35 2025.\n",
              "\n",
              "The unpaired Hedges' g between Baseline Control and Week12 Control is 0.198 [95%CI -0.187, 0.58].\n",
              "The p-value of the two-sided permutation t-test is 0.317, calculated for legacy purposes only. \n",
              "\n",
              "The unpaired Hedges' g between Baseline Treatment and Week12 Treatment is -0.432 [95%CI -0.825, -0.0521].\n",
              "The p-value of the two-sided permutation t-test is 0.0272, calculated for legacy purposes only. \n",
              "\n",
              "The delta g between Control and Treatment is -0.631 [95%CI -1.17, -0.0782].\n",
              "The p-value of the two-sided permutation t-test is 0.0254, calculated for legacy purposes only. \n",
              "\n",
              "5000 bootstrap samples were taken; the confidence interval is bias-corrected and accelerated.\n",
              "Any p-value reported is the probability of observing the effect size (or greater),\n",
              "assuming the null hypothesis of zero difference is true.\n",
              "For each p-value, 5000 reshuffles of the control and test labels were performed.\n",
              "\n",
              "To get the results of all valid statistical tests, use `.hedges_g.statistical_tests`"
            ]
          },
          "metadata": {},
          "execution_count": 46
        }
      ]
    },
    {
      "cell_type": "code",
      "source": [
        "# calculate the Hedges's g with results of simulation\n",
        "unpaired_deltadelta.hedges_g.results"
      ],
      "metadata": {
        "colab": {
          "base_uri": "https://localhost:8080/",
          "height": 231
        },
        "id": "IzEz15upBWB4",
        "outputId": "85403590-9a84-4798-ceae-4d5d5676f038"
      },
      "execution_count": 47,
      "outputs": [
        {
          "output_type": "execute_result",
          "data": {
            "text/plain": [
              "              control              test  control_N  test_N effect_size  \\\n",
              "0    Baseline Control    Week12 Control         56      48   Hedges' g   \n",
              "1  Baseline Treatment  Week12 Treatment         56      47   Hedges' g   \n",
              "\n",
              "  is_paired  difference  ci   bca_low  bca_high  ... pvalue_mann_whitney  \\\n",
              "0      None    0.198012  95 -0.187444  0.580463  ...            0.283395   \n",
              "1      None   -0.432165  95 -0.825402 -0.052087  ...            0.017248   \n",
              "\n",
              "   statistic_mann_whitney  bec_difference  \\\n",
              "0                  1179.0             0.0   \n",
              "1                  1676.0             0.0   \n",
              "\n",
              "                                      bec_bootstraps bec_bca_interval_idx  \\\n",
              "0  [-0.2562494838859451, -0.08398240204360188, 0....          (119, 4869)   \n",
              "1  [0.03203393287097897, -0.13231067210308975, -0...          (124, 4874)   \n",
              "\n",
              "   bec_bca_low  bec_bca_high bec_pct_interval_idx  bec_pct_low  bec_pct_high  \n",
              "0    -0.384233      0.370541          (125, 4875)    -0.380640      0.373805  \n",
              "1    -0.378331      0.383954          (125, 4875)    -0.377144      0.384246  \n",
              "\n",
              "[2 rows x 35 columns]"
            ],
            "text/html": [
              "\n",
              "  <div id=\"df-48c674a6-c1da-4b99-8410-51b0cb77c379\" class=\"colab-df-container\">\n",
              "    <div>\n",
              "<style scoped>\n",
              "    .dataframe tbody tr th:only-of-type {\n",
              "        vertical-align: middle;\n",
              "    }\n",
              "\n",
              "    .dataframe tbody tr th {\n",
              "        vertical-align: top;\n",
              "    }\n",
              "\n",
              "    .dataframe thead th {\n",
              "        text-align: right;\n",
              "    }\n",
              "</style>\n",
              "<table border=\"1\" class=\"dataframe\">\n",
              "  <thead>\n",
              "    <tr style=\"text-align: right;\">\n",
              "      <th></th>\n",
              "      <th>control</th>\n",
              "      <th>test</th>\n",
              "      <th>control_N</th>\n",
              "      <th>test_N</th>\n",
              "      <th>effect_size</th>\n",
              "      <th>is_paired</th>\n",
              "      <th>difference</th>\n",
              "      <th>ci</th>\n",
              "      <th>bca_low</th>\n",
              "      <th>bca_high</th>\n",
              "      <th>...</th>\n",
              "      <th>pvalue_mann_whitney</th>\n",
              "      <th>statistic_mann_whitney</th>\n",
              "      <th>bec_difference</th>\n",
              "      <th>bec_bootstraps</th>\n",
              "      <th>bec_bca_interval_idx</th>\n",
              "      <th>bec_bca_low</th>\n",
              "      <th>bec_bca_high</th>\n",
              "      <th>bec_pct_interval_idx</th>\n",
              "      <th>bec_pct_low</th>\n",
              "      <th>bec_pct_high</th>\n",
              "    </tr>\n",
              "  </thead>\n",
              "  <tbody>\n",
              "    <tr>\n",
              "      <th>0</th>\n",
              "      <td>Baseline Control</td>\n",
              "      <td>Week12 Control</td>\n",
              "      <td>56</td>\n",
              "      <td>48</td>\n",
              "      <td>Hedges' g</td>\n",
              "      <td>None</td>\n",
              "      <td>0.198012</td>\n",
              "      <td>95</td>\n",
              "      <td>-0.187444</td>\n",
              "      <td>0.580463</td>\n",
              "      <td>...</td>\n",
              "      <td>0.283395</td>\n",
              "      <td>1179.0</td>\n",
              "      <td>0.0</td>\n",
              "      <td>[-0.2562494838859451, -0.08398240204360188, 0....</td>\n",
              "      <td>(119, 4869)</td>\n",
              "      <td>-0.384233</td>\n",
              "      <td>0.370541</td>\n",
              "      <td>(125, 4875)</td>\n",
              "      <td>-0.380640</td>\n",
              "      <td>0.373805</td>\n",
              "    </tr>\n",
              "    <tr>\n",
              "      <th>1</th>\n",
              "      <td>Baseline Treatment</td>\n",
              "      <td>Week12 Treatment</td>\n",
              "      <td>56</td>\n",
              "      <td>47</td>\n",
              "      <td>Hedges' g</td>\n",
              "      <td>None</td>\n",
              "      <td>-0.432165</td>\n",
              "      <td>95</td>\n",
              "      <td>-0.825402</td>\n",
              "      <td>-0.052087</td>\n",
              "      <td>...</td>\n",
              "      <td>0.017248</td>\n",
              "      <td>1676.0</td>\n",
              "      <td>0.0</td>\n",
              "      <td>[0.03203393287097897, -0.13231067210308975, -0...</td>\n",
              "      <td>(124, 4874)</td>\n",
              "      <td>-0.378331</td>\n",
              "      <td>0.383954</td>\n",
              "      <td>(125, 4875)</td>\n",
              "      <td>-0.377144</td>\n",
              "      <td>0.384246</td>\n",
              "    </tr>\n",
              "  </tbody>\n",
              "</table>\n",
              "<p>2 rows × 35 columns</p>\n",
              "</div>\n",
              "    <div class=\"colab-df-buttons\">\n",
              "\n",
              "  <div class=\"colab-df-container\">\n",
              "    <button class=\"colab-df-convert\" onclick=\"convertToInteractive('df-48c674a6-c1da-4b99-8410-51b0cb77c379')\"\n",
              "            title=\"Convert this dataframe to an interactive table.\"\n",
              "            style=\"display:none;\">\n",
              "\n",
              "  <svg xmlns=\"http://www.w3.org/2000/svg\" height=\"24px\" viewBox=\"0 -960 960 960\">\n",
              "    <path d=\"M120-120v-720h720v720H120Zm60-500h600v-160H180v160Zm220 220h160v-160H400v160Zm0 220h160v-160H400v160ZM180-400h160v-160H180v160Zm440 0h160v-160H620v160ZM180-180h160v-160H180v160Zm440 0h160v-160H620v160Z\"/>\n",
              "  </svg>\n",
              "    </button>\n",
              "\n",
              "  <style>\n",
              "    .colab-df-container {\n",
              "      display:flex;\n",
              "      gap: 12px;\n",
              "    }\n",
              "\n",
              "    .colab-df-convert {\n",
              "      background-color: #E8F0FE;\n",
              "      border: none;\n",
              "      border-radius: 50%;\n",
              "      cursor: pointer;\n",
              "      display: none;\n",
              "      fill: #1967D2;\n",
              "      height: 32px;\n",
              "      padding: 0 0 0 0;\n",
              "      width: 32px;\n",
              "    }\n",
              "\n",
              "    .colab-df-convert:hover {\n",
              "      background-color: #E2EBFA;\n",
              "      box-shadow: 0px 1px 2px rgba(60, 64, 67, 0.3), 0px 1px 3px 1px rgba(60, 64, 67, 0.15);\n",
              "      fill: #174EA6;\n",
              "    }\n",
              "\n",
              "    .colab-df-buttons div {\n",
              "      margin-bottom: 4px;\n",
              "    }\n",
              "\n",
              "    [theme=dark] .colab-df-convert {\n",
              "      background-color: #3B4455;\n",
              "      fill: #D2E3FC;\n",
              "    }\n",
              "\n",
              "    [theme=dark] .colab-df-convert:hover {\n",
              "      background-color: #434B5C;\n",
              "      box-shadow: 0px 1px 3px 1px rgba(0, 0, 0, 0.15);\n",
              "      filter: drop-shadow(0px 1px 2px rgba(0, 0, 0, 0.3));\n",
              "      fill: #FFFFFF;\n",
              "    }\n",
              "  </style>\n",
              "\n",
              "    <script>\n",
              "      const buttonEl =\n",
              "        document.querySelector('#df-48c674a6-c1da-4b99-8410-51b0cb77c379 button.colab-df-convert');\n",
              "      buttonEl.style.display =\n",
              "        google.colab.kernel.accessAllowed ? 'block' : 'none';\n",
              "\n",
              "      async function convertToInteractive(key) {\n",
              "        const element = document.querySelector('#df-48c674a6-c1da-4b99-8410-51b0cb77c379');\n",
              "        const dataTable =\n",
              "          await google.colab.kernel.invokeFunction('convertToInteractive',\n",
              "                                                    [key], {});\n",
              "        if (!dataTable) return;\n",
              "\n",
              "        const docLinkHtml = 'Like what you see? Visit the ' +\n",
              "          '<a target=\"_blank\" href=https://colab.research.google.com/notebooks/data_table.ipynb>data table notebook</a>'\n",
              "          + ' to learn more about interactive tables.';\n",
              "        element.innerHTML = '';\n",
              "        dataTable['output_type'] = 'display_data';\n",
              "        await google.colab.output.renderOutput(dataTable, element);\n",
              "        const docLink = document.createElement('div');\n",
              "        docLink.innerHTML = docLinkHtml;\n",
              "        element.appendChild(docLink);\n",
              "      }\n",
              "    </script>\n",
              "  </div>\n",
              "\n",
              "\n",
              "<div id=\"df-fb188ed1-0e09-42ba-ab8c-c6276589c031\">\n",
              "  <button class=\"colab-df-quickchart\" onclick=\"quickchart('df-fb188ed1-0e09-42ba-ab8c-c6276589c031')\"\n",
              "            title=\"Suggest charts\"\n",
              "            style=\"display:none;\">\n",
              "\n",
              "<svg xmlns=\"http://www.w3.org/2000/svg\" height=\"24px\"viewBox=\"0 0 24 24\"\n",
              "     width=\"24px\">\n",
              "    <g>\n",
              "        <path d=\"M19 3H5c-1.1 0-2 .9-2 2v14c0 1.1.9 2 2 2h14c1.1 0 2-.9 2-2V5c0-1.1-.9-2-2-2zM9 17H7v-7h2v7zm4 0h-2V7h2v10zm4 0h-2v-4h2v4z\"/>\n",
              "    </g>\n",
              "</svg>\n",
              "  </button>\n",
              "\n",
              "<style>\n",
              "  .colab-df-quickchart {\n",
              "      --bg-color: #E8F0FE;\n",
              "      --fill-color: #1967D2;\n",
              "      --hover-bg-color: #E2EBFA;\n",
              "      --hover-fill-color: #174EA6;\n",
              "      --disabled-fill-color: #AAA;\n",
              "      --disabled-bg-color: #DDD;\n",
              "  }\n",
              "\n",
              "  [theme=dark] .colab-df-quickchart {\n",
              "      --bg-color: #3B4455;\n",
              "      --fill-color: #D2E3FC;\n",
              "      --hover-bg-color: #434B5C;\n",
              "      --hover-fill-color: #FFFFFF;\n",
              "      --disabled-bg-color: #3B4455;\n",
              "      --disabled-fill-color: #666;\n",
              "  }\n",
              "\n",
              "  .colab-df-quickchart {\n",
              "    background-color: var(--bg-color);\n",
              "    border: none;\n",
              "    border-radius: 50%;\n",
              "    cursor: pointer;\n",
              "    display: none;\n",
              "    fill: var(--fill-color);\n",
              "    height: 32px;\n",
              "    padding: 0;\n",
              "    width: 32px;\n",
              "  }\n",
              "\n",
              "  .colab-df-quickchart:hover {\n",
              "    background-color: var(--hover-bg-color);\n",
              "    box-shadow: 0 1px 2px rgba(60, 64, 67, 0.3), 0 1px 3px 1px rgba(60, 64, 67, 0.15);\n",
              "    fill: var(--button-hover-fill-color);\n",
              "  }\n",
              "\n",
              "  .colab-df-quickchart-complete:disabled,\n",
              "  .colab-df-quickchart-complete:disabled:hover {\n",
              "    background-color: var(--disabled-bg-color);\n",
              "    fill: var(--disabled-fill-color);\n",
              "    box-shadow: none;\n",
              "  }\n",
              "\n",
              "  .colab-df-spinner {\n",
              "    border: 2px solid var(--fill-color);\n",
              "    border-color: transparent;\n",
              "    border-bottom-color: var(--fill-color);\n",
              "    animation:\n",
              "      spin 1s steps(1) infinite;\n",
              "  }\n",
              "\n",
              "  @keyframes spin {\n",
              "    0% {\n",
              "      border-color: transparent;\n",
              "      border-bottom-color: var(--fill-color);\n",
              "      border-left-color: var(--fill-color);\n",
              "    }\n",
              "    20% {\n",
              "      border-color: transparent;\n",
              "      border-left-color: var(--fill-color);\n",
              "      border-top-color: var(--fill-color);\n",
              "    }\n",
              "    30% {\n",
              "      border-color: transparent;\n",
              "      border-left-color: var(--fill-color);\n",
              "      border-top-color: var(--fill-color);\n",
              "      border-right-color: var(--fill-color);\n",
              "    }\n",
              "    40% {\n",
              "      border-color: transparent;\n",
              "      border-right-color: var(--fill-color);\n",
              "      border-top-color: var(--fill-color);\n",
              "    }\n",
              "    60% {\n",
              "      border-color: transparent;\n",
              "      border-right-color: var(--fill-color);\n",
              "    }\n",
              "    80% {\n",
              "      border-color: transparent;\n",
              "      border-right-color: var(--fill-color);\n",
              "      border-bottom-color: var(--fill-color);\n",
              "    }\n",
              "    90% {\n",
              "      border-color: transparent;\n",
              "      border-bottom-color: var(--fill-color);\n",
              "    }\n",
              "  }\n",
              "</style>\n",
              "\n",
              "  <script>\n",
              "    async function quickchart(key) {\n",
              "      const quickchartButtonEl =\n",
              "        document.querySelector('#' + key + ' button');\n",
              "      quickchartButtonEl.disabled = true;  // To prevent multiple clicks.\n",
              "      quickchartButtonEl.classList.add('colab-df-spinner');\n",
              "      try {\n",
              "        const charts = await google.colab.kernel.invokeFunction(\n",
              "            'suggestCharts', [key], {});\n",
              "      } catch (error) {\n",
              "        console.error('Error during call to suggestCharts:', error);\n",
              "      }\n",
              "      quickchartButtonEl.classList.remove('colab-df-spinner');\n",
              "      quickchartButtonEl.classList.add('colab-df-quickchart-complete');\n",
              "    }\n",
              "    (() => {\n",
              "      let quickchartButtonEl =\n",
              "        document.querySelector('#df-fb188ed1-0e09-42ba-ab8c-c6276589c031 button');\n",
              "      quickchartButtonEl.style.display =\n",
              "        google.colab.kernel.accessAllowed ? 'block' : 'none';\n",
              "    })();\n",
              "  </script>\n",
              "</div>\n",
              "\n",
              "    </div>\n",
              "  </div>\n"
            ],
            "application/vnd.google.colaboratory.intrinsic+json": {
              "type": "dataframe"
            }
          },
          "metadata": {},
          "execution_count": 47
        }
      ]
    },
    {
      "cell_type": "code",
      "source": [
        "# show all statistical tests\n",
        "unpaired_deltadelta.hedges_g.statistical_tests"
      ],
      "metadata": {
        "colab": {
          "base_uri": "https://localhost:8080/",
          "height": 167
        },
        "id": "SfBkdaFVBb50",
        "outputId": "711d7d0e-036b-42ab-abc1-a9a40d7700e6"
      },
      "execution_count": 48,
      "outputs": [
        {
          "output_type": "execute_result",
          "data": {
            "text/plain": [
              "              control              test  control_N  test_N effect_size  \\\n",
              "0    Baseline Control    Week12 Control         56      48   Hedges' g   \n",
              "1  Baseline Treatment  Week12 Treatment         56      47   Hedges' g   \n",
              "\n",
              "  is_paired  difference  ci   bca_low  bca_high  pvalue_permutation  \\\n",
              "0      None    0.198012  95 -0.187444  0.580463              0.3168   \n",
              "1      None   -0.432165  95 -0.825402 -0.052087              0.0272   \n",
              "\n",
              "   pvalue_welch  statistic_welch  pvalue_students_t  statistic_students_t  \\\n",
              "0      0.312557        -1.015003           0.312910             -1.014153   \n",
              "1      0.029299         2.211383           0.030013              2.201001   \n",
              "\n",
              "   pvalue_mann_whitney  statistic_mann_whitney  \n",
              "0             0.283395                  1179.0  \n",
              "1             0.017248                  1676.0  "
            ],
            "text/html": [
              "\n",
              "  <div id=\"df-ed215a7a-4e7f-4a9a-bf9a-58dffe57c286\" class=\"colab-df-container\">\n",
              "    <div>\n",
              "<style scoped>\n",
              "    .dataframe tbody tr th:only-of-type {\n",
              "        vertical-align: middle;\n",
              "    }\n",
              "\n",
              "    .dataframe tbody tr th {\n",
              "        vertical-align: top;\n",
              "    }\n",
              "\n",
              "    .dataframe thead th {\n",
              "        text-align: right;\n",
              "    }\n",
              "</style>\n",
              "<table border=\"1\" class=\"dataframe\">\n",
              "  <thead>\n",
              "    <tr style=\"text-align: right;\">\n",
              "      <th></th>\n",
              "      <th>control</th>\n",
              "      <th>test</th>\n",
              "      <th>control_N</th>\n",
              "      <th>test_N</th>\n",
              "      <th>effect_size</th>\n",
              "      <th>is_paired</th>\n",
              "      <th>difference</th>\n",
              "      <th>ci</th>\n",
              "      <th>bca_low</th>\n",
              "      <th>bca_high</th>\n",
              "      <th>pvalue_permutation</th>\n",
              "      <th>pvalue_welch</th>\n",
              "      <th>statistic_welch</th>\n",
              "      <th>pvalue_students_t</th>\n",
              "      <th>statistic_students_t</th>\n",
              "      <th>pvalue_mann_whitney</th>\n",
              "      <th>statistic_mann_whitney</th>\n",
              "    </tr>\n",
              "  </thead>\n",
              "  <tbody>\n",
              "    <tr>\n",
              "      <th>0</th>\n",
              "      <td>Baseline Control</td>\n",
              "      <td>Week12 Control</td>\n",
              "      <td>56</td>\n",
              "      <td>48</td>\n",
              "      <td>Hedges' g</td>\n",
              "      <td>None</td>\n",
              "      <td>0.198012</td>\n",
              "      <td>95</td>\n",
              "      <td>-0.187444</td>\n",
              "      <td>0.580463</td>\n",
              "      <td>0.3168</td>\n",
              "      <td>0.312557</td>\n",
              "      <td>-1.015003</td>\n",
              "      <td>0.312910</td>\n",
              "      <td>-1.014153</td>\n",
              "      <td>0.283395</td>\n",
              "      <td>1179.0</td>\n",
              "    </tr>\n",
              "    <tr>\n",
              "      <th>1</th>\n",
              "      <td>Baseline Treatment</td>\n",
              "      <td>Week12 Treatment</td>\n",
              "      <td>56</td>\n",
              "      <td>47</td>\n",
              "      <td>Hedges' g</td>\n",
              "      <td>None</td>\n",
              "      <td>-0.432165</td>\n",
              "      <td>95</td>\n",
              "      <td>-0.825402</td>\n",
              "      <td>-0.052087</td>\n",
              "      <td>0.0272</td>\n",
              "      <td>0.029299</td>\n",
              "      <td>2.211383</td>\n",
              "      <td>0.030013</td>\n",
              "      <td>2.201001</td>\n",
              "      <td>0.017248</td>\n",
              "      <td>1676.0</td>\n",
              "    </tr>\n",
              "  </tbody>\n",
              "</table>\n",
              "</div>\n",
              "    <div class=\"colab-df-buttons\">\n",
              "\n",
              "  <div class=\"colab-df-container\">\n",
              "    <button class=\"colab-df-convert\" onclick=\"convertToInteractive('df-ed215a7a-4e7f-4a9a-bf9a-58dffe57c286')\"\n",
              "            title=\"Convert this dataframe to an interactive table.\"\n",
              "            style=\"display:none;\">\n",
              "\n",
              "  <svg xmlns=\"http://www.w3.org/2000/svg\" height=\"24px\" viewBox=\"0 -960 960 960\">\n",
              "    <path d=\"M120-120v-720h720v720H120Zm60-500h600v-160H180v160Zm220 220h160v-160H400v160Zm0 220h160v-160H400v160ZM180-400h160v-160H180v160Zm440 0h160v-160H620v160ZM180-180h160v-160H180v160Zm440 0h160v-160H620v160Z\"/>\n",
              "  </svg>\n",
              "    </button>\n",
              "\n",
              "  <style>\n",
              "    .colab-df-container {\n",
              "      display:flex;\n",
              "      gap: 12px;\n",
              "    }\n",
              "\n",
              "    .colab-df-convert {\n",
              "      background-color: #E8F0FE;\n",
              "      border: none;\n",
              "      border-radius: 50%;\n",
              "      cursor: pointer;\n",
              "      display: none;\n",
              "      fill: #1967D2;\n",
              "      height: 32px;\n",
              "      padding: 0 0 0 0;\n",
              "      width: 32px;\n",
              "    }\n",
              "\n",
              "    .colab-df-convert:hover {\n",
              "      background-color: #E2EBFA;\n",
              "      box-shadow: 0px 1px 2px rgba(60, 64, 67, 0.3), 0px 1px 3px 1px rgba(60, 64, 67, 0.15);\n",
              "      fill: #174EA6;\n",
              "    }\n",
              "\n",
              "    .colab-df-buttons div {\n",
              "      margin-bottom: 4px;\n",
              "    }\n",
              "\n",
              "    [theme=dark] .colab-df-convert {\n",
              "      background-color: #3B4455;\n",
              "      fill: #D2E3FC;\n",
              "    }\n",
              "\n",
              "    [theme=dark] .colab-df-convert:hover {\n",
              "      background-color: #434B5C;\n",
              "      box-shadow: 0px 1px 3px 1px rgba(0, 0, 0, 0.15);\n",
              "      filter: drop-shadow(0px 1px 2px rgba(0, 0, 0, 0.3));\n",
              "      fill: #FFFFFF;\n",
              "    }\n",
              "  </style>\n",
              "\n",
              "    <script>\n",
              "      const buttonEl =\n",
              "        document.querySelector('#df-ed215a7a-4e7f-4a9a-bf9a-58dffe57c286 button.colab-df-convert');\n",
              "      buttonEl.style.display =\n",
              "        google.colab.kernel.accessAllowed ? 'block' : 'none';\n",
              "\n",
              "      async function convertToInteractive(key) {\n",
              "        const element = document.querySelector('#df-ed215a7a-4e7f-4a9a-bf9a-58dffe57c286');\n",
              "        const dataTable =\n",
              "          await google.colab.kernel.invokeFunction('convertToInteractive',\n",
              "                                                    [key], {});\n",
              "        if (!dataTable) return;\n",
              "\n",
              "        const docLinkHtml = 'Like what you see? Visit the ' +\n",
              "          '<a target=\"_blank\" href=https://colab.research.google.com/notebooks/data_table.ipynb>data table notebook</a>'\n",
              "          + ' to learn more about interactive tables.';\n",
              "        element.innerHTML = '';\n",
              "        dataTable['output_type'] = 'display_data';\n",
              "        await google.colab.output.renderOutput(dataTable, element);\n",
              "        const docLink = document.createElement('div');\n",
              "        docLink.innerHTML = docLinkHtml;\n",
              "        element.appendChild(docLink);\n",
              "      }\n",
              "    </script>\n",
              "  </div>\n",
              "\n",
              "\n",
              "<div id=\"df-a8265510-e023-485b-b3aa-dc6f27c5687b\">\n",
              "  <button class=\"colab-df-quickchart\" onclick=\"quickchart('df-a8265510-e023-485b-b3aa-dc6f27c5687b')\"\n",
              "            title=\"Suggest charts\"\n",
              "            style=\"display:none;\">\n",
              "\n",
              "<svg xmlns=\"http://www.w3.org/2000/svg\" height=\"24px\"viewBox=\"0 0 24 24\"\n",
              "     width=\"24px\">\n",
              "    <g>\n",
              "        <path d=\"M19 3H5c-1.1 0-2 .9-2 2v14c0 1.1.9 2 2 2h14c1.1 0 2-.9 2-2V5c0-1.1-.9-2-2-2zM9 17H7v-7h2v7zm4 0h-2V7h2v10zm4 0h-2v-4h2v4z\"/>\n",
              "    </g>\n",
              "</svg>\n",
              "  </button>\n",
              "\n",
              "<style>\n",
              "  .colab-df-quickchart {\n",
              "      --bg-color: #E8F0FE;\n",
              "      --fill-color: #1967D2;\n",
              "      --hover-bg-color: #E2EBFA;\n",
              "      --hover-fill-color: #174EA6;\n",
              "      --disabled-fill-color: #AAA;\n",
              "      --disabled-bg-color: #DDD;\n",
              "  }\n",
              "\n",
              "  [theme=dark] .colab-df-quickchart {\n",
              "      --bg-color: #3B4455;\n",
              "      --fill-color: #D2E3FC;\n",
              "      --hover-bg-color: #434B5C;\n",
              "      --hover-fill-color: #FFFFFF;\n",
              "      --disabled-bg-color: #3B4455;\n",
              "      --disabled-fill-color: #666;\n",
              "  }\n",
              "\n",
              "  .colab-df-quickchart {\n",
              "    background-color: var(--bg-color);\n",
              "    border: none;\n",
              "    border-radius: 50%;\n",
              "    cursor: pointer;\n",
              "    display: none;\n",
              "    fill: var(--fill-color);\n",
              "    height: 32px;\n",
              "    padding: 0;\n",
              "    width: 32px;\n",
              "  }\n",
              "\n",
              "  .colab-df-quickchart:hover {\n",
              "    background-color: var(--hover-bg-color);\n",
              "    box-shadow: 0 1px 2px rgba(60, 64, 67, 0.3), 0 1px 3px 1px rgba(60, 64, 67, 0.15);\n",
              "    fill: var(--button-hover-fill-color);\n",
              "  }\n",
              "\n",
              "  .colab-df-quickchart-complete:disabled,\n",
              "  .colab-df-quickchart-complete:disabled:hover {\n",
              "    background-color: var(--disabled-bg-color);\n",
              "    fill: var(--disabled-fill-color);\n",
              "    box-shadow: none;\n",
              "  }\n",
              "\n",
              "  .colab-df-spinner {\n",
              "    border: 2px solid var(--fill-color);\n",
              "    border-color: transparent;\n",
              "    border-bottom-color: var(--fill-color);\n",
              "    animation:\n",
              "      spin 1s steps(1) infinite;\n",
              "  }\n",
              "\n",
              "  @keyframes spin {\n",
              "    0% {\n",
              "      border-color: transparent;\n",
              "      border-bottom-color: var(--fill-color);\n",
              "      border-left-color: var(--fill-color);\n",
              "    }\n",
              "    20% {\n",
              "      border-color: transparent;\n",
              "      border-left-color: var(--fill-color);\n",
              "      border-top-color: var(--fill-color);\n",
              "    }\n",
              "    30% {\n",
              "      border-color: transparent;\n",
              "      border-left-color: var(--fill-color);\n",
              "      border-top-color: var(--fill-color);\n",
              "      border-right-color: var(--fill-color);\n",
              "    }\n",
              "    40% {\n",
              "      border-color: transparent;\n",
              "      border-right-color: var(--fill-color);\n",
              "      border-top-color: var(--fill-color);\n",
              "    }\n",
              "    60% {\n",
              "      border-color: transparent;\n",
              "      border-right-color: var(--fill-color);\n",
              "    }\n",
              "    80% {\n",
              "      border-color: transparent;\n",
              "      border-right-color: var(--fill-color);\n",
              "      border-bottom-color: var(--fill-color);\n",
              "    }\n",
              "    90% {\n",
              "      border-color: transparent;\n",
              "      border-bottom-color: var(--fill-color);\n",
              "    }\n",
              "  }\n",
              "</style>\n",
              "\n",
              "  <script>\n",
              "    async function quickchart(key) {\n",
              "      const quickchartButtonEl =\n",
              "        document.querySelector('#' + key + ' button');\n",
              "      quickchartButtonEl.disabled = true;  // To prevent multiple clicks.\n",
              "      quickchartButtonEl.classList.add('colab-df-spinner');\n",
              "      try {\n",
              "        const charts = await google.colab.kernel.invokeFunction(\n",
              "            'suggestCharts', [key], {});\n",
              "      } catch (error) {\n",
              "        console.error('Error during call to suggestCharts:', error);\n",
              "      }\n",
              "      quickchartButtonEl.classList.remove('colab-df-spinner');\n",
              "      quickchartButtonEl.classList.add('colab-df-quickchart-complete');\n",
              "    }\n",
              "    (() => {\n",
              "      let quickchartButtonEl =\n",
              "        document.querySelector('#df-a8265510-e023-485b-b3aa-dc6f27c5687b button');\n",
              "      quickchartButtonEl.style.display =\n",
              "        google.colab.kernel.accessAllowed ? 'block' : 'none';\n",
              "    })();\n",
              "  </script>\n",
              "</div>\n",
              "\n",
              "    </div>\n",
              "  </div>\n"
            ],
            "application/vnd.google.colaboratory.intrinsic+json": {
              "type": "dataframe",
              "repr_error": "Out of range float values are not JSON compliant: nan"
            }
          },
          "metadata": {},
          "execution_count": 48
        }
      ]
    },
    {
      "cell_type": "markdown",
      "source": [
        "### Hedge's g plot\n",
        "Edit plot aesthetics at https://acclab.github.io/DABEST-python/tutorials/09-plot_aesthetics.html"
      ],
      "metadata": {
        "id": "Ax9RcOwHDHvz"
      }
    },
    {
      "cell_type": "code",
      "source": [
        "# Build the delta-delta estimation plot with Hedge's g\n",
        "unpaired_deltadelta.hedges_g.plot(\n",
        "    custom_palette=sns.color_palette(\"Set2\"), # color-blind friendly\n",
        "    contrast_label=\"Mean difference\",\n",
        "    fig_size=(12, 6),\n",
        "    raw_marker_size=2,\n",
        ");"
      ],
      "metadata": {
        "colab": {
          "base_uri": "https://localhost:8080/",
          "height": 557
        },
        "id": "wVx6nlTu_oIo",
        "outputId": "1e7dacec-42f7-4036-c28c-4fb51b3f2af0"
      },
      "execution_count": 49,
      "outputs": [
        {
          "output_type": "display_data",
          "data": {
            "text/plain": [
              "<Figure size 1200x600 with 3 Axes>"
            ],
            "image/png": "[encoded data removed]"
          },
          "metadata": {}
        }
      ]
    },
    {
      "cell_type": "code",
      "source": [
        "# standardize the delta-delta effect size with Cohen's d\n",
        "unpaired_deltadelta.cohens_d"
      ],
      "metadata": {
        "colab": {
          "base_uri": "https://localhost:8080/"
        },
        "id": "p-vEODZpD7K3",
        "outputId": "41747138-bd81-476b-dc8d-786eb59dcf07"
      },
      "execution_count": 50,
      "outputs": [
        {
          "output_type": "execute_result",
          "data": {
            "text/plain": [
              "DABEST v2025.03.27\n",
              "==================\n",
              "                  \n",
              "Good afternoon!\n",
              "The current time is Fri Apr 11 15:59:40 2025.\n",
              "\n",
              "The unpaired Cohen's d between Baseline Control and Week12 Control is 0.199 [95%CI -0.189, 0.585].\n",
              "The p-value of the two-sided permutation t-test is 0.317, calculated for legacy purposes only. \n",
              "\n",
              "The unpaired Cohen's d between Baseline Treatment and Week12 Treatment is -0.435 [95%CI -0.832, -0.0525].\n",
              "The p-value of the two-sided permutation t-test is 0.0272, calculated for legacy purposes only. \n",
              "\n",
              "5000 bootstrap samples were taken; the confidence interval is bias-corrected and accelerated.\n",
              "Any p-value reported is the probability of observing theeffect size (or greater),\n",
              "assuming the null hypothesis of zero difference is true.\n",
              "For each p-value, 5000 reshuffles of the control and test labels were performed.\n",
              "\n",
              "To get the results of all valid statistical tests, use `.cohens_d.statistical_tests`"
            ]
          },
          "metadata": {},
          "execution_count": 50
        }
      ]
    },
    {
      "cell_type": "code",
      "source": [
        "# standardize the delta-delta effect size with Cohen's d\n",
        "unpaired_deltadelta.cohens_d.results"
      ],
      "metadata": {
        "colab": {
          "base_uri": "https://localhost:8080/",
          "height": 231
        },
        "id": "MRWGnZ47EE8l",
        "outputId": "965ae515-eb3c-4af8-a8c6-329c8e0cb28d"
      },
      "execution_count": 51,
      "outputs": [
        {
          "output_type": "execute_result",
          "data": {
            "text/plain": [
              "              control              test  control_N  test_N effect_size  \\\n",
              "0    Baseline Control    Week12 Control         56      48   Cohen's d   \n",
              "1  Baseline Treatment  Week12 Treatment         56      47   Cohen's d   \n",
              "\n",
              "  is_paired  difference  ci   bca_low  bca_high  ... pvalue_mann_whitney  \\\n",
              "0      None    0.199483  95 -0.188837  0.584775  ...            0.283395   \n",
              "1      None   -0.435407  95 -0.831596 -0.052477  ...            0.017248   \n",
              "\n",
              "   statistic_mann_whitney  bec_difference  \\\n",
              "0                  1179.0             0.0   \n",
              "1                  1676.0             0.0   \n",
              "\n",
              "                                      bec_bootstraps bec_bca_interval_idx  \\\n",
              "0  [-0.25801334385159513, -0.08456048397585572, 0...          (119, 4869)   \n",
              "1  [0.03225443427795386, -0.13322141539127824, -0...          (124, 4874)   \n",
              "\n",
              "   bec_bca_low  bec_bca_high bec_pct_interval_idx  bec_pct_low  bec_pct_high  \n",
              "0    -0.386878      0.373092          (125, 4875)     -0.38326      0.376378  \n",
              "1    -0.380935      0.386597          (125, 4875)     -0.37974      0.386891  \n",
              "\n",
              "[2 rows x 35 columns]"
            ],
            "text/html": [
              "\n",
              "  <div id=\"df-8b7fd1c1-98b4-4c88-ba64-c663fb22fac2\" class=\"colab-df-container\">\n",
              "    <div>\n",
              "<style scoped>\n",
              "    .dataframe tbody tr th:only-of-type {\n",
              "        vertical-align: middle;\n",
              "    }\n",
              "\n",
              "    .dataframe tbody tr th {\n",
              "        vertical-align: top;\n",
              "    }\n",
              "\n",
              "    .dataframe thead th {\n",
              "        text-align: right;\n",
              "    }\n",
              "</style>\n",
              "<table border=\"1\" class=\"dataframe\">\n",
              "  <thead>\n",
              "    <tr style=\"text-align: right;\">\n",
              "      <th></th>\n",
              "      <th>control</th>\n",
              "      <th>test</th>\n",
              "      <th>control_N</th>\n",
              "      <th>test_N</th>\n",
              "      <th>effect_size</th>\n",
              "      <th>is_paired</th>\n",
              "      <th>difference</th>\n",
              "      <th>ci</th>\n",
              "      <th>bca_low</th>\n",
              "      <th>bca_high</th>\n",
              "      <th>...</th>\n",
              "      <th>pvalue_mann_whitney</th>\n",
              "      <th>statistic_mann_whitney</th>\n",
              "      <th>bec_difference</th>\n",
              "      <th>bec_bootstraps</th>\n",
              "      <th>bec_bca_interval_idx</th>\n",
              "      <th>bec_bca_low</th>\n",
              "      <th>bec_bca_high</th>\n",
              "      <th>bec_pct_interval_idx</th>\n",
              "      <th>bec_pct_low</th>\n",
              "      <th>bec_pct_high</th>\n",
              "    </tr>\n",
              "  </thead>\n",
              "  <tbody>\n",
              "    <tr>\n",
              "      <th>0</th>\n",
              "      <td>Baseline Control</td>\n",
              "      <td>Week12 Control</td>\n",
              "      <td>56</td>\n",
              "      <td>48</td>\n",
              "      <td>Cohen's d</td>\n",
              "      <td>None</td>\n",
              "      <td>0.199483</td>\n",
              "      <td>95</td>\n",
              "      <td>-0.188837</td>\n",
              "      <td>0.584775</td>\n",
              "      <td>...</td>\n",
              "      <td>0.283395</td>\n",
              "      <td>1179.0</td>\n",
              "      <td>0.0</td>\n",
              "      <td>[-0.25801334385159513, -0.08456048397585572, 0...</td>\n",
              "      <td>(119, 4869)</td>\n",
              "      <td>-0.386878</td>\n",
              "      <td>0.373092</td>\n",
              "      <td>(125, 4875)</td>\n",
              "      <td>-0.38326</td>\n",
              "      <td>0.376378</td>\n",
              "    </tr>\n",
              "    <tr>\n",
              "      <th>1</th>\n",
              "      <td>Baseline Treatment</td>\n",
              "      <td>Week12 Treatment</td>\n",
              "      <td>56</td>\n",
              "      <td>47</td>\n",
              "      <td>Cohen's d</td>\n",
              "      <td>None</td>\n",
              "      <td>-0.435407</td>\n",
              "      <td>95</td>\n",
              "      <td>-0.831596</td>\n",
              "      <td>-0.052477</td>\n",
              "      <td>...</td>\n",
              "      <td>0.017248</td>\n",
              "      <td>1676.0</td>\n",
              "      <td>0.0</td>\n",
              "      <td>[0.03225443427795386, -0.13322141539127824, -0...</td>\n",
              "      <td>(124, 4874)</td>\n",
              "      <td>-0.380935</td>\n",
              "      <td>0.386597</td>\n",
              "      <td>(125, 4875)</td>\n",
              "      <td>-0.37974</td>\n",
              "      <td>0.386891</td>\n",
              "    </tr>\n",
              "  </tbody>\n",
              "</table>\n",
              "<p>2 rows × 35 columns</p>\n",
              "</div>\n",
              "    <div class=\"colab-df-buttons\">\n",
              "\n",
              "  <div class=\"colab-df-container\">\n",
              "    <button class=\"colab-df-convert\" onclick=\"convertToInteractive('df-8b7fd1c1-98b4-4c88-ba64-c663fb22fac2')\"\n",
              "            title=\"Convert this dataframe to an interactive table.\"\n",
              "            style=\"display:none;\">\n",
              "\n",
              "  <svg xmlns=\"http://www.w3.org/2000/svg\" height=\"24px\" viewBox=\"0 -960 960 960\">\n",
              "    <path d=\"M120-120v-720h720v720H120Zm60-500h600v-160H180v160Zm220 220h160v-160H400v160Zm0 220h160v-160H400v160ZM180-400h160v-160H180v160Zm440 0h160v-160H620v160ZM180-180h160v-160H180v160Zm440 0h160v-160H620v160Z\"/>\n",
              "  </svg>\n",
              "    </button>\n",
              "\n",
              "  <style>\n",
              "    .colab-df-container {\n",
              "      display:flex;\n",
              "      gap: 12px;\n",
              "    }\n",
              "\n",
              "    .colab-df-convert {\n",
              "      background-color: #E8F0FE;\n",
              "      border: none;\n",
              "      border-radius: 50%;\n",
              "      cursor: pointer;\n",
              "      display: none;\n",
              "      fill: #1967D2;\n",
              "      height: 32px;\n",
              "      padding: 0 0 0 0;\n",
              "      width: 32px;\n",
              "    }\n",
              "\n",
              "    .colab-df-convert:hover {\n",
              "      background-color: #E2EBFA;\n",
              "      box-shadow: 0px 1px 2px rgba(60, 64, 67, 0.3), 0px 1px 3px 1px rgba(60, 64, 67, 0.15);\n",
              "      fill: #174EA6;\n",
              "    }\n",
              "\n",
              "    .colab-df-buttons div {\n",
              "      margin-bottom: 4px;\n",
              "    }\n",
              "\n",
              "    [theme=dark] .colab-df-convert {\n",
              "      background-color: #3B4455;\n",
              "      fill: #D2E3FC;\n",
              "    }\n",
              "\n",
              "    [theme=dark] .colab-df-convert:hover {\n",
              "      background-color: #434B5C;\n",
              "      box-shadow: 0px 1px 3px 1px rgba(0, 0, 0, 0.15);\n",
              "      filter: drop-shadow(0px 1px 2px rgba(0, 0, 0, 0.3));\n",
              "      fill: #FFFFFF;\n",
              "    }\n",
              "  </style>\n",
              "\n",
              "    <script>\n",
              "      const buttonEl =\n",
              "        document.querySelector('#df-8b7fd1c1-98b4-4c88-ba64-c663fb22fac2 button.colab-df-convert');\n",
              "      buttonEl.style.display =\n",
              "        google.colab.kernel.accessAllowed ? 'block' : 'none';\n",
              "\n",
              "      async function convertToInteractive(key) {\n",
              "        const element = document.querySelector('#df-8b7fd1c1-98b4-4c88-ba64-c663fb22fac2');\n",
              "        const dataTable =\n",
              "          await google.colab.kernel.invokeFunction('convertToInteractive',\n",
              "                                                    [key], {});\n",
              "        if (!dataTable) return;\n",
              "\n",
              "        const docLinkHtml = 'Like what you see? Visit the ' +\n",
              "          '<a target=\"_blank\" href=https://colab.research.google.com/notebooks/data_table.ipynb>data table notebook</a>'\n",
              "          + ' to learn more about interactive tables.';\n",
              "        element.innerHTML = '';\n",
              "        dataTable['output_type'] = 'display_data';\n",
              "        await google.colab.output.renderOutput(dataTable, element);\n",
              "        const docLink = document.createElement('div');\n",
              "        docLink.innerHTML = docLinkHtml;\n",
              "        element.appendChild(docLink);\n",
              "      }\n",
              "    </script>\n",
              "  </div>\n",
              "\n",
              "\n",
              "<div id=\"df-30ccd58a-c095-483c-a9d7-1034109c4b81\">\n",
              "  <button class=\"colab-df-quickchart\" onclick=\"quickchart('df-30ccd58a-c095-483c-a9d7-1034109c4b81')\"\n",
              "            title=\"Suggest charts\"\n",
              "            style=\"display:none;\">\n",
              "\n",
              "<svg xmlns=\"http://www.w3.org/2000/svg\" height=\"24px\"viewBox=\"0 0 24 24\"\n",
              "     width=\"24px\">\n",
              "    <g>\n",
              "        <path d=\"M19 3H5c-1.1 0-2 .9-2 2v14c0 1.1.9 2 2 2h14c1.1 0 2-.9 2-2V5c0-1.1-.9-2-2-2zM9 17H7v-7h2v7zm4 0h-2V7h2v10zm4 0h-2v-4h2v4z\"/>\n",
              "    </g>\n",
              "</svg>\n",
              "  </button>\n",
              "\n",
              "<style>\n",
              "  .colab-df-quickchart {\n",
              "      --bg-color: #E8F0FE;\n",
              "      --fill-color: #1967D2;\n",
              "      --hover-bg-color: #E2EBFA;\n",
              "      --hover-fill-color: #174EA6;\n",
              "      --disabled-fill-color: #AAA;\n",
              "      --disabled-bg-color: #DDD;\n",
              "  }\n",
              "\n",
              "  [theme=dark] .colab-df-quickchart {\n",
              "      --bg-color: #3B4455;\n",
              "      --fill-color: #D2E3FC;\n",
              "      --hover-bg-color: #434B5C;\n",
              "      --hover-fill-color: #FFFFFF;\n",
              "      --disabled-bg-color: #3B4455;\n",
              "      --disabled-fill-color: #666;\n",
              "  }\n",
              "\n",
              "  .colab-df-quickchart {\n",
              "    background-color: var(--bg-color);\n",
              "    border: none;\n",
              "    border-radius: 50%;\n",
              "    cursor: pointer;\n",
              "    display: none;\n",
              "    fill: var(--fill-color);\n",
              "    height: 32px;\n",
              "    padding: 0;\n",
              "    width: 32px;\n",
              "  }\n",
              "\n",
              "  .colab-df-quickchart:hover {\n",
              "    background-color: var(--hover-bg-color);\n",
              "    box-shadow: 0 1px 2px rgba(60, 64, 67, 0.3), 0 1px 3px 1px rgba(60, 64, 67, 0.15);\n",
              "    fill: var(--button-hover-fill-color);\n",
              "  }\n",
              "\n",
              "  .colab-df-quickchart-complete:disabled,\n",
              "  .colab-df-quickchart-complete:disabled:hover {\n",
              "    background-color: var(--disabled-bg-color);\n",
              "    fill: var(--disabled-fill-color);\n",
              "    box-shadow: none;\n",
              "  }\n",
              "\n",
              "  .colab-df-spinner {\n",
              "    border: 2px solid var(--fill-color);\n",
              "    border-color: transparent;\n",
              "    border-bottom-color: var(--fill-color);\n",
              "    animation:\n",
              "      spin 1s steps(1) infinite;\n",
              "  }\n",
              "\n",
              "  @keyframes spin {\n",
              "    0% {\n",
              "      border-color: transparent;\n",
              "      border-bottom-color: var(--fill-color);\n",
              "      border-left-color: var(--fill-color);\n",
              "    }\n",
              "    20% {\n",
              "      border-color: transparent;\n",
              "      border-left-color: var(--fill-color);\n",
              "      border-top-color: var(--fill-color);\n",
              "    }\n",
              "    30% {\n",
              "      border-color: transparent;\n",
              "      border-left-color: var(--fill-color);\n",
              "      border-top-color: var(--fill-color);\n",
              "      border-right-color: var(--fill-color);\n",
              "    }\n",
              "    40% {\n",
              "      border-color: transparent;\n",
              "      border-right-color: var(--fill-color);\n",
              "      border-top-color: var(--fill-color);\n",
              "    }\n",
              "    60% {\n",
              "      border-color: transparent;\n",
              "      border-right-color: var(--fill-color);\n",
              "    }\n",
              "    80% {\n",
              "      border-color: transparent;\n",
              "      border-right-color: var(--fill-color);\n",
              "      border-bottom-color: var(--fill-color);\n",
              "    }\n",
              "    90% {\n",
              "      border-color: transparent;\n",
              "      border-bottom-color: var(--fill-color);\n",
              "    }\n",
              "  }\n",
              "</style>\n",
              "\n",
              "  <script>\n",
              "    async function quickchart(key) {\n",
              "      const quickchartButtonEl =\n",
              "        document.querySelector('#' + key + ' button');\n",
              "      quickchartButtonEl.disabled = true;  // To prevent multiple clicks.\n",
              "      quickchartButtonEl.classList.add('colab-df-spinner');\n",
              "      try {\n",
              "        const charts = await google.colab.kernel.invokeFunction(\n",
              "            'suggestCharts', [key], {});\n",
              "      } catch (error) {\n",
              "        console.error('Error during call to suggestCharts:', error);\n",
              "      }\n",
              "      quickchartButtonEl.classList.remove('colab-df-spinner');\n",
              "      quickchartButtonEl.classList.add('colab-df-quickchart-complete');\n",
              "    }\n",
              "    (() => {\n",
              "      let quickchartButtonEl =\n",
              "        document.querySelector('#df-30ccd58a-c095-483c-a9d7-1034109c4b81 button');\n",
              "      quickchartButtonEl.style.display =\n",
              "        google.colab.kernel.accessAllowed ? 'block' : 'none';\n",
              "    })();\n",
              "  </script>\n",
              "</div>\n",
              "\n",
              "    </div>\n",
              "  </div>\n"
            ],
            "application/vnd.google.colaboratory.intrinsic+json": {
              "type": "dataframe"
            }
          },
          "metadata": {},
          "execution_count": 51
        }
      ]
    },
    {
      "cell_type": "code",
      "source": [
        "# standardize the delta-delta effect size with Cohen's d\n",
        "unpaired_deltadelta.cohens_d.statistical_tests"
      ],
      "metadata": {
        "colab": {
          "base_uri": "https://localhost:8080/",
          "height": 167
        },
        "id": "gBKRYIOKEFgr",
        "outputId": "360f0c03-aee1-4095-eed1-4cfa398b650b"
      },
      "execution_count": 52,
      "outputs": [
        {
          "output_type": "execute_result",
          "data": {
            "text/plain": [
              "              control              test  control_N  test_N effect_size  \\\n",
              "0    Baseline Control    Week12 Control         56      48   Cohen's d   \n",
              "1  Baseline Treatment  Week12 Treatment         56      47   Cohen's d   \n",
              "\n",
              "  is_paired  difference  ci   bca_low  bca_high  pvalue_permutation  \\\n",
              "0      None    0.199483  95 -0.188837  0.584775              0.3168   \n",
              "1      None   -0.435407  95 -0.831596 -0.052477              0.0272   \n",
              "\n",
              "   pvalue_welch  statistic_welch  pvalue_students_t  statistic_students_t  \\\n",
              "0      0.312557        -1.015003           0.312910             -1.014153   \n",
              "1      0.029299         2.211383           0.030013              2.201001   \n",
              "\n",
              "   pvalue_mann_whitney  statistic_mann_whitney  \n",
              "0             0.283395                  1179.0  \n",
              "1             0.017248                  1676.0  "
            ],
            "text/html": [
              "\n",
              "  <div id=\"df-87e5082e-474a-4708-8275-251e64b11195\" class=\"colab-df-container\">\n",
              "    <div>\n",
              "<style scoped>\n",
              "    .dataframe tbody tr th:only-of-type {\n",
              "        vertical-align: middle;\n",
              "    }\n",
              "\n",
              "    .dataframe tbody tr th {\n",
              "        vertical-align: top;\n",
              "    }\n",
              "\n",
              "    .dataframe thead th {\n",
              "        text-align: right;\n",
              "    }\n",
              "</style>\n",
              "<table border=\"1\" class=\"dataframe\">\n",
              "  <thead>\n",
              "    <tr style=\"text-align: right;\">\n",
              "      <th></th>\n",
              "      <th>control</th>\n",
              "      <th>test</th>\n",
              "      <th>control_N</th>\n",
              "      <th>test_N</th>\n",
              "      <th>effect_size</th>\n",
              "      <th>is_paired</th>\n",
              "      <th>difference</th>\n",
              "      <th>ci</th>\n",
              "      <th>bca_low</th>\n",
              "      <th>bca_high</th>\n",
              "      <th>pvalue_permutation</th>\n",
              "      <th>pvalue_welch</th>\n",
              "      <th>statistic_welch</th>\n",
              "      <th>pvalue_students_t</th>\n",
              "      <th>statistic_students_t</th>\n",
              "      <th>pvalue_mann_whitney</th>\n",
              "      <th>statistic_mann_whitney</th>\n",
              "    </tr>\n",
              "  </thead>\n",
              "  <tbody>\n",
              "    <tr>\n",
              "      <th>0</th>\n",
              "      <td>Baseline Control</td>\n",
              "      <td>Week12 Control</td>\n",
              "      <td>56</td>\n",
              "      <td>48</td>\n",
              "      <td>Cohen's d</td>\n",
              "      <td>None</td>\n",
              "      <td>0.199483</td>\n",
              "      <td>95</td>\n",
              "      <td>-0.188837</td>\n",
              "      <td>0.584775</td>\n",
              "      <td>0.3168</td>\n",
              "      <td>0.312557</td>\n",
              "      <td>-1.015003</td>\n",
              "      <td>0.312910</td>\n",
              "      <td>-1.014153</td>\n",
              "      <td>0.283395</td>\n",
              "      <td>1179.0</td>\n",
              "    </tr>\n",
              "    <tr>\n",
              "      <th>1</th>\n",
              "      <td>Baseline Treatment</td>\n",
              "      <td>Week12 Treatment</td>\n",
              "      <td>56</td>\n",
              "      <td>47</td>\n",
              "      <td>Cohen's d</td>\n",
              "      <td>None</td>\n",
              "      <td>-0.435407</td>\n",
              "      <td>95</td>\n",
              "      <td>-0.831596</td>\n",
              "      <td>-0.052477</td>\n",
              "      <td>0.0272</td>\n",
              "      <td>0.029299</td>\n",
              "      <td>2.211383</td>\n",
              "      <td>0.030013</td>\n",
              "      <td>2.201001</td>\n",
              "      <td>0.017248</td>\n",
              "      <td>1676.0</td>\n",
              "    </tr>\n",
              "  </tbody>\n",
              "</table>\n",
              "</div>\n",
              "    <div class=\"colab-df-buttons\">\n",
              "\n",
              "  <div class=\"colab-df-container\">\n",
              "    <button class=\"colab-df-convert\" onclick=\"convertToInteractive('df-87e5082e-474a-4708-8275-251e64b11195')\"\n",
              "            title=\"Convert this dataframe to an interactive table.\"\n",
              "            style=\"display:none;\">\n",
              "\n",
              "  <svg xmlns=\"http://www.w3.org/2000/svg\" height=\"24px\" viewBox=\"0 -960 960 960\">\n",
              "    <path d=\"M120-120v-720h720v720H120Zm60-500h600v-160H180v160Zm220 220h160v-160H400v160Zm0 220h160v-160H400v160ZM180-400h160v-160H180v160Zm440 0h160v-160H620v160ZM180-180h160v-160H180v160Zm440 0h160v-160H620v160Z\"/>\n",
              "  </svg>\n",
              "    </button>\n",
              "\n",
              "  <style>\n",
              "    .colab-df-container {\n",
              "      display:flex;\n",
              "      gap: 12px;\n",
              "    }\n",
              "\n",
              "    .colab-df-convert {\n",
              "      background-color: #E8F0FE;\n",
              "      border: none;\n",
              "      border-radius: 50%;\n",
              "      cursor: pointer;\n",
              "      display: none;\n",
              "      fill: #1967D2;\n",
              "      height: 32px;\n",
              "      padding: 0 0 0 0;\n",
              "      width: 32px;\n",
              "    }\n",
              "\n",
              "    .colab-df-convert:hover {\n",
              "      background-color: #E2EBFA;\n",
              "      box-shadow: 0px 1px 2px rgba(60, 64, 67, 0.3), 0px 1px 3px 1px rgba(60, 64, 67, 0.15);\n",
              "      fill: #174EA6;\n",
              "    }\n",
              "\n",
              "    .colab-df-buttons div {\n",
              "      margin-bottom: 4px;\n",
              "    }\n",
              "\n",
              "    [theme=dark] .colab-df-convert {\n",
              "      background-color: #3B4455;\n",
              "      fill: #D2E3FC;\n",
              "    }\n",
              "\n",
              "    [theme=dark] .colab-df-convert:hover {\n",
              "      background-color: #434B5C;\n",
              "      box-shadow: 0px 1px 3px 1px rgba(0, 0, 0, 0.15);\n",
              "      filter: drop-shadow(0px 1px 2px rgba(0, 0, 0, 0.3));\n",
              "      fill: #FFFFFF;\n",
              "    }\n",
              "  </style>\n",
              "\n",
              "    <script>\n",
              "      const buttonEl =\n",
              "        document.querySelector('#df-87e5082e-474a-4708-8275-251e64b11195 button.colab-df-convert');\n",
              "      buttonEl.style.display =\n",
              "        google.colab.kernel.accessAllowed ? 'block' : 'none';\n",
              "\n",
              "      async function convertToInteractive(key) {\n",
              "        const element = document.querySelector('#df-87e5082e-474a-4708-8275-251e64b11195');\n",
              "        const dataTable =\n",
              "          await google.colab.kernel.invokeFunction('convertToInteractive',\n",
              "                                                    [key], {});\n",
              "        if (!dataTable) return;\n",
              "\n",
              "        const docLinkHtml = 'Like what you see? Visit the ' +\n",
              "          '<a target=\"_blank\" href=https://colab.research.google.com/notebooks/data_table.ipynb>data table notebook</a>'\n",
              "          + ' to learn more about interactive tables.';\n",
              "        element.innerHTML = '';\n",
              "        dataTable['output_type'] = 'display_data';\n",
              "        await google.colab.output.renderOutput(dataTable, element);\n",
              "        const docLink = document.createElement('div');\n",
              "        docLink.innerHTML = docLinkHtml;\n",
              "        element.appendChild(docLink);\n",
              "      }\n",
              "    </script>\n",
              "  </div>\n",
              "\n",
              "\n",
              "<div id=\"df-f640eb5a-b432-4a1b-b1a6-5186adc725d8\">\n",
              "  <button class=\"colab-df-quickchart\" onclick=\"quickchart('df-f640eb5a-b432-4a1b-b1a6-5186adc725d8')\"\n",
              "            title=\"Suggest charts\"\n",
              "            style=\"display:none;\">\n",
              "\n",
              "<svg xmlns=\"http://www.w3.org/2000/svg\" height=\"24px\"viewBox=\"0 0 24 24\"\n",
              "     width=\"24px\">\n",
              "    <g>\n",
              "        <path d=\"M19 3H5c-1.1 0-2 .9-2 2v14c0 1.1.9 2 2 2h14c1.1 0 2-.9 2-2V5c0-1.1-.9-2-2-2zM9 17H7v-7h2v7zm4 0h-2V7h2v10zm4 0h-2v-4h2v4z\"/>\n",
              "    </g>\n",
              "</svg>\n",
              "  </button>\n",
              "\n",
              "<style>\n",
              "  .colab-df-quickchart {\n",
              "      --bg-color: #E8F0FE;\n",
              "      --fill-color: #1967D2;\n",
              "      --hover-bg-color: #E2EBFA;\n",
              "      --hover-fill-color: #174EA6;\n",
              "      --disabled-fill-color: #AAA;\n",
              "      --disabled-bg-color: #DDD;\n",
              "  }\n",
              "\n",
              "  [theme=dark] .colab-df-quickchart {\n",
              "      --bg-color: #3B4455;\n",
              "      --fill-color: #D2E3FC;\n",
              "      --hover-bg-color: #434B5C;\n",
              "      --hover-fill-color: #FFFFFF;\n",
              "      --disabled-bg-color: #3B4455;\n",
              "      --disabled-fill-color: #666;\n",
              "  }\n",
              "\n",
              "  .colab-df-quickchart {\n",
              "    background-color: var(--bg-color);\n",
              "    border: none;\n",
              "    border-radius: 50%;\n",
              "    cursor: pointer;\n",
              "    display: none;\n",
              "    fill: var(--fill-color);\n",
              "    height: 32px;\n",
              "    padding: 0;\n",
              "    width: 32px;\n",
              "  }\n",
              "\n",
              "  .colab-df-quickchart:hover {\n",
              "    background-color: var(--hover-bg-color);\n",
              "    box-shadow: 0 1px 2px rgba(60, 64, 67, 0.3), 0 1px 3px 1px rgba(60, 64, 67, 0.15);\n",
              "    fill: var(--button-hover-fill-color);\n",
              "  }\n",
              "\n",
              "  .colab-df-quickchart-complete:disabled,\n",
              "  .colab-df-quickchart-complete:disabled:hover {\n",
              "    background-color: var(--disabled-bg-color);\n",
              "    fill: var(--disabled-fill-color);\n",
              "    box-shadow: none;\n",
              "  }\n",
              "\n",
              "  .colab-df-spinner {\n",
              "    border: 2px solid var(--fill-color);\n",
              "    border-color: transparent;\n",
              "    border-bottom-color: var(--fill-color);\n",
              "    animation:\n",
              "      spin 1s steps(1) infinite;\n",
              "  }\n",
              "\n",
              "  @keyframes spin {\n",
              "    0% {\n",
              "      border-color: transparent;\n",
              "      border-bottom-color: var(--fill-color);\n",
              "      border-left-color: var(--fill-color);\n",
              "    }\n",
              "    20% {\n",
              "      border-color: transparent;\n",
              "      border-left-color: var(--fill-color);\n",
              "      border-top-color: var(--fill-color);\n",
              "    }\n",
              "    30% {\n",
              "      border-color: transparent;\n",
              "      border-left-color: var(--fill-color);\n",
              "      border-top-color: var(--fill-color);\n",
              "      border-right-color: var(--fill-color);\n",
              "    }\n",
              "    40% {\n",
              "      border-color: transparent;\n",
              "      border-right-color: var(--fill-color);\n",
              "      border-top-color: var(--fill-color);\n",
              "    }\n",
              "    60% {\n",
              "      border-color: transparent;\n",
              "      border-right-color: var(--fill-color);\n",
              "    }\n",
              "    80% {\n",
              "      border-color: transparent;\n",
              "      border-right-color: var(--fill-color);\n",
              "      border-bottom-color: var(--fill-color);\n",
              "    }\n",
              "    90% {\n",
              "      border-color: transparent;\n",
              "      border-bottom-color: var(--fill-color);\n",
              "    }\n",
              "  }\n",
              "</style>\n",
              "\n",
              "  <script>\n",
              "    async function quickchart(key) {\n",
              "      const quickchartButtonEl =\n",
              "        document.querySelector('#' + key + ' button');\n",
              "      quickchartButtonEl.disabled = true;  // To prevent multiple clicks.\n",
              "      quickchartButtonEl.classList.add('colab-df-spinner');\n",
              "      try {\n",
              "        const charts = await google.colab.kernel.invokeFunction(\n",
              "            'suggestCharts', [key], {});\n",
              "      } catch (error) {\n",
              "        console.error('Error during call to suggestCharts:', error);\n",
              "      }\n",
              "      quickchartButtonEl.classList.remove('colab-df-spinner');\n",
              "      quickchartButtonEl.classList.add('colab-df-quickchart-complete');\n",
              "    }\n",
              "    (() => {\n",
              "      let quickchartButtonEl =\n",
              "        document.querySelector('#df-f640eb5a-b432-4a1b-b1a6-5186adc725d8 button');\n",
              "      quickchartButtonEl.style.display =\n",
              "        google.colab.kernel.accessAllowed ? 'block' : 'none';\n",
              "    })();\n",
              "  </script>\n",
              "</div>\n",
              "\n",
              "    </div>\n",
              "  </div>\n"
            ],
            "application/vnd.google.colaboratory.intrinsic+json": {
              "type": "dataframe",
              "repr_error": "Out of range float values are not JSON compliant: nan"
            }
          },
          "metadata": {},
          "execution_count": 52
        }
      ]
    },
    {
      "cell_type": "markdown",
      "source": [
        "### Cohen's d plot\n",
        "Edit plot aesthetics at https://acclab.github.io/DABEST-python/tutorials/09-plot_aesthetics.html"
      ],
      "metadata": {
        "id": "Oa3d6-bCESZc"
      }
    },
    {
      "cell_type": "code",
      "source": [
        "# Build the delta-delta estimation plot with Cohen's d\n",
        "unpaired_deltadelta.cohens_d.plot(\n",
        "    custom_palette=sns.color_palette(\"Set2\"), # color-blind friendly\n",
        "    contrast_label=\"Mean difference\",\n",
        "    fig_size=(12, 6),\n",
        "    raw_marker_size=2,\n",
        ");"
      ],
      "metadata": {
        "colab": {
          "base_uri": "https://localhost:8080/",
          "height": 557
        },
        "id": "4qC-kKCrEQVU",
        "outputId": "646fd953-f6f3-4843-dea6-048bd74ff420"
      },
      "execution_count": 53,
      "outputs": [
        {
          "output_type": "display_data",
          "data": {
            "text/plain": [
              "<Figure size 1200x600 with 2 Axes>"
            ],
            "image/png": "[encoded data removed]"
          },
          "metadata": {}
        }
      ]
    }
  ]
}